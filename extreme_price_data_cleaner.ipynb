{
 "cells": [
  {
   "cell_type": "code",
   "execution_count": 1,
   "id": "2097a965-9fd3-4207-8b82-0601a7017dd9",
   "metadata": {},
   "outputs": [],
   "source": [
    "import pandas as pd\n",
    "import numpy as np\n",
    "import matplotlib.pyplot as plt\n",
    "import dask.dataframe as dd\n",
    "import dask.array as da\n",
    "import dask.bag as db"
   ]
  },
  {
   "cell_type": "code",
   "execution_count": 8,
   "id": "e9a5c9d1-78b9-44ce-bac8-3be199553bc0",
   "metadata": {
    "tags": []
   },
   "outputs": [],
   "source": [
    "def data_prep(columns, filepath=\"./data/parquet/data-*.parquet\"):\n",
    "    ddf = dd.read_parquet(\"./data/parquet/data-*.parquet\")\n",
    "    \n",
    "    return ddf.loc[:, columns]"
   ]
  },
  {
   "cell_type": "code",
   "execution_count": 9,
   "id": "6e52bf38-1170-4ae7-b237-76ced1b63f52",
   "metadata": {},
   "outputs": [],
   "source": [
    "price_info = ['Item Number', 'State Bottle Cost', 'State Bottle Retail', \"Date\"]"
   ]
  },
  {
   "cell_type": "code",
   "execution_count": 10,
   "id": "1de0a5a4-daef-4802-96b2-76e9503ab32e",
   "metadata": {},
   "outputs": [],
   "source": [
    "ddf = data_prep(price_info)"
   ]
  },
  {
   "cell_type": "code",
   "execution_count": 12,
   "id": "9041c19c-7a99-4aeb-b3bb-1bf5d81b0f2e",
   "metadata": {},
   "outputs": [],
   "source": [
    "ddf.columns = [x.replace(\" \", \"\") for x in ddf.columns]"
   ]
  },
  {
   "cell_type": "code",
   "execution_count": 14,
   "id": "ead84f0f-4803-4b17-8c1d-5a0d64d93aa9",
   "metadata": {},
   "outputs": [],
   "source": [
    "unique_Idx = ddf.ItemNumber.unique().compute()"
   ]
  },
  {
   "cell_type": "code",
   "execution_count": 15,
   "id": "b95c642b-468a-48e6-af79-1177a5976780",
   "metadata": {},
   "outputs": [
    {
     "data": {
      "text/plain": [
       "11013"
      ]
     },
     "execution_count": 15,
     "metadata": {},
     "output_type": "execute_result"
    }
   ],
   "source": [
    "len(unique_Idx)"
   ]
  },
  {
   "cell_type": "code",
   "execution_count": 22,
   "id": "06aa0786-9542-43a5-9221-5b4061ddd92d",
   "metadata": {},
   "outputs": [],
   "source": [
    "import os"
   ]
  },
  {
   "cell_type": "code",
   "execution_count": 23,
   "id": "9511936d-3c85-402f-bd6a-867b6c8d24ce",
   "metadata": {},
   "outputs": [],
   "source": [
    "os.remove('./test.csv')"
   ]
  },
  {
   "cell_type": "code",
   "execution_count": 25,
   "id": "ec6de69c-a559-4dc7-a3df-500fda67b8ea",
   "metadata": {},
   "outputs": [
    {
     "name": "stdout",
     "output_type": "stream",
     "text": [
      "CPU times: user 1min 22s, sys: 13.4 s, total: 1min 36s\n",
      "Wall time: 1min 26s\n"
     ]
    }
   ],
   "source": [
    "%%time\n",
    "\n",
    "for idx in unique_Idx[:2]:\n",
    "    replace = ddf[ddf.ItemNumber == idx].compute()\n",
    "    replace.Date = pd.to_datetime(replace['Date'])\n",
    "    replace.groupby([\"ItemNumber\", \"StateBottleCost\", \"StateBottleRetail\"]).agg(['min', 'max']).reset_index().to_csv('./test.csv', mode = 'a')\n",
    "    \n",
    "    reduce.to_csv('./test.csv', mode = 'a')"
   ]
  }
 ],
 "metadata": {
  "kernelspec": {
   "display_name": "Python 3 (ipykernel)",
   "language": "python",
   "name": "python3"
  },
  "language_info": {
   "codemirror_mode": {
    "name": "ipython",
    "version": 3
   },
   "file_extension": ".py",
   "mimetype": "text/x-python",
   "name": "python",
   "nbconvert_exporter": "python",
   "pygments_lexer": "ipython3",
   "version": "3.9.9"
  }
 },
 "nbformat": 4,
 "nbformat_minor": 5
}
