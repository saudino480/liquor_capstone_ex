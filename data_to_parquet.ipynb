{
 "cells": [
  {
   "cell_type": "code",
   "execution_count": 1,
   "id": "8144ac49-1af1-4900-b2d5-c6f85eaea50e",
   "metadata": {},
   "outputs": [],
   "source": [
    "import pandas as pd\n",
    "import numpy as np\n",
    "import matplotlib.pyplot as plt\n",
    "import dask.dataframe as dd\n",
    "import dask.array as da\n",
    "import dask.bag as db"
   ]
  },
  {
   "cell_type": "code",
   "execution_count": 2,
   "id": "679569c2-9458-48f4-892e-83a143062466",
   "metadata": {},
   "outputs": [],
   "source": [
    "ddf = dd.read_csv(\"Iowa_Liquor_Sales.csv\", dtype={'Category': 'float64',\n",
    "                                                  'County Number': 'float64',\n",
    "                                                  'Zip Code': 'object',\n",
    "                                                  'Vendor Number': 'float64',\n",
    "                                                  'Item Number': 'object'},\n",
    "                                            blocksize = \"10MB\").reset_index()\n",
    "#test = ddf[['Date']]"
   ]
  },
  {
   "cell_type": "code",
   "execution_count": null,
   "id": "ed695863-a4dd-4d06-b2ce-493dd76c1964",
   "metadata": {
    "jupyter": {
     "source_hidden": true
    },
    "tags": []
   },
   "outputs": [],
   "source": [
    "test = test.compute().apply(lambda x: x[-4:], axis = 1).reset_index()\n",
    "test = test[['Date']]\n",
    "ddf = dd.merge(ddf, test, left_index = True, right_index = True, how = \"left\")\n",
    "ddf.columns = [x if x != \"Date_x\" else \"Date\" for x in ddf.columns]\n",
    "ddf.columns = [x if x != \"Date_y\" else \"Year\" for x in ddf.columns]"
   ]
  },
  {
   "cell_type": "code",
   "execution_count": null,
   "id": "fc72cf01-ee8c-4845-92c0-13d6fc6d6fa8",
   "metadata": {
    "collapsed": true,
    "jupyter": {
     "outputs_hidden": true,
     "source_hidden": true
    },
    "tags": []
   },
   "outputs": [
    {
     "name": "stderr",
     "output_type": "stream",
     "text": [
      "ERROR:root:Internal Python error in the inspect module.\n",
      "Below is the traceback from this internal error.\n",
      "\n"
     ]
    }
   ],
   "source": [
    "test.apply(lambda x: x[-4:], axis=1,  meta = {\"Date\" : \"object\"}).compute()"
   ]
  },
  {
   "cell_type": "code",
   "execution_count": 26,
   "id": "763544ad-2045-4540-808b-83d648eaab07",
   "metadata": {},
   "outputs": [
    {
     "data": {
      "text/plain": [
       "23346088"
      ]
     },
     "execution_count": 26,
     "metadata": {},
     "output_type": "execute_result"
    }
   ],
   "source": [
    "ddf.shape[0].compute()"
   ]
  },
  {
   "cell_type": "code",
   "execution_count": 3,
   "id": "d4b724d4-0994-4514-a10a-836368490838",
   "metadata": {},
   "outputs": [
    {
     "data": {
      "text/plain": [
       "(None,)"
      ]
     },
     "execution_count": 3,
     "metadata": {},
     "output_type": "execute_result"
    }
   ],
   "source": [
    "ddf.to_parquet('./data/parquet/', name_function = lambda x: f\"data-{x}.parquet\")"
   ]
  },
  {
   "cell_type": "code",
   "execution_count": 28,
   "id": "40f688f2-0798-40e7-8985-000b70779e64",
   "metadata": {},
   "outputs": [
    {
     "data": {
      "text/html": [
       "<div>\n",
       "<style scoped>\n",
       "    .dataframe tbody tr th:only-of-type {\n",
       "        vertical-align: middle;\n",
       "    }\n",
       "\n",
       "    .dataframe tbody tr th {\n",
       "        vertical-align: top;\n",
       "    }\n",
       "\n",
       "    .dataframe thead th {\n",
       "        text-align: right;\n",
       "    }\n",
       "</style>\n",
       "<table border=\"1\" class=\"dataframe\">\n",
       "  <thead>\n",
       "    <tr style=\"text-align: right;\">\n",
       "      <th></th>\n",
       "      <th>index</th>\n",
       "      <th>Invoice/Item Number</th>\n",
       "      <th>Date</th>\n",
       "      <th>Store Number</th>\n",
       "      <th>Store Name</th>\n",
       "      <th>Address</th>\n",
       "      <th>City</th>\n",
       "      <th>Zip Code</th>\n",
       "      <th>Store Location</th>\n",
       "      <th>County Number</th>\n",
       "      <th>...</th>\n",
       "      <th>Item Description</th>\n",
       "      <th>Pack</th>\n",
       "      <th>Bottle Volume (ml)</th>\n",
       "      <th>State Bottle Cost</th>\n",
       "      <th>State Bottle Retail</th>\n",
       "      <th>Bottles Sold</th>\n",
       "      <th>Sale (Dollars)</th>\n",
       "      <th>Volume Sold (Liters)</th>\n",
       "      <th>Volume Sold (Gallons)</th>\n",
       "      <th>Year</th>\n",
       "    </tr>\n",
       "  </thead>\n",
       "  <tbody>\n",
       "    <tr>\n",
       "      <th>0</th>\n",
       "      <td>0</td>\n",
       "      <td>S12495000021</td>\n",
       "      <td>05/30/2013</td>\n",
       "      <td>3525</td>\n",
       "      <td>Wines and Spirits</td>\n",
       "      <td>106 W 2ND ST</td>\n",
       "      <td>WASHINGTON</td>\n",
       "      <td>52353</td>\n",
       "      <td>POINT (-91.692214 41.300399)</td>\n",
       "      <td>92.0</td>\n",
       "      <td>...</td>\n",
       "      <td>Five O'clock PET Vodka</td>\n",
       "      <td>12</td>\n",
       "      <td>750</td>\n",
       "      <td>3.37</td>\n",
       "      <td>5.06</td>\n",
       "      <td>12</td>\n",
       "      <td>60.72</td>\n",
       "      <td>9.0</td>\n",
       "      <td>2.38</td>\n",
       "      <td>03/25/2015</td>\n",
       "    </tr>\n",
       "    <tr>\n",
       "      <th>1</th>\n",
       "      <td>1</td>\n",
       "      <td>S18125600027</td>\n",
       "      <td>03/27/2014</td>\n",
       "      <td>3909</td>\n",
       "      <td>D And S Grocery</td>\n",
       "      <td>104 SE  A ST</td>\n",
       "      <td>MELCHER-DALLAS</td>\n",
       "      <td>50163</td>\n",
       "      <td>POINT (-93.24163400000002 41.222471)</td>\n",
       "      <td>63.0</td>\n",
       "      <td>...</td>\n",
       "      <td>Five Star</td>\n",
       "      <td>24</td>\n",
       "      <td>375</td>\n",
       "      <td>2.00</td>\n",
       "      <td>2.99</td>\n",
       "      <td>8</td>\n",
       "      <td>23.92</td>\n",
       "      <td>3.0</td>\n",
       "      <td>0.79</td>\n",
       "      <td>02/20/2013</td>\n",
       "    </tr>\n",
       "    <tr>\n",
       "      <th>2</th>\n",
       "      <td>2</td>\n",
       "      <td>S21049000029</td>\n",
       "      <td>09/04/2014</td>\n",
       "      <td>2152</td>\n",
       "      <td>Dugans Supermarket</td>\n",
       "      <td>202 4TH NORTH</td>\n",
       "      <td>ROCKWELL</td>\n",
       "      <td>50469</td>\n",
       "      <td>POINT (-93.188172 42.986351000000006)</td>\n",
       "      <td>17.0</td>\n",
       "      <td>...</td>\n",
       "      <td>Rich &amp; Rare Canadian Whisky</td>\n",
       "      <td>6</td>\n",
       "      <td>1750</td>\n",
       "      <td>8.98</td>\n",
       "      <td>13.47</td>\n",
       "      <td>2</td>\n",
       "      <td>26.94</td>\n",
       "      <td>3.5</td>\n",
       "      <td>0.92</td>\n",
       "      <td>11/28/2012</td>\n",
       "    </tr>\n",
       "    <tr>\n",
       "      <th>3</th>\n",
       "      <td>3</td>\n",
       "      <td>S25095700018</td>\n",
       "      <td>04/15/2015</td>\n",
       "      <td>3715</td>\n",
       "      <td>Kimberly Mart / Davenport</td>\n",
       "      <td>1714 E KIMBERLY RD</td>\n",
       "      <td>DAVENPORT</td>\n",
       "      <td>52807</td>\n",
       "      <td>POINT (-90.550657 41.556966)</td>\n",
       "      <td>82.0</td>\n",
       "      <td>...</td>\n",
       "      <td>Hennessy Vs Cognac</td>\n",
       "      <td>12</td>\n",
       "      <td>750</td>\n",
       "      <td>18.99</td>\n",
       "      <td>28.49</td>\n",
       "      <td>4</td>\n",
       "      <td>113.96</td>\n",
       "      <td>3.0</td>\n",
       "      <td>0.79</td>\n",
       "      <td>09/03/2015</td>\n",
       "    </tr>\n",
       "    <tr>\n",
       "      <th>4</th>\n",
       "      <td>4</td>\n",
       "      <td>S13846100032</td>\n",
       "      <td>08/15/2013</td>\n",
       "      <td>4288</td>\n",
       "      <td>Uptown Liquor and Tobacco</td>\n",
       "      <td>2000 WILEY BLVD SW STE 106</td>\n",
       "      <td>CEDAR RAPIDS</td>\n",
       "      <td>52404</td>\n",
       "      <td>POINT (-91.725777 41.959614)</td>\n",
       "      <td>57.0</td>\n",
       "      <td>...</td>\n",
       "      <td>Paul Masson Grande Amber Brandy</td>\n",
       "      <td>12</td>\n",
       "      <td>750</td>\n",
       "      <td>6.29</td>\n",
       "      <td>9.44</td>\n",
       "      <td>4</td>\n",
       "      <td>37.76</td>\n",
       "      <td>3.0</td>\n",
       "      <td>0.79</td>\n",
       "      <td>NaN</td>\n",
       "    </tr>\n",
       "  </tbody>\n",
       "</table>\n",
       "<p>5 rows × 26 columns</p>\n",
       "</div>"
      ],
      "text/plain": [
       "   index Invoice/Item Number        Date  Store Number  \\\n",
       "0      0        S12495000021  05/30/2013          3525   \n",
       "1      1        S18125600027  03/27/2014          3909   \n",
       "2      2        S21049000029  09/04/2014          2152   \n",
       "3      3        S25095700018  04/15/2015          3715   \n",
       "4      4        S13846100032  08/15/2013          4288   \n",
       "\n",
       "                  Store Name                     Address            City  \\\n",
       "0          Wines and Spirits                106 W 2ND ST      WASHINGTON   \n",
       "1            D And S Grocery                104 SE  A ST  MELCHER-DALLAS   \n",
       "2         Dugans Supermarket               202 4TH NORTH        ROCKWELL   \n",
       "3  Kimberly Mart / Davenport          1714 E KIMBERLY RD       DAVENPORT   \n",
       "4  Uptown Liquor and Tobacco  2000 WILEY BLVD SW STE 106    CEDAR RAPIDS   \n",
       "\n",
       "  Zip Code                         Store Location  County Number  ...  \\\n",
       "0    52353           POINT (-91.692214 41.300399)           92.0  ...   \n",
       "1    50163   POINT (-93.24163400000002 41.222471)           63.0  ...   \n",
       "2    50469  POINT (-93.188172 42.986351000000006)           17.0  ...   \n",
       "3    52807           POINT (-90.550657 41.556966)           82.0  ...   \n",
       "4    52404           POINT (-91.725777 41.959614)           57.0  ...   \n",
       "\n",
       "                  Item Description  Pack Bottle Volume (ml)  \\\n",
       "0           Five O'clock PET Vodka    12                750   \n",
       "1                        Five Star    24                375   \n",
       "2      Rich & Rare Canadian Whisky     6               1750   \n",
       "3               Hennessy Vs Cognac    12                750   \n",
       "4  Paul Masson Grande Amber Brandy    12                750   \n",
       "\n",
       "   State Bottle Cost State Bottle Retail Bottles Sold Sale (Dollars)  \\\n",
       "0               3.37                5.06           12          60.72   \n",
       "1               2.00                2.99            8          23.92   \n",
       "2               8.98               13.47            2          26.94   \n",
       "3              18.99               28.49            4         113.96   \n",
       "4               6.29                9.44            4          37.76   \n",
       "\n",
       "   Volume Sold (Liters)  Volume Sold (Gallons)        Year  \n",
       "0                   9.0                   2.38  03/25/2015  \n",
       "1                   3.0                   0.79  02/20/2013  \n",
       "2                   3.5                   0.92  11/28/2012  \n",
       "3                   3.0                   0.79  09/03/2015  \n",
       "4                   3.0                   0.79         NaN  \n",
       "\n",
       "[5 rows x 26 columns]"
      ]
     },
     "execution_count": 28,
     "metadata": {},
     "output_type": "execute_result"
    }
   ],
   "source": [
    "ddf.head()"
   ]
  }
 ],
 "metadata": {
  "kernelspec": {
   "display_name": "Python 3 (ipykernel)",
   "language": "python",
   "name": "python3"
  },
  "language_info": {
   "codemirror_mode": {
    "name": "ipython",
    "version": 3
   },
   "file_extension": ".py",
   "mimetype": "text/x-python",
   "name": "python",
   "nbconvert_exporter": "python",
   "pygments_lexer": "ipython3",
   "version": "3.9.9"
  }
 },
 "nbformat": 4,
 "nbformat_minor": 5
}
