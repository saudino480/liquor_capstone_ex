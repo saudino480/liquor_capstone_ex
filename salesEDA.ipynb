{
 "cells": [
  {
   "cell_type": "code",
   "execution_count": 1,
   "id": "4296b283-0871-4eaf-8245-574234639a52",
   "metadata": {},
   "outputs": [],
   "source": [
    "import pandas as pd\n",
    "import numpy as np\n",
    "import matplotlib.pyplot as plt\n",
    "import dask.dataframe as dd\n",
    "import dask.array as da\n",
    "import dask.bag as db"
   ]
  },
  {
   "cell_type": "code",
   "execution_count": 2,
   "id": "abe78852-450f-4576-b03b-b95deb7972ed",
   "metadata": {
    "jupyter": {
     "source_hidden": true
    },
    "tags": []
   },
   "outputs": [],
   "source": [
    "def product_lookup(itemNumbers):\n",
    "    \n",
    "    if isinstance(itemNumbers, int):\n",
    "        itemNumbers = [itemNumbers]\n",
    "        \n",
    "    db = product_info[product_info.ItemNumber.isin(itemNumbers)]\n",
    "        \n",
    "    \n",
    "    if db.shape[0] == 0:\n",
    "        return \"No item found\"\n",
    "    \n",
    "    return db\n",
    "\n",
    "def revenue_stitcher(invoices, itemNumbers, all_time = False):\n",
    "    \n",
    "    items = product_lookup(itemNumbers)\n",
    "\n",
    "    if all_time:\n",
    "        sales = invoices[invoices.ItemNumber.isin(itemNumbers)]\n",
    "\n",
    "        new_df = pd.merge(items, sales)\n",
    "\n",
    "        del items\n",
    "        del sales\n",
    "\n",
    "        new_df['ProfitPerBottle'] = new_df.StateBottleRetail - new_df.StateBottleCost\n",
    "        new_df['ProfitPerCase'] = new_df.StateBottleRetail * new_df.Pack - new_df.StateCaseCost\n",
    "\n",
    "        new_df['Overall_Revenue'] = new_df.BottlesSold * new_df.StateBottleRetail\n",
    "        new_df['Overall_Profit'] = new_df.ProfitPerBottle * new_df.BottlesSold\n",
    "\n",
    "        return new_df\n",
    "    \n",
    "    else:\n",
    "        sales = invoices[invoices.ItemNumber.isin(itemNumbers)]\n",
    "\n",
    "        sales = sales.pivot(index='ItemNumber', columns = 'Year', values = ['BottlesSold', 'UniqueTransactions']).fillna(0)\n",
    "\n",
    "        sales.columns = [x[0]+\"_\"+x[1] for x in sales_pivot.columns.to_flat_index()]\n",
    "\n",
    "        new_df = pd.merge(items, sales, left_on = 'ItemNumber', right_index = True)\n",
    "        \n",
    "        #tbd\n",
    "        "
   ]
  },
  {
   "cell_type": "code",
   "execution_count": 3,
   "id": "e50a4eea-2ca3-4e2c-9843-2f76f06a3add",
   "metadata": {},
   "outputs": [],
   "source": [
    "alltime_sales = pd.read_csv('./data/alltime_sales.csv')\n",
    "yearly_sales = pd.read_csv('./data/yearly_sales.csv')"
   ]
  },
  {
   "cell_type": "code",
   "execution_count": 5,
   "id": "0e7f47ea-5eda-49e6-9ccb-7f3fc9b97dd3",
   "metadata": {},
   "outputs": [],
   "source": [
    "product_info = pd.read_csv('./data/Iowa_Liquor_Products.csv')"
   ]
  },
  {
   "cell_type": "code",
   "execution_count": null,
   "id": "ec9c6ba8-0ac9-4e22-a2d7-89959cf9247e",
   "metadata": {},
   "outputs": [],
   "source": []
  }
 ],
 "metadata": {
  "kernelspec": {
   "display_name": "Python 3 (ipykernel)",
   "language": "python",
   "name": "python3"
  },
  "language_info": {
   "codemirror_mode": {
    "name": "ipython",
    "version": 3
   },
   "file_extension": ".py",
   "mimetype": "text/x-python",
   "name": "python",
   "nbconvert_exporter": "python",
   "pygments_lexer": "ipython3",
   "version": "3.9.9"
  }
 },
 "nbformat": 4,
 "nbformat_minor": 5
}
