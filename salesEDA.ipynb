{
 "cells": [
  {
   "cell_type": "code",
   "execution_count": 6,
   "id": "4296b283-0871-4eaf-8245-574234639a52",
   "metadata": {},
   "outputs": [],
   "source": [
    "import pandas as pd\n",
    "import numpy as np\n",
    "import matplotlib.pyplot as plt\n",
    "import dask.dataframe as dd\n",
    "import dask.array as da\n",
    "import dask.bag as db"
   ]
  },
  {
   "cell_type": "code",
   "execution_count": 2,
   "id": "abe78852-450f-4576-b03b-b95deb7972ed",
   "metadata": {
    "jupyter": {
     "source_hidden": true
    },
    "tags": []
   },
   "outputs": [],
   "source": [
    "def product_lookup(itemNumbers):\n",
    "    \n",
    "    if isinstance(itemNumbers, int):\n",
    "        itemNumbers = [itemNumbers]\n",
    "        \n",
    "    db = product_info[product_info.ItemNumber.isin(itemNumbers)]\n",
    "        \n",
    "    \n",
    "    if db.shape[0] == 0:\n",
    "        return \"No item found\"\n",
    "    \n",
    "    return db\n",
    "\n",
    "def revenue_stitcher(invoices, itemNumbers, all_time = False):\n",
    "    \n",
    "    items = product_lookup(itemNumbers)\n",
    "\n",
    "    if all_time:\n",
    "        sales = invoices[invoices.ItemNumber.isin(itemNumbers)]\n",
    "\n",
    "        new_df = pd.merge(items, sales)\n",
    "\n",
    "        del items\n",
    "        del sales\n",
    "\n",
    "        new_df['ProfitPerBottle'] = new_df.StateBottleRetail - new_df.StateBottleCost\n",
    "        new_df['ProfitPerCase'] = new_df.StateBottleRetail * new_df.Pack - new_df.StateCaseCost\n",
    "\n",
    "        new_df['Overall_Revenue'] = new_df.BottlesSold * new_df.StateBottleRetail\n",
    "        new_df['Overall_Profit'] = new_df.ProfitPerBottle * new_df.BottlesSold\n",
    "\n",
    "        return new_df\n",
    "    \n",
    "    else:\n",
    "        sales = invoices[invoices.ItemNumber.isin(itemNumbers)]\n",
    "\n",
    "        sales = sales.pivot(index='ItemNumber', columns = 'Year', values = ['BottlesSold', 'UniqueTransactions']).fillna(0)\n",
    "\n",
    "        sales.columns = [x[0]+\"_\"+x[1] for x in sales_pivot.columns.to_flat_index()]\n",
    "\n",
    "        new_df = pd.merge(items, sales, left_on = 'ItemNumber', right_index = True)\n",
    "        \n",
    "        #tbd\n",
    "        "
   ]
  },
  {
   "cell_type": "code",
   "execution_count": 3,
   "id": "e50a4eea-2ca3-4e2c-9843-2f76f06a3add",
   "metadata": {},
   "outputs": [],
   "source": [
    "alltime_sales = pd.read_csv('./data/alltime_sales.csv')\n",
    "yearly_sales = pd.read_csv('./data/yearly_sales.csv')"
   ]
  },
  {
   "cell_type": "code",
   "execution_count": 2,
   "id": "0e7f47ea-5eda-49e6-9ccb-7f3fc9b97dd3",
   "metadata": {},
   "outputs": [],
   "source": [
    "product_info = pd.read_csv('./data/Iowa_Liquor_Products.csv')"
   ]
  },
  {
   "cell_type": "code",
   "execution_count": 3,
   "id": "ec9c6ba8-0ac9-4e22-a2d7-89959cf9247e",
   "metadata": {},
   "outputs": [
    {
     "data": {
      "text/plain": [
       "Index(['Item Number', 'Category Name', 'Item Description', 'Vendor',\n",
       "       'Vendor Name', 'Bottle Volume (ml)', 'Pack', 'Inner Pack', 'Age',\n",
       "       'Proof', 'List Date', 'UPC', 'SCC', 'State Bottle Cost',\n",
       "       'State Case Cost', 'State Bottle Retail', 'Report Date'],\n",
       "      dtype='object')"
      ]
     },
     "execution_count": 3,
     "metadata": {},
     "output_type": "execute_result"
    }
   ],
   "source": [
    "product_info.columns"
   ]
  },
  {
   "cell_type": "code",
   "execution_count": 13,
   "id": "012cbc58-db24-4ae5-b644-959cab9ef6bc",
   "metadata": {},
   "outputs": [
    {
     "data": {
      "text/plain": [
       "0"
      ]
     },
     "execution_count": 13,
     "metadata": {},
     "output_type": "execute_result"
    }
   ],
   "source": [
    "sum(product_info['Category Name'].str.contains('whiskey'))"
   ]
  },
  {
   "cell_type": "code",
   "execution_count": 37,
   "id": "943bfb06-800c-4ff0-8ae5-9275fe9a0aef",
   "metadata": {},
   "outputs": [],
   "source": [
    "idx = product_info.loc[product_info['Item Description'].str.contains('bucket', case = False) & product_info['Pack'] == 1, 'Pack'].index"
   ]
  },
  {
   "cell_type": "code",
   "execution_count": 38,
   "id": "9392e6f3-b634-4d41-b093-6034697bc8e3",
   "metadata": {},
   "outputs": [
    {
     "data": {
      "text/plain": [
       "Int64Index([8202, 9554, 9793], dtype='int64')"
      ]
     },
     "execution_count": 38,
     "metadata": {},
     "output_type": "execute_result"
    }
   ],
   "source": [
    "idx"
   ]
  },
  {
   "cell_type": "code",
   "execution_count": 42,
   "id": "428cb969-2d42-4b35-a8e7-ca6bc9ee9b93",
   "metadata": {},
   "outputs": [],
   "source": [
    "product_info.loc[idx[0], 'Pack'] = 6\n",
    "product_info.loc[idx[1], 'Pack'] = 6\n",
    "product_info.loc[idx[2], 'Pack'] = 6"
   ]
  },
  {
   "cell_type": "code",
   "execution_count": 43,
   "id": "430a7efb-f7e3-4ca1-8e87-d3db8fc2ddd8",
   "metadata": {},
   "outputs": [],
   "source": [
    "price = 51.6/6\n",
    "retail = 77.4/6"
   ]
  },
  {
   "cell_type": "code",
   "execution_count": 47,
   "id": "2f4ead71-3c71-4862-819d-8622dd8d0b49",
   "metadata": {},
   "outputs": [],
   "source": [
    "product_info.loc[idx[0], 'State Bottle Cost'] = price\n",
    "product_info.loc[idx[1], 'State Bottle Cost'] = price\n",
    "product_info.loc[idx[2], 'State Bottle Cost'] = price"
   ]
  },
  {
   "cell_type": "code",
   "execution_count": 48,
   "id": "89033bb2-3d7a-44b0-a820-f662d42e9a0d",
   "metadata": {},
   "outputs": [],
   "source": [
    "product_info.loc[idx[0], 'State Bottle Retail'] = retail\n",
    "product_info.loc[idx[1], 'State Bottle Retail'] = retail\n",
    "product_info.loc[idx[2], 'State Bottle Retail'] = retail"
   ]
  },
  {
   "cell_type": "code",
   "execution_count": 49,
   "id": "ad3c6c6e-79e8-40db-84c1-a7dd6935726c",
   "metadata": {},
   "outputs": [
    {
     "data": {
      "text/html": [
       "<div>\n",
       "<style scoped>\n",
       "    .dataframe tbody tr th:only-of-type {\n",
       "        vertical-align: middle;\n",
       "    }\n",
       "\n",
       "    .dataframe tbody tr th {\n",
       "        vertical-align: top;\n",
       "    }\n",
       "\n",
       "    .dataframe thead th {\n",
       "        text-align: right;\n",
       "    }\n",
       "</style>\n",
       "<table border=\"1\" class=\"dataframe\">\n",
       "  <thead>\n",
       "    <tr style=\"text-align: right;\">\n",
       "      <th></th>\n",
       "      <th>Item Number</th>\n",
       "      <th>Category Name</th>\n",
       "      <th>Item Description</th>\n",
       "      <th>Vendor</th>\n",
       "      <th>Vendor Name</th>\n",
       "      <th>Bottle Volume (ml)</th>\n",
       "      <th>Pack</th>\n",
       "      <th>Inner Pack</th>\n",
       "      <th>Age</th>\n",
       "      <th>Proof</th>\n",
       "      <th>List Date</th>\n",
       "      <th>UPC</th>\n",
       "      <th>SCC</th>\n",
       "      <th>State Bottle Cost</th>\n",
       "      <th>State Case Cost</th>\n",
       "      <th>State Bottle Retail</th>\n",
       "      <th>Report Date</th>\n",
       "    </tr>\n",
       "  </thead>\n",
       "  <tbody>\n",
       "    <tr>\n",
       "      <th>8202</th>\n",
       "      <td>100413</td>\n",
       "      <td>Whiskey Liqueur</td>\n",
       "      <td>Fireball Cinnamon Whiskey Party Bucket</td>\n",
       "      <td>421</td>\n",
       "      <td>SAZERAC COMPANY  INC</td>\n",
       "      <td>50</td>\n",
       "      <td>6</td>\n",
       "      <td>120</td>\n",
       "      <td>0</td>\n",
       "      <td>66</td>\n",
       "      <td>04/01/2020</td>\n",
       "      <td>8.800403e+10</td>\n",
       "      <td>17503006845144</td>\n",
       "      <td>8.6</td>\n",
       "      <td>51.6</td>\n",
       "      <td>12.9</td>\n",
       "      <td>04/01/2022</td>\n",
       "    </tr>\n",
       "    <tr>\n",
       "      <th>9554</th>\n",
       "      <td>101539</td>\n",
       "      <td>Temporary &amp; Specialty Packages</td>\n",
       "      <td>Southern Comfort Party Bucket Mini</td>\n",
       "      <td>421</td>\n",
       "      <td>SAZERAC COMPANY  INC</td>\n",
       "      <td>50</td>\n",
       "      <td>6</td>\n",
       "      <td>120</td>\n",
       "      <td>0</td>\n",
       "      <td>100</td>\n",
       "      <td>03/01/2022</td>\n",
       "      <td>8.800404e+10</td>\n",
       "      <td>17503006845144</td>\n",
       "      <td>8.6</td>\n",
       "      <td>51.6</td>\n",
       "      <td>12.9</td>\n",
       "      <td>04/01/2022</td>\n",
       "    </tr>\n",
       "    <tr>\n",
       "      <th>9793</th>\n",
       "      <td>100861</td>\n",
       "      <td>American Cordials &amp; Liqueur</td>\n",
       "      <td>99 Party Bucket Minis</td>\n",
       "      <td>421</td>\n",
       "      <td>SAZERAC COMPANY  INC</td>\n",
       "      <td>50</td>\n",
       "      <td>6</td>\n",
       "      <td>120</td>\n",
       "      <td>0</td>\n",
       "      <td>99</td>\n",
       "      <td>09/01/2021</td>\n",
       "      <td>8.800403e+10</td>\n",
       "      <td>17503006845144</td>\n",
       "      <td>8.6</td>\n",
       "      <td>51.6</td>\n",
       "      <td>12.9</td>\n",
       "      <td>04/01/2022</td>\n",
       "    </tr>\n",
       "  </tbody>\n",
       "</table>\n",
       "</div>"
      ],
      "text/plain": [
       "     Item Number                   Category Name  \\\n",
       "8202      100413                 Whiskey Liqueur   \n",
       "9554      101539  Temporary & Specialty Packages   \n",
       "9793      100861     American Cordials & Liqueur   \n",
       "\n",
       "                            Item Description  Vendor           Vendor Name  \\\n",
       "8202  Fireball Cinnamon Whiskey Party Bucket     421  SAZERAC COMPANY  INC   \n",
       "9554      Southern Comfort Party Bucket Mini     421  SAZERAC COMPANY  INC   \n",
       "9793                   99 Party Bucket Minis     421  SAZERAC COMPANY  INC   \n",
       "\n",
       "      Bottle Volume (ml)  Pack  Inner Pack  Age  Proof   List Date  \\\n",
       "8202                  50     6         120    0     66  04/01/2020   \n",
       "9554                  50     6         120    0    100  03/01/2022   \n",
       "9793                  50     6         120    0     99  09/01/2021   \n",
       "\n",
       "               UPC             SCC  State Bottle Cost  State Case Cost  \\\n",
       "8202  8.800403e+10  17503006845144                8.6             51.6   \n",
       "9554  8.800404e+10  17503006845144                8.6             51.6   \n",
       "9793  8.800403e+10  17503006845144                8.6             51.6   \n",
       "\n",
       "      State Bottle Retail Report Date  \n",
       "8202                 12.9  04/01/2022  \n",
       "9554                 12.9  04/01/2022  \n",
       "9793                 12.9  04/01/2022  "
      ]
     },
     "execution_count": 49,
     "metadata": {},
     "output_type": "execute_result"
    }
   ],
   "source": [
    "product_info.loc[idx]"
   ]
  },
  {
   "cell_type": "code",
   "execution_count": 52,
   "id": "744345ff-35e4-44c3-8035-7620015b3e06",
   "metadata": {},
   "outputs": [],
   "source": [
    "product_info.columns = [x.replace(\" \", \"\") if x != \"BottleVolume(ml)\" else \"BottleVolume\" for x in product_info.columns]"
   ]
  },
  {
   "cell_type": "code",
   "execution_count": 55,
   "id": "546eb1cd-be55-46a2-9a02-58eef057eaa5",
   "metadata": {},
   "outputs": [],
   "source": [
    "product_info.drop(['UPC', 'SCC', 'ReportDate'], inplace = True, axis = 1)"
   ]
  },
  {
   "cell_type": "code",
   "execution_count": 57,
   "id": "ba182b12-1da8-46cb-b5f8-461fe8f1898d",
   "metadata": {
    "tags": []
   },
   "outputs": [],
   "source": [
    "product_info.to_csv('./data/liquor_product_clean.csv')"
   ]
  }
 ],
 "metadata": {
  "kernelspec": {
   "display_name": "Python 3 (ipykernel)",
   "language": "python",
   "name": "python3"
  },
  "language_info": {
   "codemirror_mode": {
    "name": "ipython",
    "version": 3
   },
   "file_extension": ".py",
   "mimetype": "text/x-python",
   "name": "python",
   "nbconvert_exporter": "python",
   "pygments_lexer": "ipython3",
   "version": "3.9.9"
  }
 },
 "nbformat": 4,
 "nbformat_minor": 5
}
