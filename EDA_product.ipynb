{
 "cells": [
  {
   "cell_type": "code",
   "execution_count": 1,
   "id": "ba30420c-f517-453b-b174-f545931b90d5",
   "metadata": {},
   "outputs": [],
   "source": [
    "import pandas as pd\n",
    "import numpy as np\n",
    "import matplotlib.pyplot as plt\n",
    "import dask.dataframe as dd\n",
    "import dask.array as da\n",
    "import dask.bag as db"
   ]
  },
  {
   "cell_type": "code",
   "execution_count": 2,
   "id": "39fb026a-2642-48d7-acd5-4470889dfd85",
   "metadata": {},
   "outputs": [],
   "source": [
    "product_info = pd.read_csv(\"./data/Iowa_Liquor_Products.csv\")"
   ]
  },
  {
   "cell_type": "code",
   "execution_count": 5,
   "id": "19f724d0-f144-418a-98f9-55ae3b87464d",
   "metadata": {},
   "outputs": [],
   "source": [
    "product_info.columns = [x.replace(\" \", \"\") if x != \"Bottle Volume (ml)\" else \"BottleVolumeML\" for x in product_info.columns]"
   ]
  },
  {
   "cell_type": "code",
   "execution_count": 8,
   "id": "972cbe64-b77f-4384-af7a-6d5a544c8dd4",
   "metadata": {},
   "outputs": [
    {
     "data": {
      "text/plain": [
       "10568"
      ]
     },
     "execution_count": 8,
     "metadata": {},
     "output_type": "execute_result"
    }
   ],
   "source": [
    "len(product_info.ItemNumber.unique())"
   ]
  },
  {
   "cell_type": "code",
   "execution_count": 9,
   "id": "1fccfb63-5659-4562-b186-26baf1086ead",
   "metadata": {},
   "outputs": [
    {
     "data": {
      "text/plain": [
       "10568"
      ]
     },
     "execution_count": 9,
     "metadata": {},
     "output_type": "execute_result"
    }
   ],
   "source": [
    "product_info.shape[0]"
   ]
  },
  {
   "cell_type": "code",
   "execution_count": null,
   "id": "acc0cfbf-3a01-4f9b-88ea-b8eef3d8e153",
   "metadata": {},
   "outputs": [],
   "source": [
    "invoice_ddf = dd.read_parquet(\"./data/invoice/part.*.parquet\")"
   ]
  }
 ],
 "metadata": {
  "kernelspec": {
   "display_name": "Python 3 (ipykernel)",
   "language": "python",
   "name": "python3"
  },
  "language_info": {
   "codemirror_mode": {
    "name": "ipython",
    "version": 3
   },
   "file_extension": ".py",
   "mimetype": "text/x-python",
   "name": "python",
   "nbconvert_exporter": "python",
   "pygments_lexer": "ipython3",
   "version": "3.9.9"
  }
 },
 "nbformat": 4,
 "nbformat_minor": 5
}
