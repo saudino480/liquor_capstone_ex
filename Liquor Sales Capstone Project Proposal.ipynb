{
 "cells": [
  {
   "cell_type": "markdown",
   "metadata": {},
   "source": [
    "# Liquor Sales Capstone Project Pitch\n",
    "- The state of **Iowa** publishes its class **E** license liquor sales data monthly at https://data.iowa.gov/Sales-Distribution/Iowa-Liquor-Sales/m3tr-qhgy\n",
    "- It contains more than $19M$ samples of the detailed transaction records from the liquor vendors to\n",
    "the various retail stores within the state, since $2012$.\n",
    "- The dataset records the rich interaction between the $\\sim 300$ liquor vendors, \n",
    "$\\sim 2400$ liquor stores \n",
    "(with their lat-long coordinates), selling $\\sim 9.4K$ liquor products.\n",
    "- The quality of the data allows us to study the local liquor business activities, parallel to commerical data."
   ]
  },
  {
   "cell_type": "markdown",
   "metadata": {},
   "source": [
    "<img src=\"data/Iowa state.jpg\" height=400 width=400>"
   ]
  },
  {
   "cell_type": "markdown",
   "metadata": {},
   "source": [
    "<img src=\"data/liqour-by-ostill-istock.jpg\" height=400 width=400>"
   ]
  },
  {
   "cell_type": "markdown",
   "metadata": {},
   "source": [
    "## The Data and the Project Scope\n",
    "- The data (downloadable from the above link) has various columns on transaction date, vendor information, store information (including name, address,\n",
    "city, zip, county, long-lat), liquor item, liquor category, item cost, item retail selling price,\n",
    "pack, bottle, total volume, sales amount, etc.\n",
    "- With the additional information on **proof** (the alcohol content) at \n",
    "https://data.iowa.gov/Sales-Distribution/Iowa-Liquor-Products/gckp-fe7r, it allows us to\n",
    "paint a vivid picture of the local alcohol consumption.\n",
    "\n",
    "#### The Scope of the Project\n",
    "- Building a relational database\n",
    "- Data cleaning to battle the data inconsistency\n",
    "- From the prospective of the products, the product analytics\n",
    "- From the prospective of the vendors, the inventory/demand analytics\n",
    "- From the prospective of the liquor stores, the location analytics and the demand analytics\n",
    "- From the prospective of ML, Time series prediction technique, classification,clustering and MBA.\n",
    "- You will make heavy usage of data analysis, visualization technique and statistical/ML models for these tasks.\n",
    "\n",
    "\n",
    "- Please be aware that the purpose of the project is to train your data science ability in the\n",
    "business environment.  No matter you perform data analysis, time series analysis or machine learning,\n",
    "the ultimate goal is to provide business valuable insights/impact to the recipients/stakeholders."
   ]
  },
  {
   "cell_type": "markdown",
   "metadata": {},
   "source": [
    "### Step 1---Data Cleaning\n",
    "- The transaction data has been collected through an on-going basis. The long time horizon of the data collection process has produced various inconsistency in the data.\n",
    "   - The same liquor item might be mapped to different categories or names at different time.\n",
    "   - The names of the categories are time dependent, somtimes producing over-fragmentation.\n",
    "   - The same store (using the store number as its primary key) might be associated with non-unique\n",
    "   long-lat coordinates and non-standardized store names.\n",
    "   - The same vendor (using the vendor number as its primary key) might have more than \n",
    "one name.\n",
    "   - The same store (using its store number as the primary key) might have more than one name.\n",
    "   - The same item (using its item number as the primary key) might have different packs and inconsistent 'bottles sold' information or different item descriptions.\n",
    "\n",
    "- To solve the data consistency issue, decompose the original dataframe into multiple tables.\n",
    "    - Define a new dataframe called **products**, cleaning up the inconsistency.\n",
    "    - Define a new dataframe called **product prices**, recording the historical bottle price \n",
    "    changes of the products.\n",
    "    - Define a new dataframe called **vendors**, cleaning up the inconsistency.\n",
    "    - Define a new dataframe called **stores**, cleaning up the inconsistency.\n",
    "    - Define a master dataframe called **transactions**, which records the vendor number, store number, product (item number), transaction date, \n",
    "    bottles sold, volume (either in gallons or in liters), sales amount. "
   ]
  },
  {
   "cell_type": "markdown",
   "metadata": {},
   "source": [
    "<img src='data/mega_store.jpg' height=400 width=400>"
   ]
  },
  {
   "cell_type": "markdown",
   "metadata": {},
   "source": [
    "### Creating an Relational Database\n",
    "- The current data size is managable on a personal computer/laptop. But it would be helpful to your job search to create a relational database and populate these cleaned tables by insertions. The full transaction records should be a \n",
    "multi-fold table joins of the fundamental building blocks.\n",
    "\n",
    "You may use the **sqlite** package or other similar packages to establish a python connection\n",
    "to the relational DB."
   ]
  },
  {
   "cell_type": "markdown",
   "metadata": {},
   "source": [
    "<img src='data/db.gif'>"
   ]
  },
  {
   "cell_type": "markdown",
   "metadata": {},
   "source": [
    "#### Time Aggregation\n",
    "- The date strings can be converted to python datetime objects by pd.to_datetime\n",
    "- To study the aggregated behavior, it is often helpful to aggregate sales into weekly or monthly\n",
    "basis. The syntax df.groupby(['Item Number', ...., pd.Grouper(key='Date', freq='M')]) (change 'M' into\n",
    "'W' for weekly sales) is very useful for you.\n",
    "- The manual of **pd.Grouper** could be helpful: https://pandas.pydata.org/pandas-docs/version/0.23.4/generated/pandas.Grouper.html"
   ]
  },
  {
   "cell_type": "markdown",
   "metadata": {},
   "source": [
    "### The Usage of Pivot or Pivot Table\n",
    "- To convert the long format dataframe into a wide format table, \n",
    "the dataframe method **pivot** or **pivot_table** is crucial. Please refer to \n",
    "**pandas** documentation for the details: https://pandas.pydata.org/pandas-docs/version/0.23.4/generated/pandas.DataFrame.pivot.html\n",
    " or   https://pandas.pydata.org/pandas-docs/stable/reference/api/pandas.pivot_table.html"
   ]
  },
  {
   "cell_type": "markdown",
   "metadata": {},
   "source": [
    "### Data Analysis\n",
    "- The thrust of the data consists of multiple liquor vendors selling to thousands of Iowa retail stores\n",
    "the thousands of liquor products. The retail stores order these products from different vendors to satisfy the local demands\n",
    "from the consumers. Even though the individual consumers do not enter the data, the aggregation of \n",
    "all the retail stores' sales in the same area does reflect the local demands on the liquor products.\n",
    "\n",
    "- The data analysis can be carried out from the prospective of the vendors, \n",
    "the stores and the products.  As in any market within the capitalism system, the stores are open and are closed.\n",
    "The new products are introduced into the market, while some of the existing products cease to \n",
    "gain popularity among the consumers. They are forced to exit the liquor market.\n",
    "\n",
    "- **Vendor Analysis**:\n",
    "    - As there are near $10K$ liquor products and only $300+$ vendors. \n",
    "    So most of the vendors must be selling multiple products. How many product does a vendor sell?\n",
    "    How does it evolve w.r.t. time?  How many categories do these product fall into?\n",
    "    \n",
    "    - How many sales channels (retail stores) does each vendor have and how does it evolve w.r.t. time?\n",
    "    - Are different vendors supplying the same product? Are different vendors supplying the same stores?\n",
    "    - Are there direct competitions among different vendors? Depict a story (case study) on their sale-channel\n",
    "    growth/shrinkage."
   ]
  },
  {
   "cell_type": "markdown",
   "metadata": {},
   "source": [
    "- **Store Analysis**:\n",
    "    - Categorize the retail liquor stores into different types, chain-super market, specialized\n",
    "    liquor stores, convenience stores, news stands, tobacco stores,..... and report the relevant statistics.\n",
    "    - New stores pop up and some of them shut down after a few years. Analyze the store opening dynamics\n",
    "    and report the findings on store life-cycle, store survival analysis, survial curve, survival\n",
    "    probabilities, etc. Refine your findings based on the store categories you design. Is it easy for\n",
    "    the stores to experience sales volume growth? With new stores popping up for competition, how does\n",
    "    it affect the sales of the existing stores?  \n",
    "    Does the pie (Gross sales volume in **Iowa**) grow bigger? Do the stores share the bigger pie?\n",
    "    Does the winner take all or more players share smaller slices?\n",
    "    - In terms of store inventories, report the varieties of product/product category for different\n",
    "    store types. \n",
    "    What product/product category are the major sales contributors for different types of stores?\n",
    "    - Study the monthly sales volumes and gross profits (without taking price-discounts into account)\n",
    "    of the stores. \n",
    "    - Use the county population information, \n",
    "    say https://www.iowa-demographics.com/counties_by_population, to estimate the stores-per-capita in different\n",
    "        counties. Use the chain-supermarket **Hy-Vee** as a case study, depict its store distribution\n",
    "        in different counties of Iowa and the their liquor sales dynamics.\n",
    "    - Within the context of **B2B**, \n",
    "    the stores play the role of the vendors' customers.\n",
    "    Thus the concept and tools of customer analytics can be used to analyze the stores.\n",
    "    As not all the stores can continue to survive or they might change their vendors, the vendors often like to know the\n",
    "    **customer lifetime value** of their customers (the stores).\n",
    "    Provide an analysis on the **CLTV** (in a fixed time horizon) based on the natures of the stores.\n",
    "    You may visit https://exponea.com/blog/customer-lifetime-value-guide/\n",
    "    for an introduction to customer life-time value computation. Note that\n",
    "    the 'customer churning', in the context of the liquor stores as the vendors' customers, must\n",
    "    include the store shutting-down in your discussion.\n",
    "    "
   ]
  },
  {
   "cell_type": "markdown",
   "metadata": {},
   "source": [
    "    \n",
    "- **Product Analysis**:\n",
    "    - Among the near $10K$ liquor products, what product categories do they belong to? What \n",
    "    are the popular product categories?  \n",
    "    What are the popular brands (in terms of product line-ups)?\n",
    "    As there are too many categories to be considered, design a coarse-grained category system based on\n",
    "    the types of liquor (Whiskies, Rum, ....) and domestic/import status.\n",
    "    \n",
    "    - **Product Survival**: How many products are introduced into the market every year? How many\n",
    "    are removed from the market every year?  On average, what is the chance (probability) that a new product\n",
    "    can survive till the end of the current data?\n",
    "    \n",
    "    By looking at each product category (or the coarse category you design), \n",
    "    your team can refine your analysis and paint a dynamical picture on\n",
    "    the product's life-cycle and the market competition.\n",
    "    \n",
    "    - For simplicity, restrict the analysis to the products which are sold from the beginning (2012) to the end of the data.\n",
    "    In terms of mean monthly sales volume and sales amount, which product, which brand and what category are\n",
    "    the leaders and the laggers?\n",
    "    \n",
    "    - For the successful products (in an absolute term, or in the category) \n",
    "    which are sold well (top in the monthly sales volume or sales $\\$$ list), \n",
    "    what are their sales channels?\n",
    "    How many stores are they sold to? Among the popular products, is there a growth trend on the sale\n",
    "    volume?\n",
    "    Do the number of stores (sales-channels) grow w.r.t. time or is it the same store sales\n",
    "    increment which is responsible for the sales growth? On the contrary, does the shrinkage of the sales channels\n",
    "    induce the sales declines? \n",
    "    \n",
    "    With the new products popping up constantly, is it easy for a typical liquor \n",
    "    product to experience sale-volume growth? Relate your discussion with liquor market competition.\n",
    "    \n",
    "    - For liquor products, alcohol content/retail price is the basic gauge on how cheap or expensive the\n",
    "    products are. Study if there is any relationship between alcohol volume/$\\$$ and the sales volume.\n",
    "    - What kind of sales channels (chain-supermarket, specialized liquor store, convenience store, drug store, ....) are more\n",
    "    important in terms of the sales?\n",
    "    - **profit margin**: Using the state retail price - bottle cost as a proxy, estimate the\n",
    "        profit margin of the individual products or the product categories. Which product, or product category\n",
    "        offer higher profit margins?\n",
    "    -  Looking at the quarterly aggregated sales volumes, do different products show seasonal popularity?\n",
    "    For example, hypothetically the whiskies are super popular among the **Iowa** residents in the winter, etc. \n",
    "    - Alcohol is brewed from different types of starch, which are commodities. Thus the liquor\n",
    "    prices are affected by the commodity prices. Throughout the years, the vendor may hike their\n",
    "    liquor product prices to compensate the inflation pressure. Report the percentage price increments of\n",
    "    different types of liquor products/product categories during the studied period 2012-current."
   ]
  },
  {
   "cell_type": "markdown",
   "metadata": {},
   "source": [
    "### Price Sensitivity and Sales Volume\n",
    "- It is a well known fact that the consumers react to the products dropping prices strongly.\n",
    "It is a well known slogan \"Pricing Drive Sales\".\n",
    "- The **Iowa** liquor data provides us an open window to investigate the relationship between\n",
    "prices and sales volume un-parallel in any open data. \n",
    "- To compare prices and sales-volume, it is crucial to recognize:\n",
    "    - different products have different bottle volumes, which affects their prices.\n",
    "    - the same product could have different sales-volume at different time of the year due to\n",
    "    seasonal fluctuations. If a liquor product is popular in the summer, its sales-volume picks up\n",
    "    during the summer, which has nothing to do with its price change. \n",
    "- In order to address these issues, we will need to use normalized pricing, i.e. price/unit volume\n",
    "in our study.\n",
    "- To reduce data noises, we need to aggregate the sales-volume into weekly or monthly 'Volume Sold'\n",
    "and average over different months to reduce the effect of seasonality.\n",
    "- Verify that there is a general trend of negative price sensitivity: an increasing of liquor\n",
    "    prices drops its average monthly sales-volume. Frame your analysis using simple linear regression.\n",
    "- Stratify your analysis into different liquor categories and refine your analysis.  \n",
    "- What does it tell you about the sales-volume sensitivity to the retail price/unit volume for different\n",
    "liquor category: Hint: you may need to lump different categories together to avoid sparse samples."
   ]
  },
  {
   "cell_type": "markdown",
   "metadata": {},
   "source": [
    "<img src='data/price sensitivity plot.png' height=400 width=400>"
   ]
  },
  {
   "cell_type": "markdown",
   "metadata": {},
   "source": [
    "- The negative slope linear regression line of the log-log plot suggests a power relationship,\n",
    "$$volume = (price)^{\\beta_1}\\cdot 10^{({\\beta_0}+\\epsilon)}.$$\n",
    "- The more negative is the slope $\\beta_1$, the sharper drop is the sales-volume w.r.t. the rising price.\n",
    "- The above simple linear regression has a $\\beta_1\\cong -1.22$ with $R^2\\sim 0.25$.\n",
    "- This indicates that $75\\%$ of the sales-volume variance is not explainable by the price dynamics.\n",
    "- **Question**: Stratifying the price/bottle-volume vs sales volume data according to the product\n",
    "    categories, the products in different categories follow different negative slopes. Tie the\n",
    "    different price sensitivities with the different levels of competition of different types of liquor products."
   ]
  },
  {
   "cell_type": "markdown",
   "metadata": {},
   "source": [
    "### Time Series Analysis\n",
    "- **Descriptive analysis**, Cov19:\n",
    "     - Study the time series of the **Iowa** whole-state monthly aggregate sales volumes and dollar amounts. \n",
    "        What is the major seasonality patterns? During what kinds of holidays?\n",
    "     - The aggregate time series can be sub-divided into $\\sim 10k$ **product sales volumes** time series,\n",
    "    $\\sim 2.5K$ **store sales volumes** time series, $\\sim 300$ \n",
    "    **vendor sales volumes** time series, $\\sim 100$ **county sales volume**\n",
    "    time series etc.\n",
    "    \n",
    "    - Use product or store competition as your theme, dig out insights on the sales volume quantile statistics time series.\n",
    "    - **Covid-19** and the surge of Iowa liquor sales:  According to the news media \n",
    "        https://globegazette.com/news/state-and-regional/govt-and-politics/covid-19-causes-iowa-liquor-sales-surge/article_d1b8f0b0-9449-57ac-bb3f-95b47d122e3a.html\n",
    "        or https://iowacapitaldispatch.com/2020/05/15/covid-19-appears-to-have-triggered-a-spike-in-liquor-sales/ the Iowa \n",
    "            liquor sales spike after the corona-virus outbreaks. The fact is that not all stores, not all\n",
    "            counties, not all products nor vendors observe the sales spike. In your analysis, use your\n",
    "            quantitative skills to identify the stores, the products, the counties which experience the sales spikes.\n",
    "    The news article suggests that the spikes of unemployment is \n",
    "    the major cause for people to be addictive to the liquor consumption. \n",
    "    Is your time series analysis consistent with this claim? Based on your finding, what type of\n",
    "    sales channels are more prone to the consumers with an addictive drinking pattern?\n",
    "    In terms of geographic locations, what cities, zip codes or counties are more prone to the\n",
    "    corona-virus outbreak induced liquor addiction. \n",
    "    \n",
    "- For **Iowa** unemployment rate, visit \n",
    "https://www.iowaworkforcedevelopment.gov/local-area-unemployment-statistics\n",
    "- For county population, visit https://data.iowa.gov/Community-Demographics/County-Population-in-Iowa-by-Year/qtnr-zsrc    \n",
    "- For the various **Iowa** related data, you may visit their data center https://www.iowadatacenter.org/data\n",
    "    or the other online resources.\n",
    "        \n",
    "        \n",
    "- **Demand/Inventory Analytics**: \n",
    "    - In supply chain analytics, forecasting the demands and optimizing the inventories are important tasks to maintain profitability. \n",
    "    - Following https://www.bain.com/insights/demand-forecasting-with-advanced-analytics/, taking\n",
    "        a top-down approach to forecast the demands of the various liquor products. \n",
    "    - For inventory management, https://www.scnsoft.com/blog/inventory-optimization-with-data-science,\n",
    "        inventory shortage and the holding cost are two opposite pitfalls your team want to avoid.\n",
    "        Frame your regression problem to optimize it.\n",
    "    - Instead of predicting each product's demand individually, it is more stable to forecast the total demand and\n",
    "    then forecast the sub-components.  For example, forecast the monthly aggregated sales volume, then\n",
    "    predict the monthly sales volume of liqour categories, .... You may find classifiers handy\n",
    "    to predict, say the sales percentages of different liquor categories. \n",
    "    In other words, forecast the aggregate demand first, then forecast the sub-category demands\n",
    "    as fractions (probabilities) using **ML** probabilisitic classifiers. \n",
    "    - Traditionally, time series models like **exponential weighted moving averge**, **arima**, **var** or **varmax** can be used to perform\n",
    "        time series forecasting. Besides this, multiple linear regression and advanced regression models\n",
    "        **SVR** or tree-based models, neural network models can also be used for the time series tasks.\n",
    "        The concept of stationary vs non-stationary time series is an important consideration in dealing\n",
    "        with time series forecasting."
   ]
  },
  {
   "cell_type": "markdown",
   "metadata": {},
   "source": [
    "#### Monthly Sales Volume Time Series of Various Whiskies Related Categories"
   ]
  },
  {
   "cell_type": "markdown",
   "metadata": {},
   "source": [
    "<img src='data/time series of various whiskies sales volume.png' height=700 width=500>"
   ]
  },
  {
   "cell_type": "markdown",
   "metadata": {},
   "source": [
    "### Seasonality of Liquor Consumption\n",
    "- Some types of Liquor consumption are highly periodic (seasonal).\n",
    "- Can you identify all these products?"
   ]
  },
  {
   "cell_type": "markdown",
   "metadata": {},
   "source": [
    "<img src='data/Gins and Cocktails.png', width=500, height=400>"
   ]
  },
  {
   "cell_type": "markdown",
   "metadata": {},
   "source": [
    "### Moving Average, Arima, Varmax\n",
    "- For the concept of **moving average**, visit https://www.datacamp.com/community/tutorials/moving-averages-in-pandas\n",
    "    \n",
    "- Take a look of https://machinelearningmastery.com/arima-for-time-series-forecasting-with-python/\n",
    "    for **ARIMA** in python statsmodels.\n",
    "- For **VARMAX**, visit  \n",
    "https://machinelearningmastery.com/time-series-forecasting-methods-in-python-cheat-sheet/\n",
    "- For the application of time series forecasting in demand analytics, read the blog \n",
    "https://www.linkedin.com/pulse/demand-forecasting-using-arima-holt-winters-logistics-faiz-fablillah\n",
    "    to gain some information.\n",
    "    "
   ]
  },
  {
   "cell_type": "markdown",
   "metadata": {},
   "source": [
    "### Moving Average Example\n",
    "- The moving average smooths out the noises of the time series data.\n",
    "- It can be used as a very basic way of time series forecasting. "
   ]
  },
  {
   "cell_type": "markdown",
   "metadata": {},
   "source": [
    "<img src='data/Vodka and Moving Average.png', height=500, width=400>"
   ]
  },
  {
   "cell_type": "markdown",
   "metadata": {},
   "source": [
    "### Location Analytics Through Unsupervised Learning\n",
    "- Apparently it does not make sense to place a store in a rural location\n",
    "with almost no residents. On the other hand, open a new store in a densely populated area\n",
    "could mean fierce competition from the existing stores. Therefore it is very important for the\n",
    "store owner to have the business intelligence on choosing the right store location.\n",
    "- In **scikit-learn** there is an unsupervised **KNN**, which outputs the row-indexes of the nearest\n",
    "neighbors and their distances. Using unsupervised **KNN** as a tool on the store long-lat coordinates, analyze the store success rate/store sales volumes\n",
    "in the highly competitive and the lower competitive areas. \n",
    "- Visualize on the **Iowa** state map and identify the highly competitive areas and the low competitive area\n",
    "and relate them with the population densities or the major population hubs.\n",
    "\n",
    "- There is a well known density based clustering technique called **DBScan**, which forms clusters\n",
    "based on densely accumulated samples. The isolated samples which do not satisfy the density\n",
    "criterion are marked the outliers with no cluster assignment.\n",
    "\n",
    "- At the end, please report your findings as the advices to an entrepreneur who wants to enter the liquor sales\n",
    "business.\n",
    "\n",
    "\n",
    "\n",
    "\n"
   ]
  },
  {
   "cell_type": "markdown",
   "metadata": {},
   "source": [
    "### Clustering On the Store Demands\n",
    "- Given that there are thousands of liquor stores, or supermarkets which sell liquors, it is interesting\n",
    "to segment the stores based on their liquor order time series.\n",
    "  - It would be insightful to aggregate the raw transactions into monthly sales volume.\n",
    "  - Either one can focus on a particular product, a category, an aggregation of several categories,\n",
    "or the total liquor sales volume.\n",
    "  - We would like to group the different stores into different clusters, based on their similarity on \n",
    "    monthly sales-volume time series. \n",
    "  - There are multiple ways to frame the question:\n",
    "     - Either we focus on the volume time series themselves\n",
    "     - Or we consider the log-return time series $log(V_{m+1})-log(V_m)$\n",
    "     - Notice that if we consider the $N\\times M$ dataframe, where $N$ stands for the number of\n",
    "    stores, $M$ stands for the total number of months, then the **cosine distance** after row-wise de-meaning\n",
    "    is the same thing as computing the store-vs store cross-correlation.\n",
    "- Using either **Kmeans** (with Euclidean distance) or the hierarchical clustering (with **cosine** distance)\n",
    "to cluster the stores (you probably want to ignore the stores with short durations) and interpret\n",
    "your result in terms of the store types or store locations. \n",
    "- **Question**: Does your clustering provide additional insights on \n",
    "    different stores' demand patterns based on their locations or their store customers?\n",
    "- The store demands, from the prospective of the liquor vendors,\n",
    "are highly related to the **customer lifetime value** discussed above.\n",
    "Formulate your clustering features in terms of **CLTV** and provide\n",
    "valuable insights to the liquor vendors."
   ]
  },
  {
   "cell_type": "markdown",
   "metadata": {},
   "source": [
    "### Market Basket Analysis/Associative Rule Mining\n",
    "- Market Basket Analysis (also known as the associative rule mining) is an unsupervised ML technique\n",
    "aiming at finding hidden patterns in the transaction records.\n",
    "- In our current data, a single row consists of the order of a single liquor product item.\n",
    "In order for the technique to be applicable, we aggregate the data \n",
    "according to the customers (in this case the store number), dates\n",
    "with a weekly or a monthly frequency. \n",
    "- **MBA** would like to uncover the items (in our case the different liquor products) which\n",
    "are frequently purchased together. Report your findings.\n",
    "- What happens if we condition on different types of stores \n",
    "(chain-super markets, specialized liquor stores, small convenience stores, news stands)?\n",
    "\n",
    "- What happens if we condition on the month, report your findings for different months.\n",
    "- Consider the stores in the same county, with the same zip code, within the major cities\n",
    " (Des Moines, Cedar Rapids, Davenport, ....), what insights does **MBA** give us?\n",
    "- Regarding the stores in the densely populated areas vs the rural areas, what kinds of \n",
    "transaction patterns do we see?\n",
    "\n",
    "- In python, there are packages like **mlxtend**, or **apyori**, which implements apriori **MBA**\n",
    "algorithm. Visit https://intellipaat.com/blog/data-science-apriori-algorithm/ for a brief introduction \n",
    "    on **MBA**.\n",
    "- In R, **arules** implements **MBA**. Visit https://blog.exploratory.io/introduction-to-association-rules-market-basket-analysis-in-r-7a0dd900a3e0\n",
    "for some explanation.\n",
    "    \n",
    "\n",
    "        \n",
    "        "
   ]
  },
  {
   "cell_type": "markdown",
   "metadata": {},
   "source": [
    "<img src='data/market-basket.png'>"
   ]
  },
  {
   "cell_type": "markdown",
   "metadata": {},
   "source": [
    "### Customer/Store Lifetime Value Prediction\n",
    "- Build machine learning models or statistical models to predict\n",
    "the different stores **lifetime value** to different products/vendors.\n",
    "- You will need to formulate the business question into a machine learning\n",
    "problem and use the machine learning technique to answer business relevant questions.\n",
    "- Naively, the **customer/store lifetime value** is a regression problem.\n",
    "If you have used cluster technique to segment the customers/stores, you can also\n",
    "use classification technique to predict the store segments.\n",
    "Visit https://towardsdatascience.com/data-driven-growth-with-python-part-3-customer-lifetime-value-prediction-6017802f2e0f\n",
    "for some discussion on **ML** style **CLTV** predictions.\n",
    "    \n",
    "- Besides the modern machine learning technique, **CLTV** can be also\n",
    "estimated based on statistical modeling and time series analysis. For your team members with quantitative\n",
    "background, you can refer to https://medium.com/bolt-labs/understanding-the-customer-lifetime-value-with-data-science-c14dcafa0364\n",
    "for some high level description on using the classical binomial/poisson and gamma distributions\n",
    "to model **CLTV**.\n"
   ]
  },
  {
   "cell_type": "markdown",
   "metadata": {},
   "source": [
    "#### How to Compute the Distances between Two Long-Lat Coordinates?\n",
    "- There are packages (like **geopy**) which allow you to compute the spherical distances. \n",
    "- For the purpose of machine learning, it is desirable to let the $L^2$ Euclidean distance (used by the algorithm) \n",
    "approximate the spherical distance. This can be very handy in the neighborhood comps modeling.\n",
    "- Let $(\\theta_1, \\phi_1)$, $(\\theta_2, \\phi_2)$ be two points on the sphere (the earth).\n",
    "When these two points are sufficiently close to each other, $\\theta_1\\cong \\theta_2$, $\\phi_1\\cong\n",
    "\\phi_2$. For simplicity we assume that the sphere has a radius $1$ (The earth radius is about $3950$ miles). \n",
    "The spherical distance $\\Delta s$ can be approximated by the following formula,\n",
    "\n",
    "$$\\Delta^2 s = cos^2(\\phi)\\Delta^2\\theta + \\Delta^2\\phi,$$\n",
    "where $\\phi\\cong \\phi_1\\cong\\phi_2\\cong 40.6^{\\circ}$ to $43.5^{\\circ}$ in **Iowa**.\n",
    "\n",
    "This suggests that if we map the long-lat coordinates $(\\theta_i, \\phi_i), 1\\leq i\\leq 2$ to $(cos(\\phi)\\theta_1, \\phi_1)$, $(cos(\\phi)\\theta_2, \\phi_2)$,\n",
    "the 2D Euclidean distance is an approximation of the spherical distance."
   ]
  },
  {
   "cell_type": "markdown",
   "metadata": {},
   "source": [
    "<img src='data/Long_Lat.png'>"
   ]
  },
  {
   "cell_type": "markdown",
   "metadata": {},
   "source": [
    "- $\\lambda$ refers to $\\theta$ in our notation."
   ]
  },
  {
   "cell_type": "markdown",
   "metadata": {},
   "source": [
    "### Plotting the Iowa County Polygons\n",
    "- The US county boundary (in long-lat coordinates) can be downloaded from \n",
    "https://public.opendatasoft.com/explore/dataset/us-county-boundaries/export/\n",
    "- To convert a string encoded python dictionary like \n",
    "{\"type\": \"Polygon\", \"coordinates\": [[[-92.5543...\n",
    ", we use the **json** package **loads** function, **json.loads**.\n",
    "- The following plot illustrates the liquor store location scatter-plot overlaying with the **Iowa** county map."
   ]
  },
  {
   "cell_type": "markdown",
   "metadata": {},
   "source": [
    "<img src='data/Iowa Liquor Stores.png' height=500 width=500>"
   ]
  },
  {
   "cell_type": "code",
   "execution_count": null,
   "metadata": {
    "collapsed": true,
    "jupyter": {
     "outputs_hidden": true
    }
   },
   "outputs": [],
   "source": []
  }
 ],
 "metadata": {
  "kernelspec": {
   "display_name": "Python 3 (ipykernel)",
   "language": "python",
   "name": "python3"
  },
  "language_info": {
   "codemirror_mode": {
    "name": "ipython",
    "version": 3
   },
   "file_extension": ".py",
   "mimetype": "text/x-python",
   "name": "python",
   "nbconvert_exporter": "python",
   "pygments_lexer": "ipython3",
   "version": "3.9.9"
  }
 },
 "nbformat": 4,
 "nbformat_minor": 4
}
