{
 "cells": [
  {
   "cell_type": "code",
   "execution_count": 1,
   "id": "dd407cb6-b178-414b-bce5-bd187c27e53f",
   "metadata": {},
   "outputs": [],
   "source": [
    "import pandas as pd\n",
    "import numpy as np\n",
    "import matplotlib.pyplot as plt\n",
    "import dask.dataframe as dd\n",
    "import dask.array as da\n",
    "import dask.bag as db"
   ]
  },
  {
   "cell_type": "code",
   "execution_count": 98,
   "id": "a06516d6-085c-4e8e-9751-57d4a1180b23",
   "metadata": {},
   "outputs": [],
   "source": [
    "def data_prep(columns, filepath=\"./data/parquet/data-*.parquet\"):\n",
    "    ddf = dd.read_parquet(\"./data/parquet/data-*.parquet\")\n",
    "    \n",
    "    return ddf.loc[:, columns]"
   ]
  },
  {
   "cell_type": "code",
   "execution_count": 99,
   "id": "06114a3a-8bc5-478c-a548-65dc1336a0aa",
   "metadata": {},
   "outputs": [],
   "source": [
    "ddf = dd.read_parquet(\"./data/parquet/data-*.parquet\")"
   ]
  },
  {
   "cell_type": "code",
   "execution_count": 3,
   "id": "bb9f9632-08e0-4751-a332-0aa8901d1ef7",
   "metadata": {},
   "outputs": [
    {
     "data": {
      "text/plain": [
       "Index(['index', 'Invoice/Item Number', 'Date', 'Store Number', 'Store Name',\n",
       "       'Address', 'City', 'Zip Code', 'Store Location', 'County Number',\n",
       "       'County', 'Category', 'Category Name', 'Vendor Number', 'Vendor Name',\n",
       "       'Item Number', 'Item Description', 'Pack', 'Bottle Volume (ml)',\n",
       "       'State Bottle Cost', 'State Bottle Retail', 'Bottles Sold',\n",
       "       'Sale (Dollars)', 'Volume Sold (Liters)', 'Volume Sold (Gallons)'],\n",
       "      dtype='object')"
      ]
     },
     "execution_count": 3,
     "metadata": {},
     "output_type": "execute_result"
    }
   ],
   "source": [
    "ddf.columns"
   ]
  },
  {
   "cell_type": "code",
   "execution_count": 3,
   "id": "20292100-092e-4342-83b2-b8d425a00ba6",
   "metadata": {},
   "outputs": [
    {
     "data": {
      "text/plain": [
       "23346088"
      ]
     },
     "execution_count": 3,
     "metadata": {},
     "output_type": "execute_result"
    }
   ],
   "source": [
    "ddf.shape[0].compute()"
   ]
  },
  {
   "cell_type": "code",
   "execution_count": 4,
   "id": "fa61b345-e952-4be5-a5be-087f51f1edcf",
   "metadata": {},
   "outputs": [],
   "source": [
    "county_info = ['County Number', 'County']\n",
    "vendor_info = ['Vendor Name', 'Vendor Number']\n",
    "product_info = ['Item Number', 'Item Description', 'Pack',\n",
    "                'Bottle Volume (ml)']\n",
    "price_info = ['Item Number', 'State Bottle Cost', 'State Bottle Retail', \"Date\"]\n",
    "store_info = ['Store Number', 'Store Name', 'Address', 'City', 'Zip Code', \n",
    "              'Store Location', 'County Number', \"Date\"]\n"
   ]
  },
  {
   "cell_type": "code",
   "execution_count": 5,
   "id": "2e46fb1b-c776-4c3f-9077-908e20cfe152",
   "metadata": {},
   "outputs": [],
   "source": [
    "ddf = ddf[county_info]"
   ]
  },
  {
   "cell_type": "code",
   "execution_count": 6,
   "id": "c9578637-2d7b-4efd-a52b-6fa491934bb4",
   "metadata": {},
   "outputs": [],
   "source": [
    "ddf = ddf.drop_duplicates().compute()"
   ]
  },
  {
   "cell_type": "code",
   "execution_count": 21,
   "id": "606175e3-0adb-4170-93ca-abab6663df72",
   "metadata": {},
   "outputs": [],
   "source": [
    "# changes to pd dataframe when size is small enough\n",
    "# ddf[ddf['County'].isna()] = pd.Series(['None', 'None'])"
   ]
  },
  {
   "cell_type": "code",
   "execution_count": 15,
   "id": "50d0286a-c874-415e-9a1b-5529ac967f29",
   "metadata": {},
   "outputs": [
    {
     "data": {
      "text/html": [
       "<div>\n",
       "<style scoped>\n",
       "    .dataframe tbody tr th:only-of-type {\n",
       "        vertical-align: middle;\n",
       "    }\n",
       "\n",
       "    .dataframe tbody tr th {\n",
       "        vertical-align: top;\n",
       "    }\n",
       "\n",
       "    .dataframe thead th {\n",
       "        text-align: right;\n",
       "    }\n",
       "</style>\n",
       "<table border=\"1\" class=\"dataframe\">\n",
       "  <thead>\n",
       "    <tr style=\"text-align: right;\">\n",
       "      <th></th>\n",
       "      <th>County Number</th>\n",
       "      <th>County</th>\n",
       "    </tr>\n",
       "  </thead>\n",
       "  <tbody>\n",
       "    <tr>\n",
       "      <th>2405</th>\n",
       "      <td>NaN</td>\n",
       "      <td>None</td>\n",
       "    </tr>\n",
       "    <tr>\n",
       "      <th>15387</th>\n",
       "      <td>NaN</td>\n",
       "      <td>EL PASO</td>\n",
       "    </tr>\n",
       "  </tbody>\n",
       "</table>\n",
       "</div>"
      ],
      "text/plain": [
       "       County Number   County\n",
       "2405             NaN     None\n",
       "15387            NaN  EL PASO"
      ]
     },
     "execution_count": 15,
     "metadata": {},
     "output_type": "execute_result"
    }
   ],
   "source": [
    "# strange to see EL PASO? not a county in Iowa.\n",
    "ddf[ddf['County Number'].isna()]"
   ]
  },
  {
   "cell_type": "code",
   "execution_count": 8,
   "id": "11a27eba-a32f-4d08-850d-6f83156255a2",
   "metadata": {},
   "outputs": [
    {
     "data": {
      "text/html": [
       "<div>\n",
       "<style scoped>\n",
       "    .dataframe tbody tr th:only-of-type {\n",
       "        vertical-align: middle;\n",
       "    }\n",
       "\n",
       "    .dataframe tbody tr th {\n",
       "        vertical-align: top;\n",
       "    }\n",
       "\n",
       "    .dataframe thead th {\n",
       "        text-align: right;\n",
       "    }\n",
       "</style>\n",
       "<table border=\"1\" class=\"dataframe\">\n",
       "  <thead>\n",
       "    <tr style=\"text-align: right;\">\n",
       "      <th></th>\n",
       "      <th>County Number</th>\n",
       "      <th>County</th>\n",
       "    </tr>\n",
       "  </thead>\n",
       "  <tbody>\n",
       "    <tr>\n",
       "      <th>0</th>\n",
       "      <td>92.0</td>\n",
       "      <td>Washington</td>\n",
       "    </tr>\n",
       "    <tr>\n",
       "      <th>1</th>\n",
       "      <td>63.0</td>\n",
       "      <td>Marion</td>\n",
       "    </tr>\n",
       "    <tr>\n",
       "      <th>2</th>\n",
       "      <td>17.0</td>\n",
       "      <td>Cerro Gordo</td>\n",
       "    </tr>\n",
       "    <tr>\n",
       "      <th>3</th>\n",
       "      <td>82.0</td>\n",
       "      <td>Scott</td>\n",
       "    </tr>\n",
       "    <tr>\n",
       "      <th>4</th>\n",
       "      <td>57.0</td>\n",
       "      <td>Linn</td>\n",
       "    </tr>\n",
       "    <tr>\n",
       "      <th>...</th>\n",
       "      <td>...</td>\n",
       "      <td>...</td>\n",
       "    </tr>\n",
       "    <tr>\n",
       "      <th>196</th>\n",
       "      <td>26.0</td>\n",
       "      <td>DAVIS</td>\n",
       "    </tr>\n",
       "    <tr>\n",
       "      <th>197</th>\n",
       "      <td>13.0</td>\n",
       "      <td>CALHOUN</td>\n",
       "    </tr>\n",
       "    <tr>\n",
       "      <th>198</th>\n",
       "      <td>93.0</td>\n",
       "      <td>WAYNE</td>\n",
       "    </tr>\n",
       "    <tr>\n",
       "      <th>199</th>\n",
       "      <td>2.0</td>\n",
       "      <td>ADAMS</td>\n",
       "    </tr>\n",
       "    <tr>\n",
       "      <th>200</th>\n",
       "      <td>999.0</td>\n",
       "      <td>Unknown</td>\n",
       "    </tr>\n",
       "  </tbody>\n",
       "</table>\n",
       "<p>201 rows × 2 columns</p>\n",
       "</div>"
      ],
      "text/plain": [
       "     County Number       County\n",
       "0             92.0   Washington\n",
       "1             63.0       Marion\n",
       "2             17.0  Cerro Gordo\n",
       "3             82.0        Scott\n",
       "4             57.0         Linn\n",
       "..             ...          ...\n",
       "196           26.0        DAVIS\n",
       "197           13.0      CALHOUN\n",
       "198           93.0        WAYNE\n",
       "199            2.0        ADAMS\n",
       "200          999.0      Unknown\n",
       "\n",
       "[201 rows x 2 columns]"
      ]
     },
     "execution_count": 8,
     "metadata": {},
     "output_type": "execute_result"
    }
   ],
   "source": [
    "ddf = ddf[~ddf['County Number'].isna()]\n",
    "ddf = ddf.append(pd.Series({'County Number': 999, 'County': 'Unknown'}), ignore_index=True)\n",
    "ddf"
   ]
  },
  {
   "cell_type": "code",
   "execution_count": 12,
   "id": "5e4a4a5d-ae82-4cf1-abec-5a6ecd3758ed",
   "metadata": {},
   "outputs": [
    {
     "data": {
      "text/html": [
       "<div>\n",
       "<style scoped>\n",
       "    .dataframe tbody tr th:only-of-type {\n",
       "        vertical-align: middle;\n",
       "    }\n",
       "\n",
       "    .dataframe tbody tr th {\n",
       "        vertical-align: top;\n",
       "    }\n",
       "\n",
       "    .dataframe thead th {\n",
       "        text-align: right;\n",
       "    }\n",
       "</style>\n",
       "<table border=\"1\" class=\"dataframe\">\n",
       "  <thead>\n",
       "    <tr style=\"text-align: right;\">\n",
       "      <th></th>\n",
       "      <th>County Number</th>\n",
       "      <th>County</th>\n",
       "    </tr>\n",
       "  </thead>\n",
       "  <tbody>\n",
       "    <tr>\n",
       "      <th>2</th>\n",
       "      <td>17.0</td>\n",
       "      <td>Cerro Gordo</td>\n",
       "    </tr>\n",
       "    <tr>\n",
       "      <th>158</th>\n",
       "      <td>17.0</td>\n",
       "      <td>Cerro Gord</td>\n",
       "    </tr>\n",
       "  </tbody>\n",
       "</table>\n",
       "</div>"
      ],
      "text/plain": [
       "     County Number       County\n",
       "2             17.0  Cerro Gordo\n",
       "158           17.0   Cerro Gord"
      ]
     },
     "execution_count": 12,
     "metadata": {},
     "output_type": "execute_result"
    }
   ],
   "source": [
    "ddf[ddf['County'].str.contains('Cerro')]"
   ]
  },
  {
   "cell_type": "code",
   "execution_count": 13,
   "id": "32da7bf9-f9f8-41a0-a8d0-cc7eed486a14",
   "metadata": {},
   "outputs": [
    {
     "data": {
      "text/html": [
       "<div>\n",
       "<style scoped>\n",
       "    .dataframe tbody tr th:only-of-type {\n",
       "        vertical-align: middle;\n",
       "    }\n",
       "\n",
       "    .dataframe tbody tr th {\n",
       "        vertical-align: top;\n",
       "    }\n",
       "\n",
       "    .dataframe thead th {\n",
       "        text-align: right;\n",
       "    }\n",
       "</style>\n",
       "<table border=\"1\" class=\"dataframe\">\n",
       "  <thead>\n",
       "    <tr style=\"text-align: right;\">\n",
       "      <th></th>\n",
       "      <th>County Number</th>\n",
       "      <th>County</th>\n",
       "    </tr>\n",
       "  </thead>\n",
       "  <tbody>\n",
       "    <tr>\n",
       "      <th>2</th>\n",
       "      <td>17.0</td>\n",
       "      <td>Cerro Gordo</td>\n",
       "    </tr>\n",
       "    <tr>\n",
       "      <th>5</th>\n",
       "      <td>29.0</td>\n",
       "      <td>Des Moines</td>\n",
       "    </tr>\n",
       "    <tr>\n",
       "      <th>8</th>\n",
       "      <td>11.0</td>\n",
       "      <td>Buena Vista</td>\n",
       "    </tr>\n",
       "    <tr>\n",
       "      <th>15</th>\n",
       "      <td>74.0</td>\n",
       "      <td>Palo Alto</td>\n",
       "    </tr>\n",
       "    <tr>\n",
       "      <th>19</th>\n",
       "      <td>7.0</td>\n",
       "      <td>Black Hawk</td>\n",
       "    </tr>\n",
       "    <tr>\n",
       "      <th>88</th>\n",
       "      <td>89.0</td>\n",
       "      <td>Van Buren</td>\n",
       "    </tr>\n",
       "    <tr>\n",
       "      <th>118</th>\n",
       "      <td>7.0</td>\n",
       "      <td>BLACK HAWK</td>\n",
       "    </tr>\n",
       "    <tr>\n",
       "      <th>130</th>\n",
       "      <td>17.0</td>\n",
       "      <td>CERRO GORD</td>\n",
       "    </tr>\n",
       "    <tr>\n",
       "      <th>131</th>\n",
       "      <td>74.0</td>\n",
       "      <td>PALO ALTO</td>\n",
       "    </tr>\n",
       "    <tr>\n",
       "      <th>139</th>\n",
       "      <td>29.0</td>\n",
       "      <td>DES MOINES</td>\n",
       "    </tr>\n",
       "    <tr>\n",
       "      <th>158</th>\n",
       "      <td>17.0</td>\n",
       "      <td>Cerro Gord</td>\n",
       "    </tr>\n",
       "    <tr>\n",
       "      <th>182</th>\n",
       "      <td>11.0</td>\n",
       "      <td>BUENA VIST</td>\n",
       "    </tr>\n",
       "    <tr>\n",
       "      <th>183</th>\n",
       "      <td>89.0</td>\n",
       "      <td>VAN BUREN</td>\n",
       "    </tr>\n",
       "  </tbody>\n",
       "</table>\n",
       "</div>"
      ],
      "text/plain": [
       "     County Number       County\n",
       "2             17.0  Cerro Gordo\n",
       "5             29.0   Des Moines\n",
       "8             11.0  Buena Vista\n",
       "15            74.0    Palo Alto\n",
       "19             7.0   Black Hawk\n",
       "88            89.0    Van Buren\n",
       "118            7.0   BLACK HAWK\n",
       "130           17.0   CERRO GORD\n",
       "131           74.0    PALO ALTO\n",
       "139           29.0   DES MOINES\n",
       "158           17.0   Cerro Gord\n",
       "182           11.0   BUENA VIST\n",
       "183           89.0    VAN BUREN"
      ]
     },
     "execution_count": 13,
     "metadata": {},
     "output_type": "execute_result"
    }
   ],
   "source": [
    "ddf[ddf['County'].str.contains(' ')]"
   ]
  },
  {
   "cell_type": "code",
   "execution_count": 11,
   "id": "5d407394-a03b-4742-833f-e3c2a5007eab",
   "metadata": {},
   "outputs": [
    {
     "data": {
      "text/html": [
       "<div>\n",
       "<style scoped>\n",
       "    .dataframe tbody tr th:only-of-type {\n",
       "        vertical-align: middle;\n",
       "    }\n",
       "\n",
       "    .dataframe tbody tr th {\n",
       "        vertical-align: top;\n",
       "    }\n",
       "\n",
       "    .dataframe thead th {\n",
       "        text-align: right;\n",
       "    }\n",
       "</style>\n",
       "<table border=\"1\" class=\"dataframe\">\n",
       "  <thead>\n",
       "    <tr style=\"text-align: right;\">\n",
       "      <th></th>\n",
       "      <th>County Number</th>\n",
       "      <th>County</th>\n",
       "    </tr>\n",
       "  </thead>\n",
       "  <tbody>\n",
       "    <tr>\n",
       "      <th>0</th>\n",
       "      <td>92.0</td>\n",
       "      <td>Washington</td>\n",
       "    </tr>\n",
       "    <tr>\n",
       "      <th>1</th>\n",
       "      <td>63.0</td>\n",
       "      <td>Marion</td>\n",
       "    </tr>\n",
       "    <tr>\n",
       "      <th>2</th>\n",
       "      <td>17.0</td>\n",
       "      <td>Cerro Gordo</td>\n",
       "    </tr>\n",
       "    <tr>\n",
       "      <th>3</th>\n",
       "      <td>82.0</td>\n",
       "      <td>Scott</td>\n",
       "    </tr>\n",
       "    <tr>\n",
       "      <th>4</th>\n",
       "      <td>57.0</td>\n",
       "      <td>Linn</td>\n",
       "    </tr>\n",
       "    <tr>\n",
       "      <th>...</th>\n",
       "      <td>...</td>\n",
       "      <td>...</td>\n",
       "    </tr>\n",
       "    <tr>\n",
       "      <th>95</th>\n",
       "      <td>41.0</td>\n",
       "      <td>Hancock</td>\n",
       "    </tr>\n",
       "    <tr>\n",
       "      <th>96</th>\n",
       "      <td>61.0</td>\n",
       "      <td>Madison</td>\n",
       "    </tr>\n",
       "    <tr>\n",
       "      <th>97</th>\n",
       "      <td>87.0</td>\n",
       "      <td>Taylor</td>\n",
       "    </tr>\n",
       "    <tr>\n",
       "      <th>98</th>\n",
       "      <td>36.0</td>\n",
       "      <td>Fremont</td>\n",
       "    </tr>\n",
       "    <tr>\n",
       "      <th>200</th>\n",
       "      <td>999.0</td>\n",
       "      <td>Unknown</td>\n",
       "    </tr>\n",
       "  </tbody>\n",
       "</table>\n",
       "<p>100 rows × 2 columns</p>\n",
       "</div>"
      ],
      "text/plain": [
       "     County Number       County\n",
       "0             92.0   Washington\n",
       "1             63.0       Marion\n",
       "2             17.0  Cerro Gordo\n",
       "3             82.0        Scott\n",
       "4             57.0         Linn\n",
       "..             ...          ...\n",
       "95            41.0      Hancock\n",
       "96            61.0      Madison\n",
       "97            87.0       Taylor\n",
       "98            36.0      Fremont\n",
       "200          999.0      Unknown\n",
       "\n",
       "[100 rows x 2 columns]"
      ]
     },
     "execution_count": 11,
     "metadata": {},
     "output_type": "execute_result"
    }
   ],
   "source": [
    "ddf.loc[ddf['County Number'].drop_duplicates().index]"
   ]
  },
  {
   "cell_type": "code",
   "execution_count": 14,
   "id": "de8ac3a4-df22-4aea-a4b7-7f19c716eb2e",
   "metadata": {},
   "outputs": [],
   "source": [
    "ddf = ddf.loc[ddf['County Number'].drop_duplicates().index]"
   ]
  },
  {
   "cell_type": "code",
   "execution_count": 16,
   "id": "1354e4bf-26ea-4264-94f3-c472fcaedd86",
   "metadata": {},
   "outputs": [],
   "source": [
    "ddf.loc[:, 'County Number'] = ddf['County Number'].astype(int)"
   ]
  },
  {
   "cell_type": "code",
   "execution_count": 18,
   "id": "eb987563-9227-4a1a-9c40-f02477db0801",
   "metadata": {},
   "outputs": [],
   "source": [
    "ddf.columns = ['CountyNumber', 'County']"
   ]
  },
  {
   "cell_type": "code",
   "execution_count": 20,
   "id": "e116c492-a4fa-489f-aa2c-31db3b51cedd",
   "metadata": {},
   "outputs": [],
   "source": [
    "ddf.to_csv('./data/county.csv')"
   ]
  },
  {
   "cell_type": "markdown",
   "id": "3654ad3e-e375-40cc-b6c0-6d4ab35cfa96",
   "metadata": {},
   "source": [
    "Now onto the next sub-dataframe, we repeat a lot of steps but with every one we have to at least take the time to make sure we're not missing anything as we chop the data up."
   ]
  },
  {
   "cell_type": "code",
   "execution_count": 21,
   "id": "1acd5222-ad5a-4558-9f05-7c0a50b2caa0",
   "metadata": {},
   "outputs": [],
   "source": [
    "ddf = dd.read_parquet(\"./data/parquet/data-*.parquet\")"
   ]
  },
  {
   "cell_type": "code",
   "execution_count": 22,
   "id": "f77b48f9-da2e-4142-9113-065342e19430",
   "metadata": {},
   "outputs": [
    {
     "data": {
      "text/plain": [
       "Index(['index', 'Invoice/Item Number', 'Date', 'Store Number', 'Store Name',\n",
       "       'Address', 'City', 'Zip Code', 'Store Location', 'County Number',\n",
       "       'County', 'Category', 'Category Name', 'Vendor Number', 'Vendor Name',\n",
       "       'Item Number', 'Item Description', 'Pack', 'Bottle Volume (ml)',\n",
       "       'State Bottle Cost', 'State Bottle Retail', 'Bottles Sold',\n",
       "       'Sale (Dollars)', 'Volume Sold (Liters)', 'Volume Sold (Gallons)'],\n",
       "      dtype='object')"
      ]
     },
     "execution_count": 22,
     "metadata": {},
     "output_type": "execute_result"
    }
   ],
   "source": [
    "ddf.columns"
   ]
  },
  {
   "cell_type": "code",
   "execution_count": 23,
   "id": "3cf35531-4622-4d2b-b189-f61392f2ab9c",
   "metadata": {},
   "outputs": [],
   "source": [
    "vendor_info = ['Vendor Name', 'Vendor Number']\n",
    "ddf = ddf[vendor_info]"
   ]
  },
  {
   "cell_type": "code",
   "execution_count": 24,
   "id": "3c45aeff-c011-4b90-a906-7252dbeb4fd5",
   "metadata": {},
   "outputs": [],
   "source": [
    "ddf = ddf.drop_duplicates().compute()"
   ]
  },
  {
   "cell_type": "code",
   "execution_count": 26,
   "id": "10200aa0-735b-42ab-8bfd-3c2752b3bf4e",
   "metadata": {},
   "outputs": [],
   "source": [
    "ddf.columns = ['VendorName', 'VendorNumber']"
   ]
  },
  {
   "cell_type": "code",
   "execution_count": 60,
   "id": "28b0b118-2ab7-4677-b0a9-9bfc96dc30c3",
   "metadata": {},
   "outputs": [],
   "source": [
    "idx_na = ddf['VendorNumber'].isna()\n",
    "name_na = ddf['VendorName'].isna()"
   ]
  },
  {
   "cell_type": "code",
   "execution_count": 61,
   "id": "e1860a65-56b0-47ab-88be-2d95e6398bcd",
   "metadata": {},
   "outputs": [
    {
     "data": {
      "text/html": [
       "<div>\n",
       "<style scoped>\n",
       "    .dataframe tbody tr th:only-of-type {\n",
       "        vertical-align: middle;\n",
       "    }\n",
       "\n",
       "    .dataframe tbody tr th {\n",
       "        vertical-align: top;\n",
       "    }\n",
       "\n",
       "    .dataframe thead th {\n",
       "        text-align: right;\n",
       "    }\n",
       "</style>\n",
       "<table border=\"1\" class=\"dataframe\">\n",
       "  <thead>\n",
       "    <tr style=\"text-align: right;\">\n",
       "      <th></th>\n",
       "      <th>VendorName</th>\n",
       "      <th>VendorNumber</th>\n",
       "    </tr>\n",
       "  </thead>\n",
       "  <tbody>\n",
       "    <tr>\n",
       "      <th>10224</th>\n",
       "      <td>Reservoir Distillery</td>\n",
       "      <td>NaN</td>\n",
       "    </tr>\n",
       "  </tbody>\n",
       "</table>\n",
       "</div>"
      ],
      "text/plain": [
       "                 VendorName  VendorNumber\n",
       "10224  Reservoir Distillery           NaN"
      ]
     },
     "execution_count": 61,
     "metadata": {},
     "output_type": "execute_result"
    }
   ],
   "source": [
    "ddf[idx_na]"
   ]
  },
  {
   "cell_type": "code",
   "execution_count": 62,
   "id": "97ff246e-e45b-4558-a903-df3d3de7a7b4",
   "metadata": {},
   "outputs": [
    {
     "data": {
      "text/plain": [
       "19765     10.0\n",
       "26872     10.0\n",
       "22376     14.0\n",
       "37747     27.0\n",
       "36267     33.0\n",
       "         ...  \n",
       "4760     977.0\n",
       "8        978.0\n",
       "29948    978.0\n",
       "38618    987.0\n",
       "6001     999.0\n",
       "Name: VendorNumber, Length: 555, dtype: float64"
      ]
     },
     "execution_count": 62,
     "metadata": {},
     "output_type": "execute_result"
    }
   ],
   "source": [
    "orderly_idx = ddf[~idx_na]['VendorNumber'].sort_values()\n",
    "\n",
    "orderly_idx"
   ]
  },
  {
   "cell_type": "code",
   "execution_count": 65,
   "id": "12e3455c-c49b-44a6-8577-20011ed02b64",
   "metadata": {},
   "outputs": [
    {
     "data": {
      "text/html": [
       "<div>\n",
       "<style scoped>\n",
       "    .dataframe tbody tr th:only-of-type {\n",
       "        vertical-align: middle;\n",
       "    }\n",
       "\n",
       "    .dataframe tbody tr th {\n",
       "        vertical-align: top;\n",
       "    }\n",
       "\n",
       "    .dataframe thead th {\n",
       "        text-align: right;\n",
       "    }\n",
       "</style>\n",
       "<table border=\"1\" class=\"dataframe\">\n",
       "  <thead>\n",
       "    <tr style=\"text-align: right;\">\n",
       "      <th></th>\n",
       "      <th>VendorName</th>\n",
       "      <th>VendorNumber</th>\n",
       "    </tr>\n",
       "  </thead>\n",
       "  <tbody>\n",
       "    <tr>\n",
       "      <th>10224</th>\n",
       "      <td>Reservoir Distillery</td>\n",
       "      <td>20.0</td>\n",
       "    </tr>\n",
       "  </tbody>\n",
       "</table>\n",
       "</div>"
      ],
      "text/plain": [
       "                 VendorName  VendorNumber\n",
       "10224  Reservoir Distillery          20.0"
      ]
     },
     "execution_count": 65,
     "metadata": {},
     "output_type": "execute_result"
    }
   ],
   "source": [
    "ddf[idx_na] = pd.Series(['Reservoir Distillery', 20])\n",
    "ddf[idx_na]"
   ]
  },
  {
   "cell_type": "code",
   "execution_count": 66,
   "id": "17277ab8-4873-4129-af4d-c4ac17f13645",
   "metadata": {},
   "outputs": [],
   "source": [
    "ddf['VendorNumber'] = ddf['VendorNumber'].astype(int)"
   ]
  },
  {
   "cell_type": "code",
   "execution_count": 69,
   "id": "ca10a022-199e-40e0-83c4-7bac4af60512",
   "metadata": {},
   "outputs": [
    {
     "data": {
      "text/plain": [
       "554"
      ]
     },
     "execution_count": 69,
     "metadata": {},
     "output_type": "execute_result"
    }
   ],
   "source": [
    "len(ddf['VendorName'].unique())"
   ]
  },
  {
   "cell_type": "code",
   "execution_count": 70,
   "id": "1ac70c75-85e7-4960-81ed-18ec8ffe50f0",
   "metadata": {},
   "outputs": [
    {
     "data": {
      "text/plain": [
       "402"
      ]
     },
     "execution_count": 70,
     "metadata": {},
     "output_type": "execute_result"
    }
   ],
   "source": [
    "len(ddf['VendorNumber'].unique())"
   ]
  },
  {
   "cell_type": "code",
   "execution_count": null,
   "id": "a69c6c13-51c3-45a5-b90a-8bbef71fed42",
   "metadata": {},
   "outputs": [],
   "source": [
    "ddf['VendorNumber']"
   ]
  },
  {
   "cell_type": "code",
   "execution_count": 83,
   "id": "aefcc929-3f31-48e8-871b-e7330288eafe",
   "metadata": {},
   "outputs": [
    {
     "data": {
      "text/plain": [
       "Int64Index([803, 214, 391, 192,  79, 114, 478, 389, 255, 154,\n",
       "            ...\n",
       "            208, 977, 198, 459, 107, 226, 381, 978, 495, 346],\n",
       "           dtype='int64', length=126)"
      ]
     },
     "execution_count": 83,
     "metadata": {},
     "output_type": "execute_result"
    }
   ],
   "source": [
    "np.where(ddf.VendorNumber.value_counts() > 1)\n",
    "ddf.VendorNumber.value_counts().index[np.where(ddf.VendorNumber.value_counts() > 1)]"
   ]
  },
  {
   "cell_type": "code",
   "execution_count": 84,
   "id": "9f334a5d-eaae-4c92-95f4-47782e19c0d7",
   "metadata": {},
   "outputs": [],
   "source": [
    "dup_idx = ddf.VendorNumber.value_counts().index[np.where(ddf.VendorNumber.value_counts() > 1)]"
   ]
  },
  {
   "cell_type": "code",
   "execution_count": 88,
   "id": "87b05a2e-aebd-4100-978e-b19f750c1d0f",
   "metadata": {},
   "outputs": [],
   "source": [
    "sorted_ddf = ddf[ddf['VendorNumber'].isin(dup_idx)].sort_values('VendorNumber')"
   ]
  },
  {
   "cell_type": "code",
   "execution_count": 94,
   "id": "15d1131a-b89c-471b-9b56-1ed1a324bc74",
   "metadata": {},
   "outputs": [
    {
     "data": {
      "text/html": [
       "<div>\n",
       "<style scoped>\n",
       "    .dataframe tbody tr th:only-of-type {\n",
       "        vertical-align: middle;\n",
       "    }\n",
       "\n",
       "    .dataframe tbody tr th {\n",
       "        vertical-align: top;\n",
       "    }\n",
       "\n",
       "    .dataframe thead th {\n",
       "        text-align: right;\n",
       "    }\n",
       "</style>\n",
       "<table border=\"1\" class=\"dataframe\">\n",
       "  <thead>\n",
       "    <tr style=\"text-align: right;\">\n",
       "      <th></th>\n",
       "      <th>VendorName</th>\n",
       "      <th>VendorNumber</th>\n",
       "    </tr>\n",
       "  </thead>\n",
       "  <tbody>\n",
       "    <tr>\n",
       "      <th>27644</th>\n",
       "      <td>RUSSIAN STANDARD VODKA</td>\n",
       "      <td>239</td>\n",
       "    </tr>\n",
       "    <tr>\n",
       "      <th>23</th>\n",
       "      <td>WILLIAM GRANT AND SONS, INC.</td>\n",
       "      <td>240</td>\n",
       "    </tr>\n",
       "    <tr>\n",
       "      <th>10594</th>\n",
       "      <td>William Grant and Sons, Inc.</td>\n",
       "      <td>240</td>\n",
       "    </tr>\n",
       "    <tr>\n",
       "      <th>27053</th>\n",
       "      <td>William Grant &amp; Sons Inc</td>\n",
       "      <td>240</td>\n",
       "    </tr>\n",
       "    <tr>\n",
       "      <th>24858</th>\n",
       "      <td>Filibuster Barrels LLC</td>\n",
       "      <td>244</td>\n",
       "    </tr>\n",
       "    <tr>\n",
       "      <th>41545</th>\n",
       "      <td>Dilawri Barrels LLC</td>\n",
       "      <td>244</td>\n",
       "    </tr>\n",
       "    <tr>\n",
       "      <th>207</th>\n",
       "      <td>Wilson Daniels Ltd.</td>\n",
       "      <td>255</td>\n",
       "    </tr>\n",
       "    <tr>\n",
       "      <th>22023</th>\n",
       "      <td>WILSON DANIELS LTD</td>\n",
       "      <td>255</td>\n",
       "    </tr>\n",
       "    <tr>\n",
       "      <th>28722</th>\n",
       "      <td>Infinium Spirits</td>\n",
       "      <td>255</td>\n",
       "    </tr>\n",
       "    <tr>\n",
       "      <th>14985</th>\n",
       "      <td>HAAS BROTHERS</td>\n",
       "      <td>256</td>\n",
       "    </tr>\n",
       "    <tr>\n",
       "      <th>18487</th>\n",
       "      <td>Haas Brothers</td>\n",
       "      <td>256</td>\n",
       "    </tr>\n",
       "    <tr>\n",
       "      <th>28089</th>\n",
       "      <td>Purple Valley Imports</td>\n",
       "      <td>258</td>\n",
       "    </tr>\n",
       "    <tr>\n",
       "      <th>21464</th>\n",
       "      <td>Purple Valley Imports / Glass Revolution Imports</td>\n",
       "      <td>258</td>\n",
       "    </tr>\n",
       "    <tr>\n",
       "      <th>9</th>\n",
       "      <td>Diageo Americas</td>\n",
       "      <td>260</td>\n",
       "    </tr>\n",
       "    <tr>\n",
       "      <th>14520</th>\n",
       "      <td>DIAGEO AMERICAS</td>\n",
       "      <td>260</td>\n",
       "    </tr>\n",
       "    <tr>\n",
       "      <th>25946</th>\n",
       "      <td>IMPERIAL BRANDS INC</td>\n",
       "      <td>267</td>\n",
       "    </tr>\n",
       "    <tr>\n",
       "      <th>477</th>\n",
       "      <td>Imperial Brands, Inc.</td>\n",
       "      <td>267</td>\n",
       "    </tr>\n",
       "    <tr>\n",
       "      <th>31217</th>\n",
       "      <td>Impex Beverages Inc</td>\n",
       "      <td>268</td>\n",
       "    </tr>\n",
       "    <tr>\n",
       "      <th>27382</th>\n",
       "      <td>IMPEX BEVERAGE INC</td>\n",
       "      <td>268</td>\n",
       "    </tr>\n",
       "    <tr>\n",
       "      <th>4647</th>\n",
       "      <td>STOLI GROUP</td>\n",
       "      <td>277</td>\n",
       "    </tr>\n",
       "  </tbody>\n",
       "</table>\n",
       "</div>"
      ],
      "text/plain": [
       "                                             VendorName  VendorNumber\n",
       "27644                            RUSSIAN STANDARD VODKA           239\n",
       "23                         WILLIAM GRANT AND SONS, INC.           240\n",
       "10594                      William Grant and Sons, Inc.           240\n",
       "27053                          William Grant & Sons Inc           240\n",
       "24858                            Filibuster Barrels LLC           244\n",
       "41545                               Dilawri Barrels LLC           244\n",
       "207                                 Wilson Daniels Ltd.           255\n",
       "22023                                WILSON DANIELS LTD           255\n",
       "28722                                  Infinium Spirits           255\n",
       "14985                                     HAAS BROTHERS           256\n",
       "18487                                     Haas Brothers           256\n",
       "28089                             Purple Valley Imports           258\n",
       "21464  Purple Valley Imports / Glass Revolution Imports           258\n",
       "9                                       Diageo Americas           260\n",
       "14520                                   DIAGEO AMERICAS           260\n",
       "25946                               IMPERIAL BRANDS INC           267\n",
       "477                               Imperial Brands, Inc.           267\n",
       "31217                               Impex Beverages Inc           268\n",
       "27382                                IMPEX BEVERAGE INC           268\n",
       "4647                                        STOLI GROUP           277"
      ]
     },
     "execution_count": 94,
     "metadata": {},
     "output_type": "execute_result"
    }
   ],
   "source": [
    "sorted_ddf.iloc[100:120,:]"
   ]
  },
  {
   "cell_type": "code",
   "execution_count": 95,
   "id": "3bec69fd-41c9-4b86-a63c-3241c76ad5dc",
   "metadata": {},
   "outputs": [],
   "source": [
    "ddf = ddf.drop_duplicates('VendorNumber')"
   ]
  },
  {
   "cell_type": "code",
   "execution_count": 35,
   "id": "540bc89f-4981-4372-9018-5371aa3c9d5d",
   "metadata": {},
   "outputs": [],
   "source": [
    "ddf[name_na] = pd.Series(['Unknown', 999])"
   ]
  },
  {
   "cell_type": "code",
   "execution_count": 36,
   "id": "d3046d83-22d2-416a-b046-bc1a44e976b2",
   "metadata": {},
   "outputs": [
    {
     "data": {
      "text/html": [
       "<div>\n",
       "<style scoped>\n",
       "    .dataframe tbody tr th:only-of-type {\n",
       "        vertical-align: middle;\n",
       "    }\n",
       "\n",
       "    .dataframe tbody tr th {\n",
       "        vertical-align: top;\n",
       "    }\n",
       "\n",
       "    .dataframe thead th {\n",
       "        text-align: right;\n",
       "    }\n",
       "</style>\n",
       "<table border=\"1\" class=\"dataframe\">\n",
       "  <thead>\n",
       "    <tr style=\"text-align: right;\">\n",
       "      <th></th>\n",
       "      <th>VendorName</th>\n",
       "      <th>VendorNumber</th>\n",
       "    </tr>\n",
       "  </thead>\n",
       "  <tbody>\n",
       "  </tbody>\n",
       "</table>\n",
       "</div>"
      ],
      "text/plain": [
       "Empty DataFrame\n",
       "Columns: [VendorName, VendorNumber]\n",
       "Index: []"
      ]
     },
     "execution_count": 36,
     "metadata": {},
     "output_type": "execute_result"
    }
   ],
   "source": [
    "ddf[name_na]"
   ]
  },
  {
   "cell_type": "code",
   "execution_count": 49,
   "id": "3f09652a-9da5-4ea0-96b0-58bfb7b35f09",
   "metadata": {},
   "outputs": [
    {
     "data": {
      "text/html": [
       "<div>\n",
       "<style scoped>\n",
       "    .dataframe tbody tr th:only-of-type {\n",
       "        vertical-align: middle;\n",
       "    }\n",
       "\n",
       "    .dataframe tbody tr th {\n",
       "        vertical-align: top;\n",
       "    }\n",
       "\n",
       "    .dataframe thead th {\n",
       "        text-align: right;\n",
       "    }\n",
       "</style>\n",
       "<table border=\"1\" class=\"dataframe\">\n",
       "  <thead>\n",
       "    <tr style=\"text-align: right;\">\n",
       "      <th></th>\n",
       "      <th>VendorName</th>\n",
       "      <th>VendorNumber</th>\n",
       "    </tr>\n",
       "  </thead>\n",
       "  <tbody>\n",
       "  </tbody>\n",
       "</table>\n",
       "</div>"
      ],
      "text/plain": [
       "Empty DataFrame\n",
       "Columns: [VendorName, VendorNumber]\n",
       "Index: []"
      ]
     },
     "execution_count": 49,
     "metadata": {},
     "output_type": "execute_result"
    }
   ],
   "source": [
    "ddf[ddf['VendorName'].str.contains('Llc')]"
   ]
  },
  {
   "cell_type": "code",
   "execution_count": 48,
   "id": "3295042b-3598-4afc-921f-91c64aebd4bd",
   "metadata": {},
   "outputs": [],
   "source": [
    "ddf[ddf['VendorName'].str.contains('Llc')] = pd.Series(['Fire Tail Brands, LLC', 194])"
   ]
  },
  {
   "cell_type": "code",
   "execution_count": 97,
   "id": "47ef90a0-b99c-4e6e-a617-3a562dfca663",
   "metadata": {
    "tags": []
   },
   "outputs": [],
   "source": [
    "ddf.to_csv('./data/vendor.csv')"
   ]
  },
  {
   "cell_type": "markdown",
   "id": "ee1914d4-3394-4191-9964-02887ca114b8",
   "metadata": {},
   "source": [
    "And onto the next one!"
   ]
  },
  {
   "cell_type": "code",
   "execution_count": 100,
   "id": "45fa3181-71e3-48a2-9568-6698c2efd1ea",
   "metadata": {},
   "outputs": [],
   "source": [
    "ddf = data_prep(price_info)"
   ]
  },
  {
   "cell_type": "code",
   "execution_count": 101,
   "id": "e9654dd7-eb19-487a-8226-35515c7c5f82",
   "metadata": {},
   "outputs": [
    {
     "data": {
      "text/plain": [
       "Index(['Item Number', 'State Bottle Cost', 'State Bottle Retail', 'Date'], dtype='object')"
      ]
     },
     "execution_count": 101,
     "metadata": {},
     "output_type": "execute_result"
    }
   ],
   "source": [
    "ddf.columns"
   ]
  },
  {
   "cell_type": "code",
   "execution_count": 111,
   "id": "5eaf92ac-0183-4004-877a-a75cecc54154",
   "metadata": {},
   "outputs": [],
   "source": [
    "ddf.columns = ['ItemNumber', 'StateBottleCost', 'StateBottleRetail', 'Date']"
   ]
  },
  {
   "cell_type": "markdown",
   "id": "69bf4115-35e8-49cf-8aeb-55a43df85eb3",
   "metadata": {},
   "source": [
    "#ddf.drop_duplicates()\n",
    "\n",
    "want unique prices for each item\n",
    "then for each unique row look back and get a subset of the data that has that price\n",
    "look for earliest and latest date to give a range / idea of what the price was\n",
    "update again with range over the value in date"
   ]
  },
  {
   "cell_type": "code",
   "execution_count": 107,
   "id": "49c83118-34cb-4dcf-afa6-7c15056bd599",
   "metadata": {},
   "outputs": [],
   "source": [
    "sub_ddf = ddf[ddf.columns[:3]].drop_duplicates().compute()"
   ]
  },
  {
   "cell_type": "code",
   "execution_count": 112,
   "id": "f1ff0017-6c83-415a-90f3-c6726f289d6e",
   "metadata": {},
   "outputs": [],
   "source": [
    "sub_ddf.columns = ['ItemNumber', 'StateBottleCost', 'StateBottleRetail']"
   ]
  },
  {
   "cell_type": "code",
   "execution_count": 113,
   "id": "d7445919-cfbf-47f5-b525-21a0fd59404b",
   "metadata": {},
   "outputs": [
    {
     "data": {
      "text/html": [
       "<div>\n",
       "<style scoped>\n",
       "    .dataframe tbody tr th:only-of-type {\n",
       "        vertical-align: middle;\n",
       "    }\n",
       "\n",
       "    .dataframe tbody tr th {\n",
       "        vertical-align: top;\n",
       "    }\n",
       "\n",
       "    .dataframe thead th {\n",
       "        text-align: right;\n",
       "    }\n",
       "</style>\n",
       "<table border=\"1\" class=\"dataframe\">\n",
       "  <thead>\n",
       "    <tr style=\"text-align: right;\">\n",
       "      <th></th>\n",
       "      <th>ItemNumber</th>\n",
       "      <th>StateBottleCost</th>\n",
       "      <th>StateBottleRetail</th>\n",
       "    </tr>\n",
       "  </thead>\n",
       "  <tbody>\n",
       "    <tr>\n",
       "      <th>43993</th>\n",
       "      <td>100001</td>\n",
       "      <td>8.00</td>\n",
       "      <td>12.00</td>\n",
       "    </tr>\n",
       "    <tr>\n",
       "      <th>9973</th>\n",
       "      <td>100005</td>\n",
       "      <td>21.98</td>\n",
       "      <td>32.97</td>\n",
       "    </tr>\n",
       "    <tr>\n",
       "      <th>38559</th>\n",
       "      <td>100006</td>\n",
       "      <td>23.32</td>\n",
       "      <td>34.98</td>\n",
       "    </tr>\n",
       "    <tr>\n",
       "      <th>28373</th>\n",
       "      <td>100015</td>\n",
       "      <td>30.00</td>\n",
       "      <td>45.00</td>\n",
       "    </tr>\n",
       "    <tr>\n",
       "      <th>14729</th>\n",
       "      <td>100017</td>\n",
       "      <td>23.62</td>\n",
       "      <td>35.43</td>\n",
       "    </tr>\n",
       "    <tr>\n",
       "      <th>...</th>\n",
       "      <td>...</td>\n",
       "      <td>...</td>\n",
       "      <td>...</td>\n",
       "    </tr>\n",
       "    <tr>\n",
       "      <th>2798</th>\n",
       "      <td>999992</td>\n",
       "      <td>45.00</td>\n",
       "      <td>67.50</td>\n",
       "    </tr>\n",
       "    <tr>\n",
       "      <th>12284</th>\n",
       "      <td>999993</td>\n",
       "      <td>21.25</td>\n",
       "      <td>31.88</td>\n",
       "    </tr>\n",
       "    <tr>\n",
       "      <th>23430</th>\n",
       "      <td>999994</td>\n",
       "      <td>521.66</td>\n",
       "      <td>782.49</td>\n",
       "    </tr>\n",
       "    <tr>\n",
       "      <th>34718</th>\n",
       "      <td>999995</td>\n",
       "      <td>17.00</td>\n",
       "      <td>25.50</td>\n",
       "    </tr>\n",
       "    <tr>\n",
       "      <th>25963</th>\n",
       "      <td>x904631</td>\n",
       "      <td>14.55</td>\n",
       "      <td>21.83</td>\n",
       "    </tr>\n",
       "  </tbody>\n",
       "</table>\n",
       "<p>19935 rows × 3 columns</p>\n",
       "</div>"
      ],
      "text/plain": [
       "      ItemNumber  StateBottleCost  StateBottleRetail\n",
       "43993     100001             8.00              12.00\n",
       "9973      100005            21.98              32.97\n",
       "38559     100006            23.32              34.98\n",
       "28373     100015            30.00              45.00\n",
       "14729     100017            23.62              35.43\n",
       "...          ...              ...                ...\n",
       "2798      999992            45.00              67.50\n",
       "12284     999993            21.25              31.88\n",
       "23430     999994           521.66             782.49\n",
       "34718     999995            17.00              25.50\n",
       "25963    x904631            14.55              21.83\n",
       "\n",
       "[19935 rows x 3 columns]"
      ]
     },
     "execution_count": 113,
     "metadata": {},
     "output_type": "execute_result"
    }
   ],
   "source": [
    "sub_ddf.sort_values('ItemNumber')"
   ]
  },
  {
   "cell_type": "code",
   "execution_count": 114,
   "id": "84e7c4ef-a727-4040-a58e-88ca66ffbd28",
   "metadata": {},
   "outputs": [
    {
     "data": {
      "text/html": [
       "<div>\n",
       "<style scoped>\n",
       "    .dataframe tbody tr th:only-of-type {\n",
       "        vertical-align: middle;\n",
       "    }\n",
       "\n",
       "    .dataframe tbody tr th {\n",
       "        vertical-align: top;\n",
       "    }\n",
       "\n",
       "    .dataframe thead th {\n",
       "        text-align: right;\n",
       "    }\n",
       "</style>\n",
       "<table border=\"1\" class=\"dataframe\">\n",
       "  <thead>\n",
       "    <tr style=\"text-align: right;\">\n",
       "      <th></th>\n",
       "      <th>ItemNumber</th>\n",
       "      <th>StateBottleCost</th>\n",
       "      <th>StateBottleRetail</th>\n",
       "    </tr>\n",
       "  </thead>\n",
       "  <tbody>\n",
       "    <tr>\n",
       "      <th>0</th>\n",
       "      <td>35926</td>\n",
       "      <td>3.37</td>\n",
       "      <td>5.06</td>\n",
       "    </tr>\n",
       "    <tr>\n",
       "      <th>1</th>\n",
       "      <td>23824</td>\n",
       "      <td>2.00</td>\n",
       "      <td>2.99</td>\n",
       "    </tr>\n",
       "    <tr>\n",
       "      <th>2</th>\n",
       "      <td>12888</td>\n",
       "      <td>8.98</td>\n",
       "      <td>13.47</td>\n",
       "    </tr>\n",
       "    <tr>\n",
       "      <th>3</th>\n",
       "      <td>48106</td>\n",
       "      <td>18.99</td>\n",
       "      <td>28.49</td>\n",
       "    </tr>\n",
       "    <tr>\n",
       "      <th>4</th>\n",
       "      <td>53216</td>\n",
       "      <td>6.29</td>\n",
       "      <td>9.44</td>\n",
       "    </tr>\n",
       "    <tr>\n",
       "      <th>...</th>\n",
       "      <td>...</td>\n",
       "      <td>...</td>\n",
       "      <td>...</td>\n",
       "    </tr>\n",
       "    <tr>\n",
       "      <th>34894</th>\n",
       "      <td>933291</td>\n",
       "      <td>5.99</td>\n",
       "      <td>8.99</td>\n",
       "    </tr>\n",
       "    <tr>\n",
       "      <th>35715</th>\n",
       "      <td>903780</td>\n",
       "      <td>3.85</td>\n",
       "      <td>5.78</td>\n",
       "    </tr>\n",
       "    <tr>\n",
       "      <th>9912</th>\n",
       "      <td>903245</td>\n",
       "      <td>3.38</td>\n",
       "      <td>5.07</td>\n",
       "    </tr>\n",
       "    <tr>\n",
       "      <th>18427</th>\n",
       "      <td>904664</td>\n",
       "      <td>59.00</td>\n",
       "      <td>88.50</td>\n",
       "    </tr>\n",
       "    <tr>\n",
       "      <th>35580</th>\n",
       "      <td>903367</td>\n",
       "      <td>27.83</td>\n",
       "      <td>41.75</td>\n",
       "    </tr>\n",
       "  </tbody>\n",
       "</table>\n",
       "<p>11013 rows × 3 columns</p>\n",
       "</div>"
      ],
      "text/plain": [
       "      ItemNumber  StateBottleCost  StateBottleRetail\n",
       "0          35926             3.37               5.06\n",
       "1          23824             2.00               2.99\n",
       "2          12888             8.98              13.47\n",
       "3          48106            18.99              28.49\n",
       "4          53216             6.29               9.44\n",
       "...          ...              ...                ...\n",
       "34894     933291             5.99               8.99\n",
       "35715     903780             3.85               5.78\n",
       "9912      903245             3.38               5.07\n",
       "18427     904664            59.00              88.50\n",
       "35580     903367            27.83              41.75\n",
       "\n",
       "[11013 rows x 3 columns]"
      ]
     },
     "execution_count": 114,
     "metadata": {},
     "output_type": "execute_result"
    }
   ],
   "source": [
    "sub_ddf.drop_duplicates('ItemNumber')"
   ]
  },
  {
   "cell_type": "code",
   "execution_count": 115,
   "id": "72d639cb-78f2-4c5e-b687-14061ff445d3",
   "metadata": {},
   "outputs": [],
   "source": [
    "dup_idx = sub_ddf.ItemNumber.value_counts().index[np.where(sub_ddf.ItemNumber.value_counts() > 1)]"
   ]
  },
  {
   "cell_type": "code",
   "execution_count": 117,
   "id": "2cb0b4f4-52e7-49aa-9897-e1127d1786ac",
   "metadata": {},
   "outputs": [],
   "source": [
    "sorted_ddf = sub_ddf[sub_ddf['ItemNumber'].isin(dup_idx)].sort_values('ItemNumber')"
   ]
  },
  {
   "cell_type": "code",
   "execution_count": 119,
   "id": "ad950562-606c-41d9-ab2d-b9b51f9894ef",
   "metadata": {},
   "outputs": [
    {
     "data": {
      "text/plain": [
       "647       78\n",
       "100762    38\n",
       "65144     36\n",
       "42666     17\n",
       "21598     15\n",
       "          ..\n",
       "4750       1\n",
       "967388     1\n",
       "916839     1\n",
       "903131     1\n",
       "903367     1\n",
       "Name: ItemNumber, Length: 11013, dtype: int64"
      ]
     },
     "execution_count": 119,
     "metadata": {},
     "output_type": "execute_result"
    }
   ],
   "source": [
    "sub_ddf.ItemNumber.value_counts()"
   ]
  },
  {
   "cell_type": "code",
   "execution_count": 118,
   "id": "58bf39af-3700-46c8-837f-30b6bff7bf52",
   "metadata": {},
   "outputs": [
    {
     "data": {
      "text/html": [
       "<div>\n",
       "<style scoped>\n",
       "    .dataframe tbody tr th:only-of-type {\n",
       "        vertical-align: middle;\n",
       "    }\n",
       "\n",
       "    .dataframe tbody tr th {\n",
       "        vertical-align: top;\n",
       "    }\n",
       "\n",
       "    .dataframe thead th {\n",
       "        text-align: right;\n",
       "    }\n",
       "</style>\n",
       "<table border=\"1\" class=\"dataframe\">\n",
       "  <thead>\n",
       "    <tr style=\"text-align: right;\">\n",
       "      <th></th>\n",
       "      <th>ItemNumber</th>\n",
       "      <th>StateBottleCost</th>\n",
       "      <th>StateBottleRetail</th>\n",
       "    </tr>\n",
       "  </thead>\n",
       "  <tbody>\n",
       "    <tr>\n",
       "      <th>14729</th>\n",
       "      <td>100017</td>\n",
       "      <td>23.62</td>\n",
       "      <td>35.43</td>\n",
       "    </tr>\n",
       "    <tr>\n",
       "      <th>12019</th>\n",
       "      <td>100017</td>\n",
       "      <td>22.04</td>\n",
       "      <td>33.06</td>\n",
       "    </tr>\n",
       "    <tr>\n",
       "      <th>39977</th>\n",
       "      <td>100040</td>\n",
       "      <td>23.31</td>\n",
       "      <td>34.97</td>\n",
       "    </tr>\n",
       "    <tr>\n",
       "      <th>13497</th>\n",
       "      <td>100040</td>\n",
       "      <td>14.50</td>\n",
       "      <td>34.97</td>\n",
       "    </tr>\n",
       "    <tr>\n",
       "      <th>13401</th>\n",
       "      <td>100040</td>\n",
       "      <td>15.46</td>\n",
       "      <td>34.97</td>\n",
       "    </tr>\n",
       "    <tr>\n",
       "      <th>...</th>\n",
       "      <td>...</td>\n",
       "      <td>...</td>\n",
       "      <td>...</td>\n",
       "    </tr>\n",
       "    <tr>\n",
       "      <th>7014</th>\n",
       "      <td>998071</td>\n",
       "      <td>23.32</td>\n",
       "      <td>34.98</td>\n",
       "    </tr>\n",
       "    <tr>\n",
       "      <th>3143</th>\n",
       "      <td>998074</td>\n",
       "      <td>23.32</td>\n",
       "      <td>34.98</td>\n",
       "    </tr>\n",
       "    <tr>\n",
       "      <th>17179</th>\n",
       "      <td>998074</td>\n",
       "      <td>24.00</td>\n",
       "      <td>36.00</td>\n",
       "    </tr>\n",
       "    <tr>\n",
       "      <th>23244</th>\n",
       "      <td>998546</td>\n",
       "      <td>22.50</td>\n",
       "      <td>33.75</td>\n",
       "    </tr>\n",
       "    <tr>\n",
       "      <th>39375</th>\n",
       "      <td>998546</td>\n",
       "      <td>21.32</td>\n",
       "      <td>31.98</td>\n",
       "    </tr>\n",
       "  </tbody>\n",
       "</table>\n",
       "<p>12853 rows × 3 columns</p>\n",
       "</div>"
      ],
      "text/plain": [
       "      ItemNumber  StateBottleCost  StateBottleRetail\n",
       "14729     100017            23.62              35.43\n",
       "12019     100017            22.04              33.06\n",
       "39977     100040            23.31              34.97\n",
       "13497     100040            14.50              34.97\n",
       "13401     100040            15.46              34.97\n",
       "...          ...              ...                ...\n",
       "7014      998071            23.32              34.98\n",
       "3143      998074            23.32              34.98\n",
       "17179     998074            24.00              36.00\n",
       "23244     998546            22.50              33.75\n",
       "39375     998546            21.32              31.98\n",
       "\n",
       "[12853 rows x 3 columns]"
      ]
     },
     "execution_count": 118,
     "metadata": {},
     "output_type": "execute_result"
    }
   ],
   "source": [
    "sorted_ddf"
   ]
  },
  {
   "cell_type": "code",
   "execution_count": 120,
   "id": "44bd950b-ce2a-43e8-b9f0-c0e4ec4e254b",
   "metadata": {},
   "outputs": [],
   "source": [
    "unique_itemId = sorted_ddf.ItemNumber.unique()"
   ]
  },
  {
   "cell_type": "code",
   "execution_count": 156,
   "id": "0e6aad6f-9257-416d-9d99-320c482d88f5",
   "metadata": {},
   "outputs": [
    {
     "data": {
      "text/plain": [
       "3931"
      ]
     },
     "execution_count": 156,
     "metadata": {},
     "output_type": "execute_result"
    }
   ],
   "source": [
    "len(unique_itemId)"
   ]
  },
  {
   "cell_type": "code",
   "execution_count": 125,
   "id": "3f26dfbe-4761-4038-a5e9-5c8c34c2cf71",
   "metadata": {},
   "outputs": [],
   "source": [
    "replace = ddf[ddf.ItemNumber == '100017'].compute()"
   ]
  },
  {
   "cell_type": "code",
   "execution_count": 130,
   "id": "9f6c60e4-baf6-47ae-b61b-a9aa6ee0c695",
   "metadata": {},
   "outputs": [],
   "source": [
    "# once we have it in datetime we can use the min and max functions to aggregate.\n",
    "replace.Date = pd.to_datetime(replace['Date'])"
   ]
  },
  {
   "cell_type": "code",
   "execution_count": 137,
   "id": "8000b66d-4e64-4697-9dee-c189c5e94447",
   "metadata": {},
   "outputs": [],
   "source": [
    "reduce = replace.groupby([\"ItemNumber\", \"StateBottleCost\", \"StateBottleRetail\"]).agg(['min', 'max']).reset_index()"
   ]
  },
  {
   "cell_type": "code",
   "execution_count": 138,
   "id": "0986f171-1d46-4309-8830-aa7d433197e1",
   "metadata": {},
   "outputs": [],
   "source": [
    "empty = pd.DataFrame(columns = reduce.columns)"
   ]
  },
  {
   "cell_type": "code",
   "execution_count": 146,
   "id": "8b2f05fc-b958-4167-a39e-f2e606668ca6",
   "metadata": {},
   "outputs": [],
   "source": [
    "empty = empty.append(reduce)"
   ]
  },
  {
   "cell_type": "code",
   "execution_count": 147,
   "id": "522c1549-9b45-4363-ae1d-6f2ef558ce02",
   "metadata": {},
   "outputs": [
    {
     "data": {
      "text/html": [
       "<div>\n",
       "<style scoped>\n",
       "    .dataframe tbody tr th:only-of-type {\n",
       "        vertical-align: middle;\n",
       "    }\n",
       "\n",
       "    .dataframe tbody tr th {\n",
       "        vertical-align: top;\n",
       "    }\n",
       "\n",
       "    .dataframe thead tr th {\n",
       "        text-align: left;\n",
       "    }\n",
       "</style>\n",
       "<table border=\"1\" class=\"dataframe\">\n",
       "  <thead>\n",
       "    <tr>\n",
       "      <th></th>\n",
       "      <th>ItemNumber</th>\n",
       "      <th>StateBottleCost</th>\n",
       "      <th>StateBottleRetail</th>\n",
       "      <th colspan=\"2\" halign=\"left\">Date</th>\n",
       "    </tr>\n",
       "    <tr>\n",
       "      <th></th>\n",
       "      <th></th>\n",
       "      <th></th>\n",
       "      <th></th>\n",
       "      <th>min</th>\n",
       "      <th>max</th>\n",
       "    </tr>\n",
       "  </thead>\n",
       "  <tbody>\n",
       "    <tr>\n",
       "      <th>0</th>\n",
       "      <td>100017</td>\n",
       "      <td>22.04</td>\n",
       "      <td>33.06</td>\n",
       "      <td>2016-06-01</td>\n",
       "      <td>2016-08-23</td>\n",
       "    </tr>\n",
       "    <tr>\n",
       "      <th>1</th>\n",
       "      <td>100017</td>\n",
       "      <td>23.62</td>\n",
       "      <td>35.43</td>\n",
       "      <td>2016-09-08</td>\n",
       "      <td>2018-04-17</td>\n",
       "    </tr>\n",
       "  </tbody>\n",
       "</table>\n",
       "</div>"
      ],
      "text/plain": [
       "  ItemNumber StateBottleCost StateBottleRetail       Date           \n",
       "                                                      min        max\n",
       "0     100017           22.04             33.06 2016-06-01 2016-08-23\n",
       "1     100017           23.62             35.43 2016-09-08 2018-04-17"
      ]
     },
     "execution_count": 147,
     "metadata": {},
     "output_type": "execute_result"
    }
   ],
   "source": [
    "empty"
   ]
  },
  {
   "cell_type": "markdown",
   "id": "27a0ad89-fa71-45b2-ab5b-32388d4e62a4",
   "metadata": {},
   "source": [
    "Alright, we're done figuring it out for a single case, so lets build it out into a for loop in order to process the rest of the data quickly."
   ]
  },
  {
   "cell_type": "code",
   "execution_count": 149,
   "id": "d70fd7f1-8859-4d4e-abd0-a21026ffe1ab",
   "metadata": {},
   "outputs": [
    {
     "data": {
      "text/html": [
       "<div>\n",
       "<style scoped>\n",
       "    .dataframe tbody tr th:only-of-type {\n",
       "        vertical-align: middle;\n",
       "    }\n",
       "\n",
       "    .dataframe tbody tr th {\n",
       "        vertical-align: top;\n",
       "    }\n",
       "\n",
       "    .dataframe thead tr th {\n",
       "        text-align: left;\n",
       "    }\n",
       "</style>\n",
       "<table border=\"1\" class=\"dataframe\">\n",
       "  <thead>\n",
       "    <tr>\n",
       "      <th></th>\n",
       "      <th>ItemNumber</th>\n",
       "      <th>StateBottleCost</th>\n",
       "      <th>StateBottleRetail</th>\n",
       "      <th colspan=\"2\" halign=\"left\">Date</th>\n",
       "    </tr>\n",
       "    <tr>\n",
       "      <th></th>\n",
       "      <th></th>\n",
       "      <th></th>\n",
       "      <th></th>\n",
       "      <th>min</th>\n",
       "      <th>max</th>\n",
       "    </tr>\n",
       "  </thead>\n",
       "  <tbody>\n",
       "    <tr>\n",
       "      <th>0</th>\n",
       "      <td>100017</td>\n",
       "      <td>22.04</td>\n",
       "      <td>33.06</td>\n",
       "      <td>2016-06-01</td>\n",
       "      <td>2016-08-23</td>\n",
       "    </tr>\n",
       "    <tr>\n",
       "      <th>1</th>\n",
       "      <td>100017</td>\n",
       "      <td>23.62</td>\n",
       "      <td>35.43</td>\n",
       "      <td>2016-09-08</td>\n",
       "      <td>2018-04-17</td>\n",
       "    </tr>\n",
       "  </tbody>\n",
       "</table>\n",
       "</div>"
      ],
      "text/plain": [
       "  ItemNumber StateBottleCost StateBottleRetail       Date           \n",
       "                                                      min        max\n",
       "0     100017           22.04             33.06 2016-06-01 2016-08-23\n",
       "1     100017           23.62             35.43 2016-09-08 2018-04-17"
      ]
     },
     "execution_count": 149,
     "metadata": {},
     "output_type": "execute_result"
    }
   ],
   "source": [
    "# making sure it runs without any initialization besides the idx list\n",
    "pd.DataFrame().append(reduce)"
   ]
  },
  {
   "cell_type": "code",
   "execution_count": null,
   "id": "723dd19b-2aa6-457a-8005-6dac454ea9d3",
   "metadata": {},
   "outputs": [
    {
     "name": "stdout",
     "output_type": "stream",
     "text": [
      "CPU times: user 2 µs, sys: 1e+03 ns, total: 3 µs\n",
      "Wall time: 5.96 µs\n"
     ]
    }
   ],
   "source": [
    "# we want to make sure that it runs for a small section before unleashing it on the larger db.\n",
    "# with so much data this cell will run for a while, but for the extra date information we can\n",
    "# wait for the code to resolve.\n",
    "%time\n",
    "empty = pd.DataFrame()\n",
    "\n",
    "for idx in unique_itemId:\n",
    "    replace = ddf[ddf.ItemNumber == idx].compute()\n",
    "    replace.Date = pd.to_datetime(replace['Date'])\n",
    "    reduce = replace.groupby([\"ItemNumber\", \"StateBottleCost\", \"StateBottleRetail\"]).agg(['min', 'max']).reset_index()\n",
    "    \n",
    "    empty = empty.append(reduce)"
   ]
  },
  {
   "cell_type": "code",
   "execution_count": 155,
   "id": "1b6a3a63-7038-4f50-b4c2-dfc3489ccbcb",
   "metadata": {},
   "outputs": [
    {
     "data": {
      "text/plain": [
       "54"
      ]
     },
     "execution_count": 155,
     "metadata": {},
     "output_type": "execute_result"
    }
   ],
   "source": [
    "len(empty.ItemNumber.unique())"
   ]
  },
  {
   "cell_type": "code",
   "execution_count": 157,
   "id": "f01a8ca1-82f4-4978-b4b4-f22f18a5fc71",
   "metadata": {},
   "outputs": [],
   "source": [
    "trimmed = [x for x in unique_itemId if x not in empty.ItemNumber.unique()]"
   ]
  },
  {
   "cell_type": "code",
   "execution_count": 159,
   "id": "781eaef2-bb13-4004-9ae9-d5b87f26f29c",
   "metadata": {},
   "outputs": [
    {
     "data": {
      "text/plain": [
       "True"
      ]
     },
     "execution_count": 159,
     "metadata": {},
     "output_type": "execute_result"
    }
   ],
   "source": [
    "len(trimmed) + len(empty.ItemNumber.unique()) == len(unique_itemId)"
   ]
  },
  {
   "cell_type": "code",
   "execution_count": 163,
   "id": "094d532f-696d-46ae-804d-09ec38cf8861",
   "metadata": {},
   "outputs": [
    {
     "ename": "KeyboardInterrupt",
     "evalue": "",
     "output_type": "error",
     "traceback": [
      "\u001b[0;31m---------------------------------------------------------------------------\u001b[0m",
      "\u001b[0;31mKeyboardInterrupt\u001b[0m                         Traceback (most recent call last)",
      "\u001b[0;32m/var/folders/cn/9ny0n35x1p18h680wlz6lmzm0000gn/T/ipykernel_24213/3928970029.py\u001b[0m in \u001b[0;36m<module>\u001b[0;34m\u001b[0m\n\u001b[1;32m      1\u001b[0m \u001b[0;32mfor\u001b[0m \u001b[0midx\u001b[0m \u001b[0;32min\u001b[0m \u001b[0mtrimmed\u001b[0m\u001b[0;34m[\u001b[0m\u001b[0;36m20\u001b[0m\u001b[0;34m:\u001b[0m\u001b[0;34m]\u001b[0m\u001b[0;34m:\u001b[0m\u001b[0;34m\u001b[0m\u001b[0;34m\u001b[0m\u001b[0m\n\u001b[0;32m----> 2\u001b[0;31m     \u001b[0mreplace\u001b[0m \u001b[0;34m=\u001b[0m \u001b[0mddf\u001b[0m\u001b[0;34m[\u001b[0m\u001b[0mddf\u001b[0m\u001b[0;34m.\u001b[0m\u001b[0mItemNumber\u001b[0m \u001b[0;34m==\u001b[0m \u001b[0midx\u001b[0m\u001b[0;34m]\u001b[0m\u001b[0;34m.\u001b[0m\u001b[0mcompute\u001b[0m\u001b[0;34m(\u001b[0m\u001b[0;34m)\u001b[0m\u001b[0;34m\u001b[0m\u001b[0;34m\u001b[0m\u001b[0m\n\u001b[0m\u001b[1;32m      3\u001b[0m     \u001b[0mreplace\u001b[0m\u001b[0;34m.\u001b[0m\u001b[0mDate\u001b[0m \u001b[0;34m=\u001b[0m \u001b[0mpd\u001b[0m\u001b[0;34m.\u001b[0m\u001b[0mto_datetime\u001b[0m\u001b[0;34m(\u001b[0m\u001b[0mreplace\u001b[0m\u001b[0;34m[\u001b[0m\u001b[0;34m'Date'\u001b[0m\u001b[0;34m]\u001b[0m\u001b[0;34m)\u001b[0m\u001b[0;34m\u001b[0m\u001b[0;34m\u001b[0m\u001b[0m\n\u001b[1;32m      4\u001b[0m     \u001b[0mreduce\u001b[0m \u001b[0;34m=\u001b[0m \u001b[0mreplace\u001b[0m\u001b[0;34m.\u001b[0m\u001b[0mgroupby\u001b[0m\u001b[0;34m(\u001b[0m\u001b[0;34m[\u001b[0m\u001b[0;34m\"ItemNumber\"\u001b[0m\u001b[0;34m,\u001b[0m \u001b[0;34m\"StateBottleCost\"\u001b[0m\u001b[0;34m,\u001b[0m \u001b[0;34m\"StateBottleRetail\"\u001b[0m\u001b[0;34m]\u001b[0m\u001b[0;34m)\u001b[0m\u001b[0;34m.\u001b[0m\u001b[0magg\u001b[0m\u001b[0;34m(\u001b[0m\u001b[0;34m[\u001b[0m\u001b[0;34m'min'\u001b[0m\u001b[0;34m,\u001b[0m \u001b[0;34m'max'\u001b[0m\u001b[0;34m]\u001b[0m\u001b[0;34m)\u001b[0m\u001b[0;34m.\u001b[0m\u001b[0mreset_index\u001b[0m\u001b[0;34m(\u001b[0m\u001b[0;34m)\u001b[0m\u001b[0;34m\u001b[0m\u001b[0;34m\u001b[0m\u001b[0m\n\u001b[1;32m      5\u001b[0m \u001b[0;34m\u001b[0m\u001b[0m\n",
      "\u001b[0;32m/Library/Frameworks/Python.framework/Versions/3.9/lib/python3.9/site-packages/dask/base.py\u001b[0m in \u001b[0;36mcompute\u001b[0;34m(self, **kwargs)\u001b[0m\n\u001b[1;32m    288\u001b[0m         \u001b[0mdask\u001b[0m\u001b[0;34m.\u001b[0m\u001b[0mbase\u001b[0m\u001b[0;34m.\u001b[0m\u001b[0mcompute\u001b[0m\u001b[0;34m\u001b[0m\u001b[0;34m\u001b[0m\u001b[0m\n\u001b[1;32m    289\u001b[0m         \"\"\"\n\u001b[0;32m--> 290\u001b[0;31m         \u001b[0;34m(\u001b[0m\u001b[0mresult\u001b[0m\u001b[0;34m,\u001b[0m\u001b[0;34m)\u001b[0m \u001b[0;34m=\u001b[0m \u001b[0mcompute\u001b[0m\u001b[0;34m(\u001b[0m\u001b[0mself\u001b[0m\u001b[0;34m,\u001b[0m \u001b[0mtraverse\u001b[0m\u001b[0;34m=\u001b[0m\u001b[0;32mFalse\u001b[0m\u001b[0;34m,\u001b[0m \u001b[0;34m**\u001b[0m\u001b[0mkwargs\u001b[0m\u001b[0;34m)\u001b[0m\u001b[0;34m\u001b[0m\u001b[0;34m\u001b[0m\u001b[0m\n\u001b[0m\u001b[1;32m    291\u001b[0m         \u001b[0;32mreturn\u001b[0m \u001b[0mresult\u001b[0m\u001b[0;34m\u001b[0m\u001b[0;34m\u001b[0m\u001b[0m\n\u001b[1;32m    292\u001b[0m \u001b[0;34m\u001b[0m\u001b[0m\n",
      "\u001b[0;32m/Library/Frameworks/Python.framework/Versions/3.9/lib/python3.9/site-packages/dask/base.py\u001b[0m in \u001b[0;36mcompute\u001b[0;34m(traverse, optimize_graph, scheduler, get, *args, **kwargs)\u001b[0m\n\u001b[1;32m    571\u001b[0m         \u001b[0mpostcomputes\u001b[0m\u001b[0;34m.\u001b[0m\u001b[0mappend\u001b[0m\u001b[0;34m(\u001b[0m\u001b[0mx\u001b[0m\u001b[0;34m.\u001b[0m\u001b[0m__dask_postcompute__\u001b[0m\u001b[0;34m(\u001b[0m\u001b[0;34m)\u001b[0m\u001b[0;34m)\u001b[0m\u001b[0;34m\u001b[0m\u001b[0;34m\u001b[0m\u001b[0m\n\u001b[1;32m    572\u001b[0m \u001b[0;34m\u001b[0m\u001b[0m\n\u001b[0;32m--> 573\u001b[0;31m     \u001b[0mresults\u001b[0m \u001b[0;34m=\u001b[0m \u001b[0mschedule\u001b[0m\u001b[0;34m(\u001b[0m\u001b[0mdsk\u001b[0m\u001b[0;34m,\u001b[0m \u001b[0mkeys\u001b[0m\u001b[0;34m,\u001b[0m \u001b[0;34m**\u001b[0m\u001b[0mkwargs\u001b[0m\u001b[0;34m)\u001b[0m\u001b[0;34m\u001b[0m\u001b[0;34m\u001b[0m\u001b[0m\n\u001b[0m\u001b[1;32m    574\u001b[0m     \u001b[0;32mreturn\u001b[0m \u001b[0mrepack\u001b[0m\u001b[0;34m(\u001b[0m\u001b[0;34m[\u001b[0m\u001b[0mf\u001b[0m\u001b[0;34m(\u001b[0m\u001b[0mr\u001b[0m\u001b[0;34m,\u001b[0m \u001b[0;34m*\u001b[0m\u001b[0ma\u001b[0m\u001b[0;34m)\u001b[0m \u001b[0;32mfor\u001b[0m \u001b[0mr\u001b[0m\u001b[0;34m,\u001b[0m \u001b[0;34m(\u001b[0m\u001b[0mf\u001b[0m\u001b[0;34m,\u001b[0m \u001b[0ma\u001b[0m\u001b[0;34m)\u001b[0m \u001b[0;32min\u001b[0m \u001b[0mzip\u001b[0m\u001b[0;34m(\u001b[0m\u001b[0mresults\u001b[0m\u001b[0;34m,\u001b[0m \u001b[0mpostcomputes\u001b[0m\u001b[0;34m)\u001b[0m\u001b[0;34m]\u001b[0m\u001b[0;34m)\u001b[0m\u001b[0;34m\u001b[0m\u001b[0;34m\u001b[0m\u001b[0m\n\u001b[1;32m    575\u001b[0m \u001b[0;34m\u001b[0m\u001b[0m\n",
      "\u001b[0;32m/Library/Frameworks/Python.framework/Versions/3.9/lib/python3.9/site-packages/dask/threaded.py\u001b[0m in \u001b[0;36mget\u001b[0;34m(dsk, result, cache, num_workers, pool, **kwargs)\u001b[0m\n\u001b[1;32m     79\u001b[0m             \u001b[0mpool\u001b[0m \u001b[0;34m=\u001b[0m \u001b[0mMultiprocessingPoolExecutor\u001b[0m\u001b[0;34m(\u001b[0m\u001b[0mpool\u001b[0m\u001b[0;34m)\u001b[0m\u001b[0;34m\u001b[0m\u001b[0;34m\u001b[0m\u001b[0m\n\u001b[1;32m     80\u001b[0m \u001b[0;34m\u001b[0m\u001b[0m\n\u001b[0;32m---> 81\u001b[0;31m     results = get_async(\n\u001b[0m\u001b[1;32m     82\u001b[0m         \u001b[0mpool\u001b[0m\u001b[0;34m.\u001b[0m\u001b[0msubmit\u001b[0m\u001b[0;34m,\u001b[0m\u001b[0;34m\u001b[0m\u001b[0;34m\u001b[0m\u001b[0m\n\u001b[1;32m     83\u001b[0m         \u001b[0mpool\u001b[0m\u001b[0;34m.\u001b[0m\u001b[0m_max_workers\u001b[0m\u001b[0;34m,\u001b[0m\u001b[0;34m\u001b[0m\u001b[0;34m\u001b[0m\u001b[0m\n",
      "\u001b[0;32m/Library/Frameworks/Python.framework/Versions/3.9/lib/python3.9/site-packages/dask/local.py\u001b[0m in \u001b[0;36mget_async\u001b[0;34m(submit, num_workers, dsk, result, cache, get_id, rerun_exceptions_locally, pack_exception, raise_exception, callbacks, dumps, loads, chunksize, **kwargs)\u001b[0m\n\u001b[1;32m    493\u001b[0m             \u001b[0;32mwhile\u001b[0m \u001b[0mstate\u001b[0m\u001b[0;34m[\u001b[0m\u001b[0;34m\"waiting\"\u001b[0m\u001b[0;34m]\u001b[0m \u001b[0;32mor\u001b[0m \u001b[0mstate\u001b[0m\u001b[0;34m[\u001b[0m\u001b[0;34m\"ready\"\u001b[0m\u001b[0;34m]\u001b[0m \u001b[0;32mor\u001b[0m \u001b[0mstate\u001b[0m\u001b[0;34m[\u001b[0m\u001b[0;34m\"running\"\u001b[0m\u001b[0;34m]\u001b[0m\u001b[0;34m:\u001b[0m\u001b[0;34m\u001b[0m\u001b[0;34m\u001b[0m\u001b[0m\n\u001b[1;32m    494\u001b[0m                 \u001b[0mfire_tasks\u001b[0m\u001b[0;34m(\u001b[0m\u001b[0mchunksize\u001b[0m\u001b[0;34m)\u001b[0m\u001b[0;34m\u001b[0m\u001b[0;34m\u001b[0m\u001b[0m\n\u001b[0;32m--> 495\u001b[0;31m                 \u001b[0;32mfor\u001b[0m \u001b[0mkey\u001b[0m\u001b[0;34m,\u001b[0m \u001b[0mres_info\u001b[0m\u001b[0;34m,\u001b[0m \u001b[0mfailed\u001b[0m \u001b[0;32min\u001b[0m \u001b[0mqueue_get\u001b[0m\u001b[0;34m(\u001b[0m\u001b[0mqueue\u001b[0m\u001b[0;34m)\u001b[0m\u001b[0;34m.\u001b[0m\u001b[0mresult\u001b[0m\u001b[0;34m(\u001b[0m\u001b[0;34m)\u001b[0m\u001b[0;34m:\u001b[0m\u001b[0;34m\u001b[0m\u001b[0;34m\u001b[0m\u001b[0m\n\u001b[0m\u001b[1;32m    496\u001b[0m                     \u001b[0;32mif\u001b[0m \u001b[0mfailed\u001b[0m\u001b[0;34m:\u001b[0m\u001b[0;34m\u001b[0m\u001b[0;34m\u001b[0m\u001b[0m\n\u001b[1;32m    497\u001b[0m                         \u001b[0mexc\u001b[0m\u001b[0;34m,\u001b[0m \u001b[0mtb\u001b[0m \u001b[0;34m=\u001b[0m \u001b[0mloads\u001b[0m\u001b[0;34m(\u001b[0m\u001b[0mres_info\u001b[0m\u001b[0;34m)\u001b[0m\u001b[0;34m\u001b[0m\u001b[0;34m\u001b[0m\u001b[0m\n",
      "\u001b[0;32m/Library/Frameworks/Python.framework/Versions/3.9/lib/python3.9/site-packages/dask/local.py\u001b[0m in \u001b[0;36mqueue_get\u001b[0;34m(q)\u001b[0m\n\u001b[1;32m    131\u001b[0m \u001b[0;34m\u001b[0m\u001b[0m\n\u001b[1;32m    132\u001b[0m     \u001b[0;32mdef\u001b[0m \u001b[0mqueue_get\u001b[0m\u001b[0;34m(\u001b[0m\u001b[0mq\u001b[0m\u001b[0;34m)\u001b[0m\u001b[0;34m:\u001b[0m\u001b[0;34m\u001b[0m\u001b[0;34m\u001b[0m\u001b[0m\n\u001b[0;32m--> 133\u001b[0;31m         \u001b[0;32mreturn\u001b[0m \u001b[0mq\u001b[0m\u001b[0;34m.\u001b[0m\u001b[0mget\u001b[0m\u001b[0;34m(\u001b[0m\u001b[0;34m)\u001b[0m\u001b[0;34m\u001b[0m\u001b[0;34m\u001b[0m\u001b[0m\n\u001b[0m\u001b[1;32m    134\u001b[0m \u001b[0;34m\u001b[0m\u001b[0m\n\u001b[1;32m    135\u001b[0m \u001b[0;34m\u001b[0m\u001b[0m\n",
      "\u001b[0;32m/Library/Frameworks/Python.framework/Versions/3.9/lib/python3.9/queue.py\u001b[0m in \u001b[0;36mget\u001b[0;34m(self, block, timeout)\u001b[0m\n\u001b[1;32m    169\u001b[0m             \u001b[0;32melif\u001b[0m \u001b[0mtimeout\u001b[0m \u001b[0;32mis\u001b[0m \u001b[0;32mNone\u001b[0m\u001b[0;34m:\u001b[0m\u001b[0;34m\u001b[0m\u001b[0;34m\u001b[0m\u001b[0m\n\u001b[1;32m    170\u001b[0m                 \u001b[0;32mwhile\u001b[0m \u001b[0;32mnot\u001b[0m \u001b[0mself\u001b[0m\u001b[0;34m.\u001b[0m\u001b[0m_qsize\u001b[0m\u001b[0;34m(\u001b[0m\u001b[0;34m)\u001b[0m\u001b[0;34m:\u001b[0m\u001b[0;34m\u001b[0m\u001b[0;34m\u001b[0m\u001b[0m\n\u001b[0;32m--> 171\u001b[0;31m                     \u001b[0mself\u001b[0m\u001b[0;34m.\u001b[0m\u001b[0mnot_empty\u001b[0m\u001b[0;34m.\u001b[0m\u001b[0mwait\u001b[0m\u001b[0;34m(\u001b[0m\u001b[0;34m)\u001b[0m\u001b[0;34m\u001b[0m\u001b[0;34m\u001b[0m\u001b[0m\n\u001b[0m\u001b[1;32m    172\u001b[0m             \u001b[0;32melif\u001b[0m \u001b[0mtimeout\u001b[0m \u001b[0;34m<\u001b[0m \u001b[0;36m0\u001b[0m\u001b[0;34m:\u001b[0m\u001b[0;34m\u001b[0m\u001b[0;34m\u001b[0m\u001b[0m\n\u001b[1;32m    173\u001b[0m                 \u001b[0;32mraise\u001b[0m \u001b[0mValueError\u001b[0m\u001b[0;34m(\u001b[0m\u001b[0;34m\"'timeout' must be a non-negative number\"\u001b[0m\u001b[0;34m)\u001b[0m\u001b[0;34m\u001b[0m\u001b[0;34m\u001b[0m\u001b[0m\n",
      "\u001b[0;32m/Library/Frameworks/Python.framework/Versions/3.9/lib/python3.9/threading.py\u001b[0m in \u001b[0;36mwait\u001b[0;34m(self, timeout)\u001b[0m\n\u001b[1;32m    310\u001b[0m         \u001b[0;32mtry\u001b[0m\u001b[0;34m:\u001b[0m    \u001b[0;31m# restore state no matter what (e.g., KeyboardInterrupt)\u001b[0m\u001b[0;34m\u001b[0m\u001b[0;34m\u001b[0m\u001b[0m\n\u001b[1;32m    311\u001b[0m             \u001b[0;32mif\u001b[0m \u001b[0mtimeout\u001b[0m \u001b[0;32mis\u001b[0m \u001b[0;32mNone\u001b[0m\u001b[0;34m:\u001b[0m\u001b[0;34m\u001b[0m\u001b[0;34m\u001b[0m\u001b[0m\n\u001b[0;32m--> 312\u001b[0;31m                 \u001b[0mwaiter\u001b[0m\u001b[0;34m.\u001b[0m\u001b[0macquire\u001b[0m\u001b[0;34m(\u001b[0m\u001b[0;34m)\u001b[0m\u001b[0;34m\u001b[0m\u001b[0;34m\u001b[0m\u001b[0m\n\u001b[0m\u001b[1;32m    313\u001b[0m                 \u001b[0mgotit\u001b[0m \u001b[0;34m=\u001b[0m \u001b[0;32mTrue\u001b[0m\u001b[0;34m\u001b[0m\u001b[0;34m\u001b[0m\u001b[0m\n\u001b[1;32m    314\u001b[0m             \u001b[0;32melse\u001b[0m\u001b[0;34m:\u001b[0m\u001b[0;34m\u001b[0m\u001b[0;34m\u001b[0m\u001b[0m\n",
      "\u001b[0;31mKeyboardInterrupt\u001b[0m: "
     ]
    }
   ],
   "source": [
    "for idx in trimmed[20:]:\n",
    "    replace = ddf[ddf.ItemNumber == idx].compute()\n",
    "    replace.Date = pd.to_datetime(replace['Date'])\n",
    "    reduce = replace.groupby([\"ItemNumber\", \"StateBottleCost\", \"StateBottleRetail\"]).agg(['min', 'max']).reset_index()\n",
    "    \n",
    "    empty = empty.append(reduce)"
   ]
  },
  {
   "cell_type": "code",
   "execution_count": 164,
   "id": "0533504c-a78a-41f7-b714-dae5caf6621a",
   "metadata": {},
   "outputs": [
    {
     "data": {
      "text/html": [
       "<div>\n",
       "<style scoped>\n",
       "    .dataframe tbody tr th:only-of-type {\n",
       "        vertical-align: middle;\n",
       "    }\n",
       "\n",
       "    .dataframe tbody tr th {\n",
       "        vertical-align: top;\n",
       "    }\n",
       "\n",
       "    .dataframe thead tr th {\n",
       "        text-align: left;\n",
       "    }\n",
       "</style>\n",
       "<table border=\"1\" class=\"dataframe\">\n",
       "  <thead>\n",
       "    <tr>\n",
       "      <th></th>\n",
       "      <th>ItemNumber</th>\n",
       "      <th>StateBottleCost</th>\n",
       "      <th>StateBottleRetail</th>\n",
       "      <th colspan=\"2\" halign=\"left\">Date</th>\n",
       "    </tr>\n",
       "    <tr>\n",
       "      <th></th>\n",
       "      <th></th>\n",
       "      <th></th>\n",
       "      <th></th>\n",
       "      <th>min</th>\n",
       "      <th>max</th>\n",
       "    </tr>\n",
       "  </thead>\n",
       "  <tbody>\n",
       "    <tr>\n",
       "      <th>0</th>\n",
       "      <td>100017</td>\n",
       "      <td>22.04</td>\n",
       "      <td>33.06</td>\n",
       "      <td>2016-06-01</td>\n",
       "      <td>2016-08-23</td>\n",
       "    </tr>\n",
       "    <tr>\n",
       "      <th>1</th>\n",
       "      <td>100017</td>\n",
       "      <td>23.62</td>\n",
       "      <td>35.43</td>\n",
       "      <td>2016-09-08</td>\n",
       "      <td>2018-04-17</td>\n",
       "    </tr>\n",
       "    <tr>\n",
       "      <th>0</th>\n",
       "      <td>100040</td>\n",
       "      <td>5.23</td>\n",
       "      <td>34.97</td>\n",
       "      <td>2019-09-24</td>\n",
       "      <td>2019-09-24</td>\n",
       "    </tr>\n",
       "    <tr>\n",
       "      <th>1</th>\n",
       "      <td>100040</td>\n",
       "      <td>14.50</td>\n",
       "      <td>34.97</td>\n",
       "      <td>2019-09-25</td>\n",
       "      <td>2019-09-25</td>\n",
       "    </tr>\n",
       "    <tr>\n",
       "      <th>2</th>\n",
       "      <td>100040</td>\n",
       "      <td>15.46</td>\n",
       "      <td>34.97</td>\n",
       "      <td>2019-09-26</td>\n",
       "      <td>2019-09-26</td>\n",
       "    </tr>\n",
       "    <tr>\n",
       "      <th>...</th>\n",
       "      <td>...</td>\n",
       "      <td>...</td>\n",
       "      <td>...</td>\n",
       "      <td>...</td>\n",
       "      <td>...</td>\n",
       "    </tr>\n",
       "    <tr>\n",
       "      <th>1</th>\n",
       "      <td>433</td>\n",
       "      <td>9.97</td>\n",
       "      <td>14.96</td>\n",
       "      <td>2012-11-05</td>\n",
       "      <td>2012-12-31</td>\n",
       "    </tr>\n",
       "    <tr>\n",
       "      <th>0</th>\n",
       "      <td>43302</td>\n",
       "      <td>10.00</td>\n",
       "      <td>15.00</td>\n",
       "      <td>2016-08-01</td>\n",
       "      <td>2022-02-28</td>\n",
       "    </tr>\n",
       "    <tr>\n",
       "      <th>1</th>\n",
       "      <td>43302</td>\n",
       "      <td>11.00</td>\n",
       "      <td>16.50</td>\n",
       "      <td>2012-03-12</td>\n",
       "      <td>2016-07-29</td>\n",
       "    </tr>\n",
       "    <tr>\n",
       "      <th>0</th>\n",
       "      <td>43308</td>\n",
       "      <td>4.80</td>\n",
       "      <td>7.20</td>\n",
       "      <td>2015-11-03</td>\n",
       "      <td>2016-03-30</td>\n",
       "    </tr>\n",
       "    <tr>\n",
       "      <th>1</th>\n",
       "      <td>43308</td>\n",
       "      <td>4.97</td>\n",
       "      <td>7.46</td>\n",
       "      <td>2015-03-04</td>\n",
       "      <td>2015-10-29</td>\n",
       "    </tr>\n",
       "  </tbody>\n",
       "</table>\n",
       "<p>4970 rows × 5 columns</p>\n",
       "</div>"
      ],
      "text/plain": [
       "   ItemNumber StateBottleCost StateBottleRetail       Date           \n",
       "                                                       min        max\n",
       "0      100017           22.04             33.06 2016-06-01 2016-08-23\n",
       "1      100017           23.62             35.43 2016-09-08 2018-04-17\n",
       "0      100040            5.23             34.97 2019-09-24 2019-09-24\n",
       "1      100040           14.50             34.97 2019-09-25 2019-09-25\n",
       "2      100040           15.46             34.97 2019-09-26 2019-09-26\n",
       "..        ...             ...               ...        ...        ...\n",
       "1         433            9.97             14.96 2012-11-05 2012-12-31\n",
       "0       43302           10.00             15.00 2016-08-01 2022-02-28\n",
       "1       43302           11.00             16.50 2012-03-12 2016-07-29\n",
       "0       43308            4.80              7.20 2015-11-03 2016-03-30\n",
       "1       43308            4.97              7.46 2015-03-04 2015-10-29\n",
       "\n",
       "[4970 rows x 5 columns]"
      ]
     },
     "execution_count": 164,
     "metadata": {},
     "output_type": "execute_result"
    }
   ],
   "source": [
    "empty"
   ]
  },
  {
   "cell_type": "code",
   "execution_count": 168,
   "id": "12f70674-02e4-4abb-ad22-206264a9dd96",
   "metadata": {},
   "outputs": [],
   "source": [
    "empty.to_csv('./data/price_part_1.csv')"
   ]
  },
  {
   "cell_type": "code",
   "execution_count": 165,
   "id": "414bed34-7bbd-4fa1-8ba5-a97f1b976943",
   "metadata": {},
   "outputs": [],
   "source": [
    "trimmed = [x for x in unique_itemId if x not in empty.ItemNumber.unique()]"
   ]
  },
  {
   "cell_type": "code",
   "execution_count": 169,
   "id": "0b967fae-ff7b-4b46-9f43-f0dd6e756a34",
   "metadata": {},
   "outputs": [
    {
     "data": {
      "text/plain": [
       "1368"
      ]
     },
     "execution_count": 169,
     "metadata": {},
     "output_type": "execute_result"
    }
   ],
   "source": [
    "len(empty.ItemNumber.unique())"
   ]
  },
  {
   "cell_type": "code",
   "execution_count": 167,
   "id": "b49bbc7a-e356-429c-a7cb-53d67ec0c468",
   "metadata": {},
   "outputs": [
    {
     "data": {
      "text/plain": [
       "2563"
      ]
     },
     "execution_count": 167,
     "metadata": {},
     "output_type": "execute_result"
    }
   ],
   "source": [
    "len(trimmed)"
   ]
  }
 ],
 "metadata": {
  "kernelspec": {
   "display_name": "Python 3 (ipykernel)",
   "language": "python",
   "name": "python3"
  },
  "language_info": {
   "codemirror_mode": {
    "name": "ipython",
    "version": 3
   },
   "file_extension": ".py",
   "mimetype": "text/x-python",
   "name": "python",
   "nbconvert_exporter": "python",
   "pygments_lexer": "ipython3",
   "version": "3.9.9"
  }
 },
 "nbformat": 4,
 "nbformat_minor": 5
}
