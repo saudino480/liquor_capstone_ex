{
 "cells": [
  {
   "cell_type": "code",
   "execution_count": 20,
   "id": "72c50693-576f-46d2-848e-b4e18f5f79ca",
   "metadata": {},
   "outputs": [
    {
     "data": {
      "text/plain": [
       "<function pandas.core.frame.DataFrame.aggregate(self, func=None, axis: 'Axis' = 0, *args, **kwargs)>"
      ]
     },
     "execution_count": 20,
     "metadata": {},
     "output_type": "execute_result"
    }
   ],
   "source": [
    "pd.DataFrame.agg"
   ]
  },
  {
   "cell_type": "code",
   "execution_count": 1,
   "id": "dd407cb6-b178-414b-bce5-bd187c27e53f",
   "metadata": {},
   "outputs": [],
   "source": [
    "import pandas as pd\n",
    "import numpy as np\n",
    "import matplotlib.pyplot as plt\n",
    "import dask.dataframe as dd\n",
    "import dask.array as da\n",
    "import dask.bag as db"
   ]
  },
  {
   "cell_type": "code",
   "execution_count": 2,
   "id": "a06516d6-085c-4e8e-9751-57d4a1180b23",
   "metadata": {},
   "outputs": [],
   "source": [
    "ddf = dd.read_parquet(\"./data/parquet/data-*.parquet\")"
   ]
  },
  {
   "cell_type": "code",
   "execution_count": 4,
   "id": "ff88d928-0ead-4cd5-8512-3f62d7997bd0",
   "metadata": {},
   "outputs": [
    {
     "data": {
      "text/plain": [
       "23346088"
      ]
     },
     "execution_count": 4,
     "metadata": {},
     "output_type": "execute_result"
    }
   ],
   "source": [
    "ddf.shape[0].compute()"
   ]
  },
  {
   "cell_type": "code",
   "execution_count": 7,
   "id": "1f0a009f-38ca-4265-9fea-d207b6162f5d",
   "metadata": {},
   "outputs": [],
   "source": [
    "only_year = lambda x: x[-4:]"
   ]
  },
  {
   "cell_type": "code",
   "execution_count": 13,
   "id": "23c746bc-1938-452e-b7fc-268ebb9c8967",
   "metadata": {},
   "outputs": [
    {
     "data": {
      "text/plain": [
       "0        2013\n",
       "1        2014\n",
       "2        2014\n",
       "3        2015\n",
       "4        2013\n",
       "         ... \n",
       "41177    2014\n",
       "41178    2015\n",
       "41179    2013\n",
       "41180    2012\n",
       "41181    2015\n",
       "Name: Date, Length: 23346088, dtype: object"
      ]
     },
     "execution_count": 13,
     "metadata": {},
     "output_type": "execute_result"
    }
   ],
   "source": [
    "ddf['Date'].apply(only_year, meta =('Date', 'object')).compute()"
   ]
  },
  {
   "cell_type": "code",
   "execution_count": 16,
   "id": "0c4661ef-d595-456b-b5a0-9e26ae325fcb",
   "metadata": {},
   "outputs": [
    {
     "data": {
      "text/plain": [
       "Int64Index([    0,     1,     2,     3,     4,     5,     6,     7,     8,\n",
       "                9,\n",
       "            ...\n",
       "            46109, 46110, 46111, 46112, 46113, 46114, 46115, 46116, 46117,\n",
       "            46118],\n",
       "           dtype='int64', length=46119)"
      ]
     },
     "execution_count": 16,
     "metadata": {},
     "output_type": "execute_result"
    }
   ],
   "source": [
    "ddf.index.compute().unique()"
   ]
  },
  {
   "cell_type": "code",
   "execution_count": 18,
   "id": "772e042a-4059-4aa2-b45f-998f13469cfc",
   "metadata": {},
   "outputs": [
    {
     "data": {
      "text/plain": [
       "Int64Index([    0,     1,     2,     3,     4,     5,     6,     7,     8,\n",
       "                9,\n",
       "            ...\n",
       "            46109, 46110, 46111, 46112, 46113, 46114, 46115, 46116, 46117,\n",
       "            46118],\n",
       "           dtype='int64', length=46119)"
      ]
     },
     "execution_count": 18,
     "metadata": {},
     "output_type": "execute_result"
    }
   ],
   "source": [
    "ddf.reset_index().drop(\"index\", axis = 1).index.compute().unique()"
   ]
  }
 ],
 "metadata": {
  "kernelspec": {
   "display_name": "Python 3 (ipykernel)",
   "language": "python",
   "name": "python3"
  },
  "language_info": {
   "codemirror_mode": {
    "name": "ipython",
    "version": 3
   },
   "file_extension": ".py",
   "mimetype": "text/x-python",
   "name": "python",
   "nbconvert_exporter": "python",
   "pygments_lexer": "ipython3",
   "version": "3.9.9"
  }
 },
 "nbformat": 4,
 "nbformat_minor": 5
}
