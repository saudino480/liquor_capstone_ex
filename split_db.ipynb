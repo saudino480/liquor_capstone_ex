{
 "cells": [
  {
   "cell_type": "code",
   "execution_count": 3,
   "id": "dd407cb6-b178-414b-bce5-bd187c27e53f",
   "metadata": {},
   "outputs": [],
   "source": [
    "import pandas as pd\n",
    "import numpy as np\n",
    "import matplotlib.pyplot as plt\n",
    "import dask.dataframe as dd\n",
    "import dask.array as da\n",
    "import dask.bag as db"
   ]
  },
  {
   "cell_type": "code",
   "execution_count": 4,
   "id": "a06516d6-085c-4e8e-9751-57d4a1180b23",
   "metadata": {},
   "outputs": [],
   "source": [
    "def data_prep(columns, filepath=\"./data/parquet/data-*.parquet\"):\n",
    "    ddf = dd.read_parquet(\"./data/parquet/data-*.parquet\")\n",
    "    \n",
    "    return ddf.loc[:, columns]"
   ]
  },
  {
   "cell_type": "code",
   "execution_count": 99,
   "id": "06114a3a-8bc5-478c-a548-65dc1336a0aa",
   "metadata": {},
   "outputs": [],
   "source": [
    "ddf = dd.read_parquet(\"./data/parquet/data-*.parquet\")"
   ]
  },
  {
   "cell_type": "code",
   "execution_count": 3,
   "id": "bb9f9632-08e0-4751-a332-0aa8901d1ef7",
   "metadata": {},
   "outputs": [
    {
     "data": {
      "text/plain": [
       "Index(['index', 'Invoice/Item Number', 'Date', 'Store Number', 'Store Name',\n",
       "       'Address', 'City', 'Zip Code', 'Store Location', 'County Number',\n",
       "       'County', 'Category', 'Category Name', 'Vendor Number', 'Vendor Name',\n",
       "       'Item Number', 'Item Description', 'Pack', 'Bottle Volume (ml)',\n",
       "       'State Bottle Cost', 'State Bottle Retail', 'Bottles Sold',\n",
       "       'Sale (Dollars)', 'Volume Sold (Liters)', 'Volume Sold (Gallons)'],\n",
       "      dtype='object')"
      ]
     },
     "execution_count": 3,
     "metadata": {},
     "output_type": "execute_result"
    }
   ],
   "source": [
    "ddf.columns"
   ]
  },
  {
   "cell_type": "code",
   "execution_count": 3,
   "id": "20292100-092e-4342-83b2-b8d425a00ba6",
   "metadata": {},
   "outputs": [
    {
     "data": {
      "text/plain": [
       "23346088"
      ]
     },
     "execution_count": 3,
     "metadata": {},
     "output_type": "execute_result"
    }
   ],
   "source": [
    "ddf.shape[0].compute()"
   ]
  },
  {
   "cell_type": "code",
   "execution_count": 380,
   "id": "73f39576-6ad2-425e-bcf1-277b891cfcf6",
   "metadata": {},
   "outputs": [],
   "source": [
    "invoice_info = ['Invoice/Item Number', 'Date', 'Store Number', 'County Number', 'Vendor Number', 'Item Number', 'Bottles Sold']"
   ]
  },
  {
   "cell_type": "code",
   "execution_count": 6,
   "id": "fa61b345-e952-4be5-a5be-087f51f1edcf",
   "metadata": {},
   "outputs": [],
   "source": [
    "county_info = ['County Number', 'County']\n",
    "vendor_info = ['Vendor Name', 'Vendor Number']\n",
    "product_info = ['Item Number', 'Item Description', 'Pack',\n",
    "                'Bottle Volume (ml)']\n",
    "price_info = ['Item Number', 'State Bottle Cost', 'State Bottle Retail', \"Date\"]\n",
    "store_info = ['Store Number', 'Store Name', 'Address', 'City', 'Zip Code', \n",
    "              'Store Location', 'County Number', \"Date\"]\n"
   ]
  },
  {
   "cell_type": "code",
   "execution_count": 381,
   "id": "181961f0-1ca1-4939-b6cc-6c2e317155b7",
   "metadata": {},
   "outputs": [],
   "source": [
    "ddf = data_prep(invoice_info)"
   ]
  },
  {
   "cell_type": "code",
   "execution_count": 383,
   "id": "ca42e5df-e627-4ca8-8e81-857beb1fcc42",
   "metadata": {},
   "outputs": [
    {
     "data": {
      "text/plain": [
       "(None,)"
      ]
     },
     "execution_count": 383,
     "metadata": {},
     "output_type": "execute_result"
    }
   ],
   "source": [
    "ddf.to_parquet(\"./data/invoice/\")"
   ]
  },
  {
   "cell_type": "markdown",
   "id": "72c30879-f1a3-4666-bee7-0bb4d06406b6",
   "metadata": {},
   "source": [
    "## County Information Cleaning"
   ]
  },
  {
   "cell_type": "code",
   "execution_count": 5,
   "id": "2e46fb1b-c776-4c3f-9077-908e20cfe152",
   "metadata": {},
   "outputs": [],
   "source": [
    "ddf = ddf[county_info]\n",
    "ddf = ddf.drop_duplicates().compute()"
   ]
  },
  {
   "cell_type": "code",
   "execution_count": 21,
   "id": "606175e3-0adb-4170-93ca-abab6663df72",
   "metadata": {},
   "outputs": [],
   "source": [
    "# changes to pd dataframe when size is small enough\n",
    "# ddf[ddf['County'].isna()] = pd.Series(['None', 'None'])"
   ]
  },
  {
   "cell_type": "code",
   "execution_count": 15,
   "id": "50d0286a-c874-415e-9a1b-5529ac967f29",
   "metadata": {},
   "outputs": [
    {
     "data": {
      "text/html": [
       "<div>\n",
       "<style scoped>\n",
       "    .dataframe tbody tr th:only-of-type {\n",
       "        vertical-align: middle;\n",
       "    }\n",
       "\n",
       "    .dataframe tbody tr th {\n",
       "        vertical-align: top;\n",
       "    }\n",
       "\n",
       "    .dataframe thead th {\n",
       "        text-align: right;\n",
       "    }\n",
       "</style>\n",
       "<table border=\"1\" class=\"dataframe\">\n",
       "  <thead>\n",
       "    <tr style=\"text-align: right;\">\n",
       "      <th></th>\n",
       "      <th>County Number</th>\n",
       "      <th>County</th>\n",
       "    </tr>\n",
       "  </thead>\n",
       "  <tbody>\n",
       "    <tr>\n",
       "      <th>2405</th>\n",
       "      <td>NaN</td>\n",
       "      <td>None</td>\n",
       "    </tr>\n",
       "    <tr>\n",
       "      <th>15387</th>\n",
       "      <td>NaN</td>\n",
       "      <td>EL PASO</td>\n",
       "    </tr>\n",
       "  </tbody>\n",
       "</table>\n",
       "</div>"
      ],
      "text/plain": [
       "       County Number   County\n",
       "2405             NaN     None\n",
       "15387            NaN  EL PASO"
      ]
     },
     "execution_count": 15,
     "metadata": {},
     "output_type": "execute_result"
    }
   ],
   "source": [
    "# strange to see EL PASO? not a county in Iowa.\n",
    "ddf[ddf['County Number'].isna()]"
   ]
  },
  {
   "cell_type": "code",
   "execution_count": 8,
   "id": "11a27eba-a32f-4d08-850d-6f83156255a2",
   "metadata": {},
   "outputs": [
    {
     "data": {
      "text/html": [
       "<div>\n",
       "<style scoped>\n",
       "    .dataframe tbody tr th:only-of-type {\n",
       "        vertical-align: middle;\n",
       "    }\n",
       "\n",
       "    .dataframe tbody tr th {\n",
       "        vertical-align: top;\n",
       "    }\n",
       "\n",
       "    .dataframe thead th {\n",
       "        text-align: right;\n",
       "    }\n",
       "</style>\n",
       "<table border=\"1\" class=\"dataframe\">\n",
       "  <thead>\n",
       "    <tr style=\"text-align: right;\">\n",
       "      <th></th>\n",
       "      <th>County Number</th>\n",
       "      <th>County</th>\n",
       "    </tr>\n",
       "  </thead>\n",
       "  <tbody>\n",
       "    <tr>\n",
       "      <th>0</th>\n",
       "      <td>92.0</td>\n",
       "      <td>Washington</td>\n",
       "    </tr>\n",
       "    <tr>\n",
       "      <th>1</th>\n",
       "      <td>63.0</td>\n",
       "      <td>Marion</td>\n",
       "    </tr>\n",
       "    <tr>\n",
       "      <th>2</th>\n",
       "      <td>17.0</td>\n",
       "      <td>Cerro Gordo</td>\n",
       "    </tr>\n",
       "    <tr>\n",
       "      <th>3</th>\n",
       "      <td>82.0</td>\n",
       "      <td>Scott</td>\n",
       "    </tr>\n",
       "    <tr>\n",
       "      <th>4</th>\n",
       "      <td>57.0</td>\n",
       "      <td>Linn</td>\n",
       "    </tr>\n",
       "    <tr>\n",
       "      <th>...</th>\n",
       "      <td>...</td>\n",
       "      <td>...</td>\n",
       "    </tr>\n",
       "    <tr>\n",
       "      <th>196</th>\n",
       "      <td>26.0</td>\n",
       "      <td>DAVIS</td>\n",
       "    </tr>\n",
       "    <tr>\n",
       "      <th>197</th>\n",
       "      <td>13.0</td>\n",
       "      <td>CALHOUN</td>\n",
       "    </tr>\n",
       "    <tr>\n",
       "      <th>198</th>\n",
       "      <td>93.0</td>\n",
       "      <td>WAYNE</td>\n",
       "    </tr>\n",
       "    <tr>\n",
       "      <th>199</th>\n",
       "      <td>2.0</td>\n",
       "      <td>ADAMS</td>\n",
       "    </tr>\n",
       "    <tr>\n",
       "      <th>200</th>\n",
       "      <td>999.0</td>\n",
       "      <td>Unknown</td>\n",
       "    </tr>\n",
       "  </tbody>\n",
       "</table>\n",
       "<p>201 rows × 2 columns</p>\n",
       "</div>"
      ],
      "text/plain": [
       "     County Number       County\n",
       "0             92.0   Washington\n",
       "1             63.0       Marion\n",
       "2             17.0  Cerro Gordo\n",
       "3             82.0        Scott\n",
       "4             57.0         Linn\n",
       "..             ...          ...\n",
       "196           26.0        DAVIS\n",
       "197           13.0      CALHOUN\n",
       "198           93.0        WAYNE\n",
       "199            2.0        ADAMS\n",
       "200          999.0      Unknown\n",
       "\n",
       "[201 rows x 2 columns]"
      ]
     },
     "execution_count": 8,
     "metadata": {},
     "output_type": "execute_result"
    }
   ],
   "source": [
    "# remove this, add an NA county number just in case\n",
    "ddf = ddf[~ddf['County Number'].isna()]\n",
    "ddf = ddf.append(pd.Series({'County Number': 999, 'County': 'Unknown'}), ignore_index=True)\n",
    "ddf"
   ]
  },
  {
   "cell_type": "code",
   "execution_count": 12,
   "id": "5e4a4a5d-ae82-4cf1-abec-5a6ecd3758ed",
   "metadata": {},
   "outputs": [
    {
     "data": {
      "text/html": [
       "<div>\n",
       "<style scoped>\n",
       "    .dataframe tbody tr th:only-of-type {\n",
       "        vertical-align: middle;\n",
       "    }\n",
       "\n",
       "    .dataframe tbody tr th {\n",
       "        vertical-align: top;\n",
       "    }\n",
       "\n",
       "    .dataframe thead th {\n",
       "        text-align: right;\n",
       "    }\n",
       "</style>\n",
       "<table border=\"1\" class=\"dataframe\">\n",
       "  <thead>\n",
       "    <tr style=\"text-align: right;\">\n",
       "      <th></th>\n",
       "      <th>County Number</th>\n",
       "      <th>County</th>\n",
       "    </tr>\n",
       "  </thead>\n",
       "  <tbody>\n",
       "    <tr>\n",
       "      <th>2</th>\n",
       "      <td>17.0</td>\n",
       "      <td>Cerro Gordo</td>\n",
       "    </tr>\n",
       "    <tr>\n",
       "      <th>158</th>\n",
       "      <td>17.0</td>\n",
       "      <td>Cerro Gord</td>\n",
       "    </tr>\n",
       "  </tbody>\n",
       "</table>\n",
       "</div>"
      ],
      "text/plain": [
       "     County Number       County\n",
       "2             17.0  Cerro Gordo\n",
       "158           17.0   Cerro Gord"
      ]
     },
     "execution_count": 12,
     "metadata": {},
     "output_type": "execute_result"
    }
   ],
   "source": [
    "# just checking other stuff, one is missing the o in Cerro Gordo.\n",
    "ddf[ddf['County'].str.contains('Cerro')]"
   ]
  },
  {
   "cell_type": "code",
   "execution_count": 13,
   "id": "32da7bf9-f9f8-41a0-a8d0-cc7eed486a14",
   "metadata": {},
   "outputs": [
    {
     "data": {
      "text/html": [
       "<div>\n",
       "<style scoped>\n",
       "    .dataframe tbody tr th:only-of-type {\n",
       "        vertical-align: middle;\n",
       "    }\n",
       "\n",
       "    .dataframe tbody tr th {\n",
       "        vertical-align: top;\n",
       "    }\n",
       "\n",
       "    .dataframe thead th {\n",
       "        text-align: right;\n",
       "    }\n",
       "</style>\n",
       "<table border=\"1\" class=\"dataframe\">\n",
       "  <thead>\n",
       "    <tr style=\"text-align: right;\">\n",
       "      <th></th>\n",
       "      <th>County Number</th>\n",
       "      <th>County</th>\n",
       "    </tr>\n",
       "  </thead>\n",
       "  <tbody>\n",
       "    <tr>\n",
       "      <th>2</th>\n",
       "      <td>17.0</td>\n",
       "      <td>Cerro Gordo</td>\n",
       "    </tr>\n",
       "    <tr>\n",
       "      <th>5</th>\n",
       "      <td>29.0</td>\n",
       "      <td>Des Moines</td>\n",
       "    </tr>\n",
       "    <tr>\n",
       "      <th>8</th>\n",
       "      <td>11.0</td>\n",
       "      <td>Buena Vista</td>\n",
       "    </tr>\n",
       "    <tr>\n",
       "      <th>15</th>\n",
       "      <td>74.0</td>\n",
       "      <td>Palo Alto</td>\n",
       "    </tr>\n",
       "    <tr>\n",
       "      <th>19</th>\n",
       "      <td>7.0</td>\n",
       "      <td>Black Hawk</td>\n",
       "    </tr>\n",
       "    <tr>\n",
       "      <th>88</th>\n",
       "      <td>89.0</td>\n",
       "      <td>Van Buren</td>\n",
       "    </tr>\n",
       "    <tr>\n",
       "      <th>118</th>\n",
       "      <td>7.0</td>\n",
       "      <td>BLACK HAWK</td>\n",
       "    </tr>\n",
       "    <tr>\n",
       "      <th>130</th>\n",
       "      <td>17.0</td>\n",
       "      <td>CERRO GORD</td>\n",
       "    </tr>\n",
       "    <tr>\n",
       "      <th>131</th>\n",
       "      <td>74.0</td>\n",
       "      <td>PALO ALTO</td>\n",
       "    </tr>\n",
       "    <tr>\n",
       "      <th>139</th>\n",
       "      <td>29.0</td>\n",
       "      <td>DES MOINES</td>\n",
       "    </tr>\n",
       "    <tr>\n",
       "      <th>158</th>\n",
       "      <td>17.0</td>\n",
       "      <td>Cerro Gord</td>\n",
       "    </tr>\n",
       "    <tr>\n",
       "      <th>182</th>\n",
       "      <td>11.0</td>\n",
       "      <td>BUENA VIST</td>\n",
       "    </tr>\n",
       "    <tr>\n",
       "      <th>183</th>\n",
       "      <td>89.0</td>\n",
       "      <td>VAN BUREN</td>\n",
       "    </tr>\n",
       "  </tbody>\n",
       "</table>\n",
       "</div>"
      ],
      "text/plain": [
       "     County Number       County\n",
       "2             17.0  Cerro Gordo\n",
       "5             29.0   Des Moines\n",
       "8             11.0  Buena Vista\n",
       "15            74.0    Palo Alto\n",
       "19             7.0   Black Hawk\n",
       "88            89.0    Van Buren\n",
       "118            7.0   BLACK HAWK\n",
       "130           17.0   CERRO GORD\n",
       "131           74.0    PALO ALTO\n",
       "139           29.0   DES MOINES\n",
       "158           17.0   Cerro Gord\n",
       "182           11.0   BUENA VIST\n",
       "183           89.0    VAN BUREN"
      ]
     },
     "execution_count": 13,
     "metadata": {},
     "output_type": "execute_result"
    }
   ],
   "source": [
    "# check if any other ones have that same issue\n",
    "ddf[ddf['County'].str.contains(' ')]"
   ]
  },
  {
   "cell_type": "code",
   "execution_count": 11,
   "id": "5d407394-a03b-4742-833f-e3c2a5007eab",
   "metadata": {},
   "outputs": [
    {
     "data": {
      "text/html": [
       "<div>\n",
       "<style scoped>\n",
       "    .dataframe tbody tr th:only-of-type {\n",
       "        vertical-align: middle;\n",
       "    }\n",
       "\n",
       "    .dataframe tbody tr th {\n",
       "        vertical-align: top;\n",
       "    }\n",
       "\n",
       "    .dataframe thead th {\n",
       "        text-align: right;\n",
       "    }\n",
       "</style>\n",
       "<table border=\"1\" class=\"dataframe\">\n",
       "  <thead>\n",
       "    <tr style=\"text-align: right;\">\n",
       "      <th></th>\n",
       "      <th>County Number</th>\n",
       "      <th>County</th>\n",
       "    </tr>\n",
       "  </thead>\n",
       "  <tbody>\n",
       "    <tr>\n",
       "      <th>0</th>\n",
       "      <td>92.0</td>\n",
       "      <td>Washington</td>\n",
       "    </tr>\n",
       "    <tr>\n",
       "      <th>1</th>\n",
       "      <td>63.0</td>\n",
       "      <td>Marion</td>\n",
       "    </tr>\n",
       "    <tr>\n",
       "      <th>2</th>\n",
       "      <td>17.0</td>\n",
       "      <td>Cerro Gordo</td>\n",
       "    </tr>\n",
       "    <tr>\n",
       "      <th>3</th>\n",
       "      <td>82.0</td>\n",
       "      <td>Scott</td>\n",
       "    </tr>\n",
       "    <tr>\n",
       "      <th>4</th>\n",
       "      <td>57.0</td>\n",
       "      <td>Linn</td>\n",
       "    </tr>\n",
       "    <tr>\n",
       "      <th>...</th>\n",
       "      <td>...</td>\n",
       "      <td>...</td>\n",
       "    </tr>\n",
       "    <tr>\n",
       "      <th>95</th>\n",
       "      <td>41.0</td>\n",
       "      <td>Hancock</td>\n",
       "    </tr>\n",
       "    <tr>\n",
       "      <th>96</th>\n",
       "      <td>61.0</td>\n",
       "      <td>Madison</td>\n",
       "    </tr>\n",
       "    <tr>\n",
       "      <th>97</th>\n",
       "      <td>87.0</td>\n",
       "      <td>Taylor</td>\n",
       "    </tr>\n",
       "    <tr>\n",
       "      <th>98</th>\n",
       "      <td>36.0</td>\n",
       "      <td>Fremont</td>\n",
       "    </tr>\n",
       "    <tr>\n",
       "      <th>200</th>\n",
       "      <td>999.0</td>\n",
       "      <td>Unknown</td>\n",
       "    </tr>\n",
       "  </tbody>\n",
       "</table>\n",
       "<p>100 rows × 2 columns</p>\n",
       "</div>"
      ],
      "text/plain": [
       "     County Number       County\n",
       "0             92.0   Washington\n",
       "1             63.0       Marion\n",
       "2             17.0  Cerro Gordo\n",
       "3             82.0        Scott\n",
       "4             57.0         Linn\n",
       "..             ...          ...\n",
       "95            41.0      Hancock\n",
       "96            61.0      Madison\n",
       "97            87.0       Taylor\n",
       "98            36.0      Fremont\n",
       "200          999.0      Unknown\n",
       "\n",
       "[100 rows x 2 columns]"
      ]
     },
     "execution_count": 11,
     "metadata": {},
     "output_type": "execute_result"
    }
   ],
   "source": [
    "# they do not, just drop the duplicates, making sure it behaves before saving\n",
    "ddf.loc[ddf['County Number'].drop_duplicates().index]"
   ]
  },
  {
   "cell_type": "code",
   "execution_count": 14,
   "id": "de8ac3a4-df22-4aea-a4b7-7f19c716eb2e",
   "metadata": {},
   "outputs": [],
   "source": [
    "# go through with dropping the rest, then change the type to int, no need to save the float info\n",
    "ddf = ddf.loc[ddf['County Number'].drop_duplicates().index]\n",
    "ddf.loc[:, 'County Number'] = ddf['County Number'].astype(int)\n",
    "ddf.columns = ['CountyNumber', 'County']"
   ]
  },
  {
   "cell_type": "code",
   "execution_count": 16,
   "id": "1354e4bf-26ea-4264-94f3-c472fcaedd86",
   "metadata": {},
   "outputs": [],
   "source": [
    "ddf.to_csv('./data/county.csv')"
   ]
  },
  {
   "cell_type": "markdown",
   "id": "3654ad3e-e375-40cc-b6c0-6d4ab35cfa96",
   "metadata": {},
   "source": [
    "Now onto the next sub-dataframe, we repeat a lot of steps but with every one we have to at least take the time to make sure we're not missing anything as we chop the data up."
   ]
  },
  {
   "cell_type": "markdown",
   "id": "26d52c7f-d4ec-4979-831b-c0eae68ecded",
   "metadata": {},
   "source": [
    "## Vendor Information Cleaning"
   ]
  },
  {
   "cell_type": "code",
   "execution_count": 21,
   "id": "1acd5222-ad5a-4558-9f05-7c0a50b2caa0",
   "metadata": {},
   "outputs": [],
   "source": [
    "ddf = data_prep(vendor_info)\n",
    "ddf = ddf.drop_duplicates().compute()\n",
    "ddf.columns = ['VendorName', 'VendorNumber']"
   ]
  },
  {
   "cell_type": "code",
   "execution_count": 60,
   "id": "28b0b118-2ab7-4677-b0a9-9bfc96dc30c3",
   "metadata": {},
   "outputs": [],
   "source": [
    "idx_na = ddf['VendorNumber'].isna()\n",
    "name_na = ddf['VendorName'].isna()"
   ]
  },
  {
   "cell_type": "code",
   "execution_count": 61,
   "id": "e1860a65-56b0-47ab-88be-2d95e6398bcd",
   "metadata": {},
   "outputs": [
    {
     "data": {
      "text/html": [
       "<div>\n",
       "<style scoped>\n",
       "    .dataframe tbody tr th:only-of-type {\n",
       "        vertical-align: middle;\n",
       "    }\n",
       "\n",
       "    .dataframe tbody tr th {\n",
       "        vertical-align: top;\n",
       "    }\n",
       "\n",
       "    .dataframe thead th {\n",
       "        text-align: right;\n",
       "    }\n",
       "</style>\n",
       "<table border=\"1\" class=\"dataframe\">\n",
       "  <thead>\n",
       "    <tr style=\"text-align: right;\">\n",
       "      <th></th>\n",
       "      <th>VendorName</th>\n",
       "      <th>VendorNumber</th>\n",
       "    </tr>\n",
       "  </thead>\n",
       "  <tbody>\n",
       "    <tr>\n",
       "      <th>10224</th>\n",
       "      <td>Reservoir Distillery</td>\n",
       "      <td>NaN</td>\n",
       "    </tr>\n",
       "  </tbody>\n",
       "</table>\n",
       "</div>"
      ],
      "text/plain": [
       "                 VendorName  VendorNumber\n",
       "10224  Reservoir Distillery           NaN"
      ]
     },
     "execution_count": 61,
     "metadata": {},
     "output_type": "execute_result"
    }
   ],
   "source": [
    "ddf[idx_na]"
   ]
  },
  {
   "cell_type": "code",
   "execution_count": 62,
   "id": "97ff246e-e45b-4558-a903-df3d3de7a7b4",
   "metadata": {},
   "outputs": [
    {
     "data": {
      "text/plain": [
       "19765     10.0\n",
       "26872     10.0\n",
       "22376     14.0\n",
       "37747     27.0\n",
       "36267     33.0\n",
       "         ...  \n",
       "4760     977.0\n",
       "8        978.0\n",
       "29948    978.0\n",
       "38618    987.0\n",
       "6001     999.0\n",
       "Name: VendorNumber, Length: 555, dtype: float64"
      ]
     },
     "execution_count": 62,
     "metadata": {},
     "output_type": "execute_result"
    }
   ],
   "source": [
    "orderly_idx = ddf[~idx_na]['VendorNumber'].sort_values()\n",
    "\n",
    "orderly_idx"
   ]
  },
  {
   "cell_type": "code",
   "execution_count": 65,
   "id": "12e3455c-c49b-44a6-8577-20011ed02b64",
   "metadata": {},
   "outputs": [
    {
     "data": {
      "text/html": [
       "<div>\n",
       "<style scoped>\n",
       "    .dataframe tbody tr th:only-of-type {\n",
       "        vertical-align: middle;\n",
       "    }\n",
       "\n",
       "    .dataframe tbody tr th {\n",
       "        vertical-align: top;\n",
       "    }\n",
       "\n",
       "    .dataframe thead th {\n",
       "        text-align: right;\n",
       "    }\n",
       "</style>\n",
       "<table border=\"1\" class=\"dataframe\">\n",
       "  <thead>\n",
       "    <tr style=\"text-align: right;\">\n",
       "      <th></th>\n",
       "      <th>VendorName</th>\n",
       "      <th>VendorNumber</th>\n",
       "    </tr>\n",
       "  </thead>\n",
       "  <tbody>\n",
       "    <tr>\n",
       "      <th>10224</th>\n",
       "      <td>Reservoir Distillery</td>\n",
       "      <td>20.0</td>\n",
       "    </tr>\n",
       "  </tbody>\n",
       "</table>\n",
       "</div>"
      ],
      "text/plain": [
       "                 VendorName  VendorNumber\n",
       "10224  Reservoir Distillery          20.0"
      ]
     },
     "execution_count": 65,
     "metadata": {},
     "output_type": "execute_result"
    }
   ],
   "source": [
    "# you can see from above that I could have chosen any number 20 or below,\n",
    "# that was not 10, or 14. We choose 20, because we feel like it.\n",
    "ddf[idx_na] = pd.Series(['Reservoir Distillery', 20])\n",
    "ddf[idx_na]"
   ]
  },
  {
   "cell_type": "code",
   "execution_count": 66,
   "id": "17277ab8-4873-4129-af4d-c4ac17f13645",
   "metadata": {},
   "outputs": [],
   "source": [
    "ddf['VendorNumber'] = ddf['VendorNumber'].astype(int)"
   ]
  },
  {
   "cell_type": "code",
   "execution_count": 1,
   "id": "ca10a022-199e-40e0-83c4-7bac4af60512",
   "metadata": {},
   "outputs": [
    {
     "ename": "NameError",
     "evalue": "name 'ddf' is not defined",
     "output_type": "error",
     "traceback": [
      "\u001b[0;31m---------------------------------------------------------------------------\u001b[0m",
      "\u001b[0;31mNameError\u001b[0m                                 Traceback (most recent call last)",
      "\u001b[0;32m/var/folders/cn/9ny0n35x1p18h680wlz6lmzm0000gn/T/ipykernel_984/2257045052.py\u001b[0m in \u001b[0;36m<module>\u001b[0;34m\u001b[0m\n\u001b[0;32m----> 1\u001b[0;31m \u001b[0mlen\u001b[0m\u001b[0;34m(\u001b[0m\u001b[0mddf\u001b[0m\u001b[0;34m[\u001b[0m\u001b[0;34m'VendorName'\u001b[0m\u001b[0;34m]\u001b[0m\u001b[0;34m.\u001b[0m\u001b[0munique\u001b[0m\u001b[0;34m(\u001b[0m\u001b[0;34m)\u001b[0m\u001b[0;34m)\u001b[0m \u001b[0;34m-\u001b[0m \u001b[0mlen\u001b[0m\u001b[0;34m(\u001b[0m\u001b[0mddf\u001b[0m\u001b[0;34m[\u001b[0m\u001b[0;34m'VendorNumber'\u001b[0m\u001b[0;34m]\u001b[0m\u001b[0;34m.\u001b[0m\u001b[0munique\u001b[0m\u001b[0;34m(\u001b[0m\u001b[0;34m)\u001b[0m\u001b[0;34m)\u001b[0m\u001b[0;34m\u001b[0m\u001b[0;34m\u001b[0m\u001b[0m\n\u001b[0m",
      "\u001b[0;31mNameError\u001b[0m: name 'ddf' is not defined"
     ]
    }
   ],
   "source": [
    "# seems like there are a lot more names than numbers\n",
    "len(ddf['VendorName'].unique()) - len(ddf['VendorNumber'].unique())"
   ]
  },
  {
   "cell_type": "code",
   "execution_count": 83,
   "id": "aefcc929-3f31-48e8-871b-e7330288eafe",
   "metadata": {},
   "outputs": [
    {
     "data": {
      "text/plain": [
       "Int64Index([803, 214, 391, 192,  79, 114, 478, 389, 255, 154,\n",
       "            ...\n",
       "            208, 977, 198, 459, 107, 226, 381, 978, 495, 346],\n",
       "           dtype='int64', length=126)"
      ]
     },
     "execution_count": 83,
     "metadata": {},
     "output_type": "execute_result"
    }
   ],
   "source": [
    "# making sure that this works\n",
    "np.where(ddf.VendorNumber.value_counts() > 1)\n",
    "ddf.VendorNumber.value_counts().index[np.where(ddf.VendorNumber.value_counts() > 1)]"
   ]
  },
  {
   "cell_type": "code",
   "execution_count": 84,
   "id": "9f334a5d-eaae-4c92-95f4-47782e19c0d7",
   "metadata": {},
   "outputs": [],
   "source": [
    "# look through the duped ids to make sure that \n",
    "dup_idx = ddf.VendorNumber.value_counts().index[np.where(ddf.VendorNumber.value_counts() > 1)]\n",
    "sorted_ddf = ddf[ddf['VendorNumber'].isin(dup_idx)].sort_values('VendorNumber')"
   ]
  },
  {
   "cell_type": "code",
   "execution_count": 88,
   "id": "87b05a2e-aebd-4100-978e-b19f750c1d0f",
   "metadata": {},
   "outputs": [],
   "source": [
    "sorted_ddf = ddf[ddf['VendorNumber'].isin(dup_idx)].sort_values('VendorNumber')"
   ]
  },
  {
   "cell_type": "code",
   "execution_count": 94,
   "id": "15d1131a-b89c-471b-9b56-1ed1a324bc74",
   "metadata": {},
   "outputs": [
    {
     "data": {
      "text/html": [
       "<div>\n",
       "<style scoped>\n",
       "    .dataframe tbody tr th:only-of-type {\n",
       "        vertical-align: middle;\n",
       "    }\n",
       "\n",
       "    .dataframe tbody tr th {\n",
       "        vertical-align: top;\n",
       "    }\n",
       "\n",
       "    .dataframe thead th {\n",
       "        text-align: right;\n",
       "    }\n",
       "</style>\n",
       "<table border=\"1\" class=\"dataframe\">\n",
       "  <thead>\n",
       "    <tr style=\"text-align: right;\">\n",
       "      <th></th>\n",
       "      <th>VendorName</th>\n",
       "      <th>VendorNumber</th>\n",
       "    </tr>\n",
       "  </thead>\n",
       "  <tbody>\n",
       "    <tr>\n",
       "      <th>27644</th>\n",
       "      <td>RUSSIAN STANDARD VODKA</td>\n",
       "      <td>239</td>\n",
       "    </tr>\n",
       "    <tr>\n",
       "      <th>23</th>\n",
       "      <td>WILLIAM GRANT AND SONS, INC.</td>\n",
       "      <td>240</td>\n",
       "    </tr>\n",
       "    <tr>\n",
       "      <th>10594</th>\n",
       "      <td>William Grant and Sons, Inc.</td>\n",
       "      <td>240</td>\n",
       "    </tr>\n",
       "    <tr>\n",
       "      <th>27053</th>\n",
       "      <td>William Grant &amp; Sons Inc</td>\n",
       "      <td>240</td>\n",
       "    </tr>\n",
       "    <tr>\n",
       "      <th>24858</th>\n",
       "      <td>Filibuster Barrels LLC</td>\n",
       "      <td>244</td>\n",
       "    </tr>\n",
       "    <tr>\n",
       "      <th>41545</th>\n",
       "      <td>Dilawri Barrels LLC</td>\n",
       "      <td>244</td>\n",
       "    </tr>\n",
       "    <tr>\n",
       "      <th>207</th>\n",
       "      <td>Wilson Daniels Ltd.</td>\n",
       "      <td>255</td>\n",
       "    </tr>\n",
       "    <tr>\n",
       "      <th>22023</th>\n",
       "      <td>WILSON DANIELS LTD</td>\n",
       "      <td>255</td>\n",
       "    </tr>\n",
       "    <tr>\n",
       "      <th>28722</th>\n",
       "      <td>Infinium Spirits</td>\n",
       "      <td>255</td>\n",
       "    </tr>\n",
       "    <tr>\n",
       "      <th>14985</th>\n",
       "      <td>HAAS BROTHERS</td>\n",
       "      <td>256</td>\n",
       "    </tr>\n",
       "    <tr>\n",
       "      <th>18487</th>\n",
       "      <td>Haas Brothers</td>\n",
       "      <td>256</td>\n",
       "    </tr>\n",
       "    <tr>\n",
       "      <th>28089</th>\n",
       "      <td>Purple Valley Imports</td>\n",
       "      <td>258</td>\n",
       "    </tr>\n",
       "    <tr>\n",
       "      <th>21464</th>\n",
       "      <td>Purple Valley Imports / Glass Revolution Imports</td>\n",
       "      <td>258</td>\n",
       "    </tr>\n",
       "    <tr>\n",
       "      <th>9</th>\n",
       "      <td>Diageo Americas</td>\n",
       "      <td>260</td>\n",
       "    </tr>\n",
       "    <tr>\n",
       "      <th>14520</th>\n",
       "      <td>DIAGEO AMERICAS</td>\n",
       "      <td>260</td>\n",
       "    </tr>\n",
       "    <tr>\n",
       "      <th>25946</th>\n",
       "      <td>IMPERIAL BRANDS INC</td>\n",
       "      <td>267</td>\n",
       "    </tr>\n",
       "    <tr>\n",
       "      <th>477</th>\n",
       "      <td>Imperial Brands, Inc.</td>\n",
       "      <td>267</td>\n",
       "    </tr>\n",
       "    <tr>\n",
       "      <th>31217</th>\n",
       "      <td>Impex Beverages Inc</td>\n",
       "      <td>268</td>\n",
       "    </tr>\n",
       "    <tr>\n",
       "      <th>27382</th>\n",
       "      <td>IMPEX BEVERAGE INC</td>\n",
       "      <td>268</td>\n",
       "    </tr>\n",
       "    <tr>\n",
       "      <th>4647</th>\n",
       "      <td>STOLI GROUP</td>\n",
       "      <td>277</td>\n",
       "    </tr>\n",
       "  </tbody>\n",
       "</table>\n",
       "</div>"
      ],
      "text/plain": [
       "                                             VendorName  VendorNumber\n",
       "27644                            RUSSIAN STANDARD VODKA           239\n",
       "23                         WILLIAM GRANT AND SONS, INC.           240\n",
       "10594                      William Grant and Sons, Inc.           240\n",
       "27053                          William Grant & Sons Inc           240\n",
       "24858                            Filibuster Barrels LLC           244\n",
       "41545                               Dilawri Barrels LLC           244\n",
       "207                                 Wilson Daniels Ltd.           255\n",
       "22023                                WILSON DANIELS LTD           255\n",
       "28722                                  Infinium Spirits           255\n",
       "14985                                     HAAS BROTHERS           256\n",
       "18487                                     Haas Brothers           256\n",
       "28089                             Purple Valley Imports           258\n",
       "21464  Purple Valley Imports / Glass Revolution Imports           258\n",
       "9                                       Diageo Americas           260\n",
       "14520                                   DIAGEO AMERICAS           260\n",
       "25946                               IMPERIAL BRANDS INC           267\n",
       "477                               Imperial Brands, Inc.           267\n",
       "31217                               Impex Beverages Inc           268\n",
       "27382                                IMPEX BEVERAGE INC           268\n",
       "4647                                        STOLI GROUP           277"
      ]
     },
     "execution_count": 94,
     "metadata": {},
     "output_type": "execute_result"
    }
   ],
   "source": [
    "# doing some manual peeking here, just to check how the data looks\n",
    "sorted_ddf.iloc[100:120,:]"
   ]
  },
  {
   "cell_type": "code",
   "execution_count": 95,
   "id": "3bec69fd-41c9-4b86-a63c-3241c76ad5dc",
   "metadata": {},
   "outputs": [],
   "source": [
    "ddf = ddf.drop_duplicates('VendorNumber')"
   ]
  },
  {
   "cell_type": "code",
   "execution_count": 35,
   "id": "540bc89f-4981-4372-9018-5371aa3c9d5d",
   "metadata": {},
   "outputs": [],
   "source": [
    "# throw in a good ol' \"missing\" Unknown value.\n",
    "ddf[name_na] = pd.Series(['Unknown', 999])"
   ]
  },
  {
   "cell_type": "code",
   "execution_count": 36,
   "id": "d3046d83-22d2-416a-b046-bc1a44e976b2",
   "metadata": {},
   "outputs": [
    {
     "data": {
      "text/html": [
       "<div>\n",
       "<style scoped>\n",
       "    .dataframe tbody tr th:only-of-type {\n",
       "        vertical-align: middle;\n",
       "    }\n",
       "\n",
       "    .dataframe tbody tr th {\n",
       "        vertical-align: top;\n",
       "    }\n",
       "\n",
       "    .dataframe thead th {\n",
       "        text-align: right;\n",
       "    }\n",
       "</style>\n",
       "<table border=\"1\" class=\"dataframe\">\n",
       "  <thead>\n",
       "    <tr style=\"text-align: right;\">\n",
       "      <th></th>\n",
       "      <th>VendorName</th>\n",
       "      <th>VendorNumber</th>\n",
       "    </tr>\n",
       "  </thead>\n",
       "  <tbody>\n",
       "  </tbody>\n",
       "</table>\n",
       "</div>"
      ],
      "text/plain": [
       "Empty DataFrame\n",
       "Columns: [VendorName, VendorNumber]\n",
       "Index: []"
      ]
     },
     "execution_count": 36,
     "metadata": {},
     "output_type": "execute_result"
    }
   ],
   "source": [
    "ddf[name_na]"
   ]
  },
  {
   "cell_type": "code",
   "execution_count": 49,
   "id": "3f09652a-9da5-4ea0-96b0-58bfb7b35f09",
   "metadata": {},
   "outputs": [
    {
     "data": {
      "text/html": [
       "<div>\n",
       "<style scoped>\n",
       "    .dataframe tbody tr th:only-of-type {\n",
       "        vertical-align: middle;\n",
       "    }\n",
       "\n",
       "    .dataframe tbody tr th {\n",
       "        vertical-align: top;\n",
       "    }\n",
       "\n",
       "    .dataframe thead th {\n",
       "        text-align: right;\n",
       "    }\n",
       "</style>\n",
       "<table border=\"1\" class=\"dataframe\">\n",
       "  <thead>\n",
       "    <tr style=\"text-align: right;\">\n",
       "      <th></th>\n",
       "      <th>VendorName</th>\n",
       "      <th>VendorNumber</th>\n",
       "    </tr>\n",
       "  </thead>\n",
       "  <tbody>\n",
       "  </tbody>\n",
       "</table>\n",
       "</div>"
      ],
      "text/plain": [
       "Empty DataFrame\n",
       "Columns: [VendorName, VendorNumber]\n",
       "Index: []"
      ]
     },
     "execution_count": 49,
     "metadata": {},
     "output_type": "execute_result"
    }
   ],
   "source": [
    "ddf[ddf['VendorName'].str.contains('Llc')]"
   ]
  },
  {
   "cell_type": "code",
   "execution_count": 48,
   "id": "3295042b-3598-4afc-921f-91c64aebd4bd",
   "metadata": {},
   "outputs": [],
   "source": [
    "# fix the LLC to be the same as the other formatting\n",
    "ddf[ddf['VendorName'].str.contains('Llc')] = pd.Series(['Fire Tail Brands, LLC', 194])"
   ]
  },
  {
   "cell_type": "code",
   "execution_count": 97,
   "id": "47ef90a0-b99c-4e6e-a617-3a562dfca663",
   "metadata": {
    "tags": []
   },
   "outputs": [],
   "source": [
    "ddf.to_csv('./data/vendor.csv')"
   ]
  },
  {
   "cell_type": "markdown",
   "id": "ee1914d4-3394-4191-9964-02887ca114b8",
   "metadata": {},
   "source": [
    "And onto the next one!"
   ]
  },
  {
   "cell_type": "markdown",
   "id": "d280fbd1-a7bf-4f31-877d-49160f5dc00c",
   "metadata": {},
   "source": [
    "## Price Information Cleaning\n",
    "- This is still needed even if you are using the Iowa Liquor Products db, since there will be discontinued items in the invoices if you look at the invoices for all time."
   ]
  },
  {
   "cell_type": "code",
   "execution_count": 7,
   "id": "45fa3181-71e3-48a2-9568-6698c2efd1ea",
   "metadata": {},
   "outputs": [],
   "source": [
    "ddf = data_prep(price_info)\n",
    "ddf.columns = ['ItemNumber', 'StateBottleCost', 'StateBottleRetail', 'Date']"
   ]
  },
  {
   "cell_type": "code",
   "execution_count": 8,
   "id": "e9654dd7-eb19-487a-8226-35515c7c5f82",
   "metadata": {},
   "outputs": [
    {
     "data": {
      "text/plain": [
       "Index(['ItemNumber', 'StateBottleCost', 'StateBottleRetail', 'Date'], dtype='object')"
      ]
     },
     "execution_count": 8,
     "metadata": {},
     "output_type": "execute_result"
    }
   ],
   "source": [
    "ddf.columns"
   ]
  },
  {
   "cell_type": "markdown",
   "id": "69bf4115-35e8-49cf-8aeb-55a43df85eb3",
   "metadata": {},
   "source": [
    "#ddf.drop_duplicates()\n",
    "\n",
    "want unique prices for each item\n",
    "then for each unique row look back and get a subset of the data that has that price\n",
    "look for earliest and latest date to give a range / idea of what the price was\n",
    "update again with range over the value in date"
   ]
  },
  {
   "cell_type": "code",
   "execution_count": 9,
   "id": "49c83118-34cb-4dcf-afa6-7c15056bd599",
   "metadata": {},
   "outputs": [],
   "source": [
    "sub_ddf = ddf.drop_duplicates(ddf.columns[:3]).compute()"
   ]
  },
  {
   "cell_type": "code",
   "execution_count": 14,
   "id": "31b325aa-e5bd-4b64-a023-7d9fc029d48f",
   "metadata": {},
   "outputs": [],
   "source": [
    "sub_ddf.Date = pd.to_datetime(sub_ddf['Date'])"
   ]
  },
  {
   "cell_type": "code",
   "execution_count": 15,
   "id": "9b651f2d-0136-4d45-b703-f4ad4b95174b",
   "metadata": {},
   "outputs": [
    {
     "data": {
      "text/html": [
       "<div>\n",
       "<style scoped>\n",
       "    .dataframe tbody tr th:only-of-type {\n",
       "        vertical-align: middle;\n",
       "    }\n",
       "\n",
       "    .dataframe tbody tr th {\n",
       "        vertical-align: top;\n",
       "    }\n",
       "\n",
       "    .dataframe thead th {\n",
       "        text-align: right;\n",
       "    }\n",
       "</style>\n",
       "<table border=\"1\" class=\"dataframe\">\n",
       "  <thead>\n",
       "    <tr style=\"text-align: right;\">\n",
       "      <th></th>\n",
       "      <th>ItemNumber</th>\n",
       "      <th>StateBottleCost</th>\n",
       "      <th>StateBottleRetail</th>\n",
       "      <th>Date</th>\n",
       "    </tr>\n",
       "  </thead>\n",
       "  <tbody>\n",
       "    <tr>\n",
       "      <th>0</th>\n",
       "      <td>35926</td>\n",
       "      <td>3.37</td>\n",
       "      <td>5.06</td>\n",
       "      <td>2013-05-30</td>\n",
       "    </tr>\n",
       "    <tr>\n",
       "      <th>1</th>\n",
       "      <td>23824</td>\n",
       "      <td>2.00</td>\n",
       "      <td>2.99</td>\n",
       "      <td>2014-03-27</td>\n",
       "    </tr>\n",
       "    <tr>\n",
       "      <th>2</th>\n",
       "      <td>12888</td>\n",
       "      <td>8.98</td>\n",
       "      <td>13.47</td>\n",
       "      <td>2014-09-04</td>\n",
       "    </tr>\n",
       "    <tr>\n",
       "      <th>3</th>\n",
       "      <td>48106</td>\n",
       "      <td>18.99</td>\n",
       "      <td>28.49</td>\n",
       "      <td>2015-04-15</td>\n",
       "    </tr>\n",
       "    <tr>\n",
       "      <th>4</th>\n",
       "      <td>53216</td>\n",
       "      <td>6.29</td>\n",
       "      <td>9.44</td>\n",
       "      <td>2013-08-15</td>\n",
       "    </tr>\n",
       "    <tr>\n",
       "      <th>...</th>\n",
       "      <td>...</td>\n",
       "      <td>...</td>\n",
       "      <td>...</td>\n",
       "      <td>...</td>\n",
       "    </tr>\n",
       "    <tr>\n",
       "      <th>9912</th>\n",
       "      <td>903245</td>\n",
       "      <td>3.38</td>\n",
       "      <td>5.07</td>\n",
       "      <td>2012-05-02</td>\n",
       "    </tr>\n",
       "    <tr>\n",
       "      <th>18427</th>\n",
       "      <td>904664</td>\n",
       "      <td>59.00</td>\n",
       "      <td>88.50</td>\n",
       "      <td>2012-02-13</td>\n",
       "    </tr>\n",
       "    <tr>\n",
       "      <th>27314</th>\n",
       "      <td>69661</td>\n",
       "      <td>2.67</td>\n",
       "      <td>4.00</td>\n",
       "      <td>2012-01-30</td>\n",
       "    </tr>\n",
       "    <tr>\n",
       "      <th>35285</th>\n",
       "      <td>900624</td>\n",
       "      <td>4.93</td>\n",
       "      <td>7.39</td>\n",
       "      <td>2013-10-24</td>\n",
       "    </tr>\n",
       "    <tr>\n",
       "      <th>35580</th>\n",
       "      <td>903367</td>\n",
       "      <td>27.83</td>\n",
       "      <td>41.75</td>\n",
       "      <td>2013-04-17</td>\n",
       "    </tr>\n",
       "  </tbody>\n",
       "</table>\n",
       "<p>19935 rows × 4 columns</p>\n",
       "</div>"
      ],
      "text/plain": [
       "      ItemNumber  StateBottleCost  StateBottleRetail       Date\n",
       "0          35926             3.37               5.06 2013-05-30\n",
       "1          23824             2.00               2.99 2014-03-27\n",
       "2          12888             8.98              13.47 2014-09-04\n",
       "3          48106            18.99              28.49 2015-04-15\n",
       "4          53216             6.29               9.44 2013-08-15\n",
       "...          ...              ...                ...        ...\n",
       "9912      903245             3.38               5.07 2012-05-02\n",
       "18427     904664            59.00              88.50 2012-02-13\n",
       "27314      69661             2.67               4.00 2012-01-30\n",
       "35285     900624             4.93               7.39 2013-10-24\n",
       "35580     903367            27.83              41.75 2013-04-17\n",
       "\n",
       "[19935 rows x 4 columns]"
      ]
     },
     "execution_count": 15,
     "metadata": {},
     "output_type": "execute_result"
    }
   ],
   "source": []
  },
  {
   "cell_type": "code",
   "execution_count": 112,
   "id": "f1ff0017-6c83-415a-90f3-c6726f289d6e",
   "metadata": {},
   "outputs": [],
   "source": [
    "sub_ddf.columns = ['ItemNumber', 'StateBottleCost', 'StateBottleRetail']"
   ]
  },
  {
   "cell_type": "code",
   "execution_count": 18,
   "id": "d7445919-cfbf-47f5-b525-21a0fd59404b",
   "metadata": {},
   "outputs": [
    {
     "data": {
      "text/html": [
       "<div>\n",
       "<style scoped>\n",
       "    .dataframe tbody tr th:only-of-type {\n",
       "        vertical-align: middle;\n",
       "    }\n",
       "\n",
       "    .dataframe tbody tr th {\n",
       "        vertical-align: top;\n",
       "    }\n",
       "\n",
       "    .dataframe thead th {\n",
       "        text-align: right;\n",
       "    }\n",
       "</style>\n",
       "<table border=\"1\" class=\"dataframe\">\n",
       "  <thead>\n",
       "    <tr style=\"text-align: right;\">\n",
       "      <th></th>\n",
       "      <th>ItemNumber</th>\n",
       "      <th>StateBottleCost</th>\n",
       "      <th>StateBottleRetail</th>\n",
       "      <th>Date</th>\n",
       "    </tr>\n",
       "  </thead>\n",
       "  <tbody>\n",
       "    <tr>\n",
       "      <th>23244</th>\n",
       "      <td>998546</td>\n",
       "      <td>22.50</td>\n",
       "      <td>33.75</td>\n",
       "      <td>2019-10-30</td>\n",
       "    </tr>\n",
       "    <tr>\n",
       "      <th>39375</th>\n",
       "      <td>998546</td>\n",
       "      <td>21.32</td>\n",
       "      <td>31.98</td>\n",
       "      <td>2018-10-02</td>\n",
       "    </tr>\n",
       "    <tr>\n",
       "      <th>17179</th>\n",
       "      <td>998074</td>\n",
       "      <td>24.00</td>\n",
       "      <td>36.00</td>\n",
       "      <td>2021-12-13</td>\n",
       "    </tr>\n",
       "    <tr>\n",
       "      <th>3143</th>\n",
       "      <td>998074</td>\n",
       "      <td>23.32</td>\n",
       "      <td>34.98</td>\n",
       "      <td>2021-10-19</td>\n",
       "    </tr>\n",
       "    <tr>\n",
       "      <th>14637</th>\n",
       "      <td>998071</td>\n",
       "      <td>24.00</td>\n",
       "      <td>36.00</td>\n",
       "      <td>2021-12-13</td>\n",
       "    </tr>\n",
       "    <tr>\n",
       "      <th>...</th>\n",
       "      <td>...</td>\n",
       "      <td>...</td>\n",
       "      <td>...</td>\n",
       "      <td>...</td>\n",
       "    </tr>\n",
       "    <tr>\n",
       "      <th>13401</th>\n",
       "      <td>100040</td>\n",
       "      <td>15.46</td>\n",
       "      <td>34.97</td>\n",
       "      <td>2019-09-26</td>\n",
       "    </tr>\n",
       "    <tr>\n",
       "      <th>13497</th>\n",
       "      <td>100040</td>\n",
       "      <td>14.50</td>\n",
       "      <td>34.97</td>\n",
       "      <td>2019-09-25</td>\n",
       "    </tr>\n",
       "    <tr>\n",
       "      <th>41041</th>\n",
       "      <td>100040</td>\n",
       "      <td>5.23</td>\n",
       "      <td>34.97</td>\n",
       "      <td>2019-09-24</td>\n",
       "    </tr>\n",
       "    <tr>\n",
       "      <th>14729</th>\n",
       "      <td>100017</td>\n",
       "      <td>23.62</td>\n",
       "      <td>35.43</td>\n",
       "      <td>2017-12-27</td>\n",
       "    </tr>\n",
       "    <tr>\n",
       "      <th>12019</th>\n",
       "      <td>100017</td>\n",
       "      <td>22.04</td>\n",
       "      <td>33.06</td>\n",
       "      <td>2016-06-01</td>\n",
       "    </tr>\n",
       "  </tbody>\n",
       "</table>\n",
       "<p>12853 rows × 4 columns</p>\n",
       "</div>"
      ],
      "text/plain": [
       "      ItemNumber  StateBottleCost  StateBottleRetail       Date\n",
       "23244     998546            22.50              33.75 2019-10-30\n",
       "39375     998546            21.32              31.98 2018-10-02\n",
       "17179     998074            24.00              36.00 2021-12-13\n",
       "3143      998074            23.32              34.98 2021-10-19\n",
       "14637     998071            24.00              36.00 2021-12-13\n",
       "...          ...              ...                ...        ...\n",
       "13401     100040            15.46              34.97 2019-09-26\n",
       "13497     100040            14.50              34.97 2019-09-25\n",
       "41041     100040             5.23              34.97 2019-09-24\n",
       "14729     100017            23.62              35.43 2017-12-27\n",
       "12019     100017            22.04              33.06 2016-06-01\n",
       "\n",
       "[12853 rows x 4 columns]"
      ]
     },
     "execution_count": 18,
     "metadata": {},
     "output_type": "execute_result"
    }
   ],
   "source": [
    "# looks like we can just go with the most recent data, but we'll save this df out just\n",
    "# in case we want to do an analysis based on time periods of different prices.\n",
    "sub_ddf[sub_ddf.ItemNumber.duplicated(keep=False)].sort_values(['ItemNumber', 'Date'], ascending = False)"
   ]
  },
  {
   "cell_type": "code",
   "execution_count": 20,
   "id": "0520cd9b-aed8-4a20-991b-a7ba557f63b1",
   "metadata": {},
   "outputs": [],
   "source": [
    "sub_ddf.to_csv('./data/unused/price_by_dates.csv')"
   ]
  },
  {
   "cell_type": "code",
   "execution_count": 21,
   "id": "84e7c4ef-a727-4040-a58e-88ca66ffbd28",
   "metadata": {},
   "outputs": [
    {
     "data": {
      "text/html": [
       "<div>\n",
       "<style scoped>\n",
       "    .dataframe tbody tr th:only-of-type {\n",
       "        vertical-align: middle;\n",
       "    }\n",
       "\n",
       "    .dataframe tbody tr th {\n",
       "        vertical-align: top;\n",
       "    }\n",
       "\n",
       "    .dataframe thead th {\n",
       "        text-align: right;\n",
       "    }\n",
       "</style>\n",
       "<table border=\"1\" class=\"dataframe\">\n",
       "  <thead>\n",
       "    <tr style=\"text-align: right;\">\n",
       "      <th></th>\n",
       "      <th>ItemNumber</th>\n",
       "      <th>StateBottleCost</th>\n",
       "      <th>StateBottleRetail</th>\n",
       "      <th>Date</th>\n",
       "    </tr>\n",
       "  </thead>\n",
       "  <tbody>\n",
       "    <tr>\n",
       "      <th>25963</th>\n",
       "      <td>x904631</td>\n",
       "      <td>14.55</td>\n",
       "      <td>21.83</td>\n",
       "      <td>2016-10-11</td>\n",
       "    </tr>\n",
       "    <tr>\n",
       "      <th>34718</th>\n",
       "      <td>999995</td>\n",
       "      <td>17.00</td>\n",
       "      <td>25.50</td>\n",
       "      <td>2022-01-31</td>\n",
       "    </tr>\n",
       "    <tr>\n",
       "      <th>23430</th>\n",
       "      <td>999994</td>\n",
       "      <td>521.66</td>\n",
       "      <td>782.49</td>\n",
       "      <td>2022-02-08</td>\n",
       "    </tr>\n",
       "    <tr>\n",
       "      <th>12284</th>\n",
       "      <td>999993</td>\n",
       "      <td>21.25</td>\n",
       "      <td>31.88</td>\n",
       "      <td>2021-11-04</td>\n",
       "    </tr>\n",
       "    <tr>\n",
       "      <th>2798</th>\n",
       "      <td>999992</td>\n",
       "      <td>45.00</td>\n",
       "      <td>67.50</td>\n",
       "      <td>2021-09-10</td>\n",
       "    </tr>\n",
       "    <tr>\n",
       "      <th>...</th>\n",
       "      <td>...</td>\n",
       "      <td>...</td>\n",
       "      <td>...</td>\n",
       "      <td>...</td>\n",
       "    </tr>\n",
       "    <tr>\n",
       "      <th>14729</th>\n",
       "      <td>100017</td>\n",
       "      <td>23.62</td>\n",
       "      <td>35.43</td>\n",
       "      <td>2017-12-27</td>\n",
       "    </tr>\n",
       "    <tr>\n",
       "      <th>28373</th>\n",
       "      <td>100015</td>\n",
       "      <td>30.00</td>\n",
       "      <td>45.00</td>\n",
       "      <td>2019-03-11</td>\n",
       "    </tr>\n",
       "    <tr>\n",
       "      <th>38559</th>\n",
       "      <td>100006</td>\n",
       "      <td>23.32</td>\n",
       "      <td>34.98</td>\n",
       "      <td>2016-07-06</td>\n",
       "    </tr>\n",
       "    <tr>\n",
       "      <th>9973</th>\n",
       "      <td>100005</td>\n",
       "      <td>21.98</td>\n",
       "      <td>32.97</td>\n",
       "      <td>2016-10-05</td>\n",
       "    </tr>\n",
       "    <tr>\n",
       "      <th>43993</th>\n",
       "      <td>100001</td>\n",
       "      <td>8.00</td>\n",
       "      <td>12.00</td>\n",
       "      <td>2016-10-07</td>\n",
       "    </tr>\n",
       "  </tbody>\n",
       "</table>\n",
       "<p>11013 rows × 4 columns</p>\n",
       "</div>"
      ],
      "text/plain": [
       "      ItemNumber  StateBottleCost  StateBottleRetail       Date\n",
       "25963    x904631            14.55              21.83 2016-10-11\n",
       "34718     999995            17.00              25.50 2022-01-31\n",
       "23430     999994           521.66             782.49 2022-02-08\n",
       "12284     999993            21.25              31.88 2021-11-04\n",
       "2798      999992            45.00              67.50 2021-09-10\n",
       "...          ...              ...                ...        ...\n",
       "14729     100017            23.62              35.43 2017-12-27\n",
       "28373     100015            30.00              45.00 2019-03-11\n",
       "38559     100006            23.32              34.98 2016-07-06\n",
       "9973      100005            21.98              32.97 2016-10-05\n",
       "43993     100001             8.00              12.00 2016-10-07\n",
       "\n",
       "[11013 rows x 4 columns]"
      ]
     },
     "execution_count": 21,
     "metadata": {},
     "output_type": "execute_result"
    }
   ],
   "source": [
    "sub_ddf.sort_values(['ItemNumber', 'Date'], ascending = False).drop_duplicates('ItemNumber')"
   ]
  },
  {
   "cell_type": "code",
   "execution_count": null,
   "id": "723dd19b-2aa6-457a-8005-6dac454ea9d3",
   "metadata": {},
   "outputs": [
    {
     "name": "stdout",
     "output_type": "stream",
     "text": [
      "CPU times: user 2 µs, sys: 1e+03 ns, total: 3 µs\n",
      "Wall time: 5.96 µs\n"
     ]
    }
   ],
   "source": [
    "# we want to make sure that it runs for a small section before unleashing it on the larger db.\n",
    "# with so much data this cell will run for a while, but for the extra date information we can\n",
    "# wait for the code to resolve.\n",
    "%time\n",
    "empty = pd.DataFrame()\n",
    "\n",
    "for idx in unique_itemId:\n",
    "    replace = ddf[ddf.ItemNumber == idx].compute()\n",
    "    replace.Date = pd.to_datetime(replace['Date'])\n",
    "    reduce = replace.groupby([\"ItemNumber\", \"StateBottleCost\", \"StateBottleRetail\"]).agg(['min', 'max']).reset_index()\n",
    "    \n",
    "    empty = empty.append(reduce)"
   ]
  },
  {
   "cell_type": "code",
   "execution_count": 155,
   "id": "1b6a3a63-7038-4f50-b4c2-dfc3489ccbcb",
   "metadata": {},
   "outputs": [
    {
     "data": {
      "text/plain": [
       "54"
      ]
     },
     "execution_count": 155,
     "metadata": {},
     "output_type": "execute_result"
    }
   ],
   "source": [
    "len(empty.ItemNumber.unique())"
   ]
  },
  {
   "cell_type": "code",
   "execution_count": 157,
   "id": "f01a8ca1-82f4-4978-b4b4-f22f18a5fc71",
   "metadata": {},
   "outputs": [],
   "source": [
    "trimmed = [x for x in unique_itemId if x not in empty.ItemNumber.unique()]"
   ]
  },
  {
   "cell_type": "code",
   "execution_count": 159,
   "id": "781eaef2-bb13-4004-9ae9-d5b87f26f29c",
   "metadata": {},
   "outputs": [
    {
     "data": {
      "text/plain": [
       "True"
      ]
     },
     "execution_count": 159,
     "metadata": {},
     "output_type": "execute_result"
    }
   ],
   "source": [
    "len(trimmed) + len(empty.ItemNumber.unique()) == len(unique_itemId)"
   ]
  },
  {
   "cell_type": "code",
   "execution_count": 163,
   "id": "094d532f-696d-46ae-804d-09ec38cf8861",
   "metadata": {},
   "outputs": [
    {
     "ename": "KeyboardInterrupt",
     "evalue": "",
     "output_type": "error",
     "traceback": [
      "\u001b[0;31m---------------------------------------------------------------------------\u001b[0m",
      "\u001b[0;31mKeyboardInterrupt\u001b[0m                         Traceback (most recent call last)",
      "\u001b[0;32m/var/folders/cn/9ny0n35x1p18h680wlz6lmzm0000gn/T/ipykernel_24213/3928970029.py\u001b[0m in \u001b[0;36m<module>\u001b[0;34m\u001b[0m\n\u001b[1;32m      1\u001b[0m \u001b[0;32mfor\u001b[0m \u001b[0midx\u001b[0m \u001b[0;32min\u001b[0m \u001b[0mtrimmed\u001b[0m\u001b[0;34m[\u001b[0m\u001b[0;36m20\u001b[0m\u001b[0;34m:\u001b[0m\u001b[0;34m]\u001b[0m\u001b[0;34m:\u001b[0m\u001b[0;34m\u001b[0m\u001b[0;34m\u001b[0m\u001b[0m\n\u001b[0;32m----> 2\u001b[0;31m     \u001b[0mreplace\u001b[0m \u001b[0;34m=\u001b[0m \u001b[0mddf\u001b[0m\u001b[0;34m[\u001b[0m\u001b[0mddf\u001b[0m\u001b[0;34m.\u001b[0m\u001b[0mItemNumber\u001b[0m \u001b[0;34m==\u001b[0m \u001b[0midx\u001b[0m\u001b[0;34m]\u001b[0m\u001b[0;34m.\u001b[0m\u001b[0mcompute\u001b[0m\u001b[0;34m(\u001b[0m\u001b[0;34m)\u001b[0m\u001b[0;34m\u001b[0m\u001b[0;34m\u001b[0m\u001b[0m\n\u001b[0m\u001b[1;32m      3\u001b[0m     \u001b[0mreplace\u001b[0m\u001b[0;34m.\u001b[0m\u001b[0mDate\u001b[0m \u001b[0;34m=\u001b[0m \u001b[0mpd\u001b[0m\u001b[0;34m.\u001b[0m\u001b[0mto_datetime\u001b[0m\u001b[0;34m(\u001b[0m\u001b[0mreplace\u001b[0m\u001b[0;34m[\u001b[0m\u001b[0;34m'Date'\u001b[0m\u001b[0;34m]\u001b[0m\u001b[0;34m)\u001b[0m\u001b[0;34m\u001b[0m\u001b[0;34m\u001b[0m\u001b[0m\n\u001b[1;32m      4\u001b[0m     \u001b[0mreduce\u001b[0m \u001b[0;34m=\u001b[0m \u001b[0mreplace\u001b[0m\u001b[0;34m.\u001b[0m\u001b[0mgroupby\u001b[0m\u001b[0;34m(\u001b[0m\u001b[0;34m[\u001b[0m\u001b[0;34m\"ItemNumber\"\u001b[0m\u001b[0;34m,\u001b[0m \u001b[0;34m\"StateBottleCost\"\u001b[0m\u001b[0;34m,\u001b[0m \u001b[0;34m\"StateBottleRetail\"\u001b[0m\u001b[0;34m]\u001b[0m\u001b[0;34m)\u001b[0m\u001b[0;34m.\u001b[0m\u001b[0magg\u001b[0m\u001b[0;34m(\u001b[0m\u001b[0;34m[\u001b[0m\u001b[0;34m'min'\u001b[0m\u001b[0;34m,\u001b[0m \u001b[0;34m'max'\u001b[0m\u001b[0;34m]\u001b[0m\u001b[0;34m)\u001b[0m\u001b[0;34m.\u001b[0m\u001b[0mreset_index\u001b[0m\u001b[0;34m(\u001b[0m\u001b[0;34m)\u001b[0m\u001b[0;34m\u001b[0m\u001b[0;34m\u001b[0m\u001b[0m\n\u001b[1;32m      5\u001b[0m \u001b[0;34m\u001b[0m\u001b[0m\n",
      "\u001b[0;32m/Library/Frameworks/Python.framework/Versions/3.9/lib/python3.9/site-packages/dask/base.py\u001b[0m in \u001b[0;36mcompute\u001b[0;34m(self, **kwargs)\u001b[0m\n\u001b[1;32m    288\u001b[0m         \u001b[0mdask\u001b[0m\u001b[0;34m.\u001b[0m\u001b[0mbase\u001b[0m\u001b[0;34m.\u001b[0m\u001b[0mcompute\u001b[0m\u001b[0;34m\u001b[0m\u001b[0;34m\u001b[0m\u001b[0m\n\u001b[1;32m    289\u001b[0m         \"\"\"\n\u001b[0;32m--> 290\u001b[0;31m         \u001b[0;34m(\u001b[0m\u001b[0mresult\u001b[0m\u001b[0;34m,\u001b[0m\u001b[0;34m)\u001b[0m \u001b[0;34m=\u001b[0m \u001b[0mcompute\u001b[0m\u001b[0;34m(\u001b[0m\u001b[0mself\u001b[0m\u001b[0;34m,\u001b[0m \u001b[0mtraverse\u001b[0m\u001b[0;34m=\u001b[0m\u001b[0;32mFalse\u001b[0m\u001b[0;34m,\u001b[0m \u001b[0;34m**\u001b[0m\u001b[0mkwargs\u001b[0m\u001b[0;34m)\u001b[0m\u001b[0;34m\u001b[0m\u001b[0;34m\u001b[0m\u001b[0m\n\u001b[0m\u001b[1;32m    291\u001b[0m         \u001b[0;32mreturn\u001b[0m \u001b[0mresult\u001b[0m\u001b[0;34m\u001b[0m\u001b[0;34m\u001b[0m\u001b[0m\n\u001b[1;32m    292\u001b[0m \u001b[0;34m\u001b[0m\u001b[0m\n",
      "\u001b[0;32m/Library/Frameworks/Python.framework/Versions/3.9/lib/python3.9/site-packages/dask/base.py\u001b[0m in \u001b[0;36mcompute\u001b[0;34m(traverse, optimize_graph, scheduler, get, *args, **kwargs)\u001b[0m\n\u001b[1;32m    571\u001b[0m         \u001b[0mpostcomputes\u001b[0m\u001b[0;34m.\u001b[0m\u001b[0mappend\u001b[0m\u001b[0;34m(\u001b[0m\u001b[0mx\u001b[0m\u001b[0;34m.\u001b[0m\u001b[0m__dask_postcompute__\u001b[0m\u001b[0;34m(\u001b[0m\u001b[0;34m)\u001b[0m\u001b[0;34m)\u001b[0m\u001b[0;34m\u001b[0m\u001b[0;34m\u001b[0m\u001b[0m\n\u001b[1;32m    572\u001b[0m \u001b[0;34m\u001b[0m\u001b[0m\n\u001b[0;32m--> 573\u001b[0;31m     \u001b[0mresults\u001b[0m \u001b[0;34m=\u001b[0m \u001b[0mschedule\u001b[0m\u001b[0;34m(\u001b[0m\u001b[0mdsk\u001b[0m\u001b[0;34m,\u001b[0m \u001b[0mkeys\u001b[0m\u001b[0;34m,\u001b[0m \u001b[0;34m**\u001b[0m\u001b[0mkwargs\u001b[0m\u001b[0;34m)\u001b[0m\u001b[0;34m\u001b[0m\u001b[0;34m\u001b[0m\u001b[0m\n\u001b[0m\u001b[1;32m    574\u001b[0m     \u001b[0;32mreturn\u001b[0m \u001b[0mrepack\u001b[0m\u001b[0;34m(\u001b[0m\u001b[0;34m[\u001b[0m\u001b[0mf\u001b[0m\u001b[0;34m(\u001b[0m\u001b[0mr\u001b[0m\u001b[0;34m,\u001b[0m \u001b[0;34m*\u001b[0m\u001b[0ma\u001b[0m\u001b[0;34m)\u001b[0m \u001b[0;32mfor\u001b[0m \u001b[0mr\u001b[0m\u001b[0;34m,\u001b[0m \u001b[0;34m(\u001b[0m\u001b[0mf\u001b[0m\u001b[0;34m,\u001b[0m \u001b[0ma\u001b[0m\u001b[0;34m)\u001b[0m \u001b[0;32min\u001b[0m \u001b[0mzip\u001b[0m\u001b[0;34m(\u001b[0m\u001b[0mresults\u001b[0m\u001b[0;34m,\u001b[0m \u001b[0mpostcomputes\u001b[0m\u001b[0;34m)\u001b[0m\u001b[0;34m]\u001b[0m\u001b[0;34m)\u001b[0m\u001b[0;34m\u001b[0m\u001b[0;34m\u001b[0m\u001b[0m\n\u001b[1;32m    575\u001b[0m \u001b[0;34m\u001b[0m\u001b[0m\n",
      "\u001b[0;32m/Library/Frameworks/Python.framework/Versions/3.9/lib/python3.9/site-packages/dask/threaded.py\u001b[0m in \u001b[0;36mget\u001b[0;34m(dsk, result, cache, num_workers, pool, **kwargs)\u001b[0m\n\u001b[1;32m     79\u001b[0m             \u001b[0mpool\u001b[0m \u001b[0;34m=\u001b[0m \u001b[0mMultiprocessingPoolExecutor\u001b[0m\u001b[0;34m(\u001b[0m\u001b[0mpool\u001b[0m\u001b[0;34m)\u001b[0m\u001b[0;34m\u001b[0m\u001b[0;34m\u001b[0m\u001b[0m\n\u001b[1;32m     80\u001b[0m \u001b[0;34m\u001b[0m\u001b[0m\n\u001b[0;32m---> 81\u001b[0;31m     results = get_async(\n\u001b[0m\u001b[1;32m     82\u001b[0m         \u001b[0mpool\u001b[0m\u001b[0;34m.\u001b[0m\u001b[0msubmit\u001b[0m\u001b[0;34m,\u001b[0m\u001b[0;34m\u001b[0m\u001b[0;34m\u001b[0m\u001b[0m\n\u001b[1;32m     83\u001b[0m         \u001b[0mpool\u001b[0m\u001b[0;34m.\u001b[0m\u001b[0m_max_workers\u001b[0m\u001b[0;34m,\u001b[0m\u001b[0;34m\u001b[0m\u001b[0;34m\u001b[0m\u001b[0m\n",
      "\u001b[0;32m/Library/Frameworks/Python.framework/Versions/3.9/lib/python3.9/site-packages/dask/local.py\u001b[0m in \u001b[0;36mget_async\u001b[0;34m(submit, num_workers, dsk, result, cache, get_id, rerun_exceptions_locally, pack_exception, raise_exception, callbacks, dumps, loads, chunksize, **kwargs)\u001b[0m\n\u001b[1;32m    493\u001b[0m             \u001b[0;32mwhile\u001b[0m \u001b[0mstate\u001b[0m\u001b[0;34m[\u001b[0m\u001b[0;34m\"waiting\"\u001b[0m\u001b[0;34m]\u001b[0m \u001b[0;32mor\u001b[0m \u001b[0mstate\u001b[0m\u001b[0;34m[\u001b[0m\u001b[0;34m\"ready\"\u001b[0m\u001b[0;34m]\u001b[0m \u001b[0;32mor\u001b[0m \u001b[0mstate\u001b[0m\u001b[0;34m[\u001b[0m\u001b[0;34m\"running\"\u001b[0m\u001b[0;34m]\u001b[0m\u001b[0;34m:\u001b[0m\u001b[0;34m\u001b[0m\u001b[0;34m\u001b[0m\u001b[0m\n\u001b[1;32m    494\u001b[0m                 \u001b[0mfire_tasks\u001b[0m\u001b[0;34m(\u001b[0m\u001b[0mchunksize\u001b[0m\u001b[0;34m)\u001b[0m\u001b[0;34m\u001b[0m\u001b[0;34m\u001b[0m\u001b[0m\n\u001b[0;32m--> 495\u001b[0;31m                 \u001b[0;32mfor\u001b[0m \u001b[0mkey\u001b[0m\u001b[0;34m,\u001b[0m \u001b[0mres_info\u001b[0m\u001b[0;34m,\u001b[0m \u001b[0mfailed\u001b[0m \u001b[0;32min\u001b[0m \u001b[0mqueue_get\u001b[0m\u001b[0;34m(\u001b[0m\u001b[0mqueue\u001b[0m\u001b[0;34m)\u001b[0m\u001b[0;34m.\u001b[0m\u001b[0mresult\u001b[0m\u001b[0;34m(\u001b[0m\u001b[0;34m)\u001b[0m\u001b[0;34m:\u001b[0m\u001b[0;34m\u001b[0m\u001b[0;34m\u001b[0m\u001b[0m\n\u001b[0m\u001b[1;32m    496\u001b[0m                     \u001b[0;32mif\u001b[0m \u001b[0mfailed\u001b[0m\u001b[0;34m:\u001b[0m\u001b[0;34m\u001b[0m\u001b[0;34m\u001b[0m\u001b[0m\n\u001b[1;32m    497\u001b[0m                         \u001b[0mexc\u001b[0m\u001b[0;34m,\u001b[0m \u001b[0mtb\u001b[0m \u001b[0;34m=\u001b[0m \u001b[0mloads\u001b[0m\u001b[0;34m(\u001b[0m\u001b[0mres_info\u001b[0m\u001b[0;34m)\u001b[0m\u001b[0;34m\u001b[0m\u001b[0;34m\u001b[0m\u001b[0m\n",
      "\u001b[0;32m/Library/Frameworks/Python.framework/Versions/3.9/lib/python3.9/site-packages/dask/local.py\u001b[0m in \u001b[0;36mqueue_get\u001b[0;34m(q)\u001b[0m\n\u001b[1;32m    131\u001b[0m \u001b[0;34m\u001b[0m\u001b[0m\n\u001b[1;32m    132\u001b[0m     \u001b[0;32mdef\u001b[0m \u001b[0mqueue_get\u001b[0m\u001b[0;34m(\u001b[0m\u001b[0mq\u001b[0m\u001b[0;34m)\u001b[0m\u001b[0;34m:\u001b[0m\u001b[0;34m\u001b[0m\u001b[0;34m\u001b[0m\u001b[0m\n\u001b[0;32m--> 133\u001b[0;31m         \u001b[0;32mreturn\u001b[0m \u001b[0mq\u001b[0m\u001b[0;34m.\u001b[0m\u001b[0mget\u001b[0m\u001b[0;34m(\u001b[0m\u001b[0;34m)\u001b[0m\u001b[0;34m\u001b[0m\u001b[0;34m\u001b[0m\u001b[0m\n\u001b[0m\u001b[1;32m    134\u001b[0m \u001b[0;34m\u001b[0m\u001b[0m\n\u001b[1;32m    135\u001b[0m \u001b[0;34m\u001b[0m\u001b[0m\n",
      "\u001b[0;32m/Library/Frameworks/Python.framework/Versions/3.9/lib/python3.9/queue.py\u001b[0m in \u001b[0;36mget\u001b[0;34m(self, block, timeout)\u001b[0m\n\u001b[1;32m    169\u001b[0m             \u001b[0;32melif\u001b[0m \u001b[0mtimeout\u001b[0m \u001b[0;32mis\u001b[0m \u001b[0;32mNone\u001b[0m\u001b[0;34m:\u001b[0m\u001b[0;34m\u001b[0m\u001b[0;34m\u001b[0m\u001b[0m\n\u001b[1;32m    170\u001b[0m                 \u001b[0;32mwhile\u001b[0m \u001b[0;32mnot\u001b[0m \u001b[0mself\u001b[0m\u001b[0;34m.\u001b[0m\u001b[0m_qsize\u001b[0m\u001b[0;34m(\u001b[0m\u001b[0;34m)\u001b[0m\u001b[0;34m:\u001b[0m\u001b[0;34m\u001b[0m\u001b[0;34m\u001b[0m\u001b[0m\n\u001b[0;32m--> 171\u001b[0;31m                     \u001b[0mself\u001b[0m\u001b[0;34m.\u001b[0m\u001b[0mnot_empty\u001b[0m\u001b[0;34m.\u001b[0m\u001b[0mwait\u001b[0m\u001b[0;34m(\u001b[0m\u001b[0;34m)\u001b[0m\u001b[0;34m\u001b[0m\u001b[0;34m\u001b[0m\u001b[0m\n\u001b[0m\u001b[1;32m    172\u001b[0m             \u001b[0;32melif\u001b[0m \u001b[0mtimeout\u001b[0m \u001b[0;34m<\u001b[0m \u001b[0;36m0\u001b[0m\u001b[0;34m:\u001b[0m\u001b[0;34m\u001b[0m\u001b[0;34m\u001b[0m\u001b[0m\n\u001b[1;32m    173\u001b[0m                 \u001b[0;32mraise\u001b[0m \u001b[0mValueError\u001b[0m\u001b[0;34m(\u001b[0m\u001b[0;34m\"'timeout' must be a non-negative number\"\u001b[0m\u001b[0;34m)\u001b[0m\u001b[0;34m\u001b[0m\u001b[0;34m\u001b[0m\u001b[0m\n",
      "\u001b[0;32m/Library/Frameworks/Python.framework/Versions/3.9/lib/python3.9/threading.py\u001b[0m in \u001b[0;36mwait\u001b[0;34m(self, timeout)\u001b[0m\n\u001b[1;32m    310\u001b[0m         \u001b[0;32mtry\u001b[0m\u001b[0;34m:\u001b[0m    \u001b[0;31m# restore state no matter what (e.g., KeyboardInterrupt)\u001b[0m\u001b[0;34m\u001b[0m\u001b[0;34m\u001b[0m\u001b[0m\n\u001b[1;32m    311\u001b[0m             \u001b[0;32mif\u001b[0m \u001b[0mtimeout\u001b[0m \u001b[0;32mis\u001b[0m \u001b[0;32mNone\u001b[0m\u001b[0;34m:\u001b[0m\u001b[0;34m\u001b[0m\u001b[0;34m\u001b[0m\u001b[0m\n\u001b[0;32m--> 312\u001b[0;31m                 \u001b[0mwaiter\u001b[0m\u001b[0;34m.\u001b[0m\u001b[0macquire\u001b[0m\u001b[0;34m(\u001b[0m\u001b[0;34m)\u001b[0m\u001b[0;34m\u001b[0m\u001b[0;34m\u001b[0m\u001b[0m\n\u001b[0m\u001b[1;32m    313\u001b[0m                 \u001b[0mgotit\u001b[0m \u001b[0;34m=\u001b[0m \u001b[0;32mTrue\u001b[0m\u001b[0;34m\u001b[0m\u001b[0;34m\u001b[0m\u001b[0m\n\u001b[1;32m    314\u001b[0m             \u001b[0;32melse\u001b[0m\u001b[0;34m:\u001b[0m\u001b[0;34m\u001b[0m\u001b[0;34m\u001b[0m\u001b[0m\n",
      "\u001b[0;31mKeyboardInterrupt\u001b[0m: "
     ]
    }
   ],
   "source": [
    "for idx in trimmed[20:]:\n",
    "    replace = ddf[ddf.ItemNumber == idx].compute()\n",
    "    replace.Date = pd.to_datetime(replace['Date'])\n",
    "    reduce = replace.groupby([\"ItemNumber\", \"StateBottleCost\", \"StateBottleRetail\"]).agg(['min', 'max']).reset_index()\n",
    "    \n",
    "    empty = empty.append(reduce)"
   ]
  },
  {
   "cell_type": "code",
   "execution_count": 164,
   "id": "0533504c-a78a-41f7-b714-dae5caf6621a",
   "metadata": {},
   "outputs": [
    {
     "data": {
      "text/html": [
       "<div>\n",
       "<style scoped>\n",
       "    .dataframe tbody tr th:only-of-type {\n",
       "        vertical-align: middle;\n",
       "    }\n",
       "\n",
       "    .dataframe tbody tr th {\n",
       "        vertical-align: top;\n",
       "    }\n",
       "\n",
       "    .dataframe thead tr th {\n",
       "        text-align: left;\n",
       "    }\n",
       "</style>\n",
       "<table border=\"1\" class=\"dataframe\">\n",
       "  <thead>\n",
       "    <tr>\n",
       "      <th></th>\n",
       "      <th>ItemNumber</th>\n",
       "      <th>StateBottleCost</th>\n",
       "      <th>StateBottleRetail</th>\n",
       "      <th colspan=\"2\" halign=\"left\">Date</th>\n",
       "    </tr>\n",
       "    <tr>\n",
       "      <th></th>\n",
       "      <th></th>\n",
       "      <th></th>\n",
       "      <th></th>\n",
       "      <th>min</th>\n",
       "      <th>max</th>\n",
       "    </tr>\n",
       "  </thead>\n",
       "  <tbody>\n",
       "    <tr>\n",
       "      <th>0</th>\n",
       "      <td>100017</td>\n",
       "      <td>22.04</td>\n",
       "      <td>33.06</td>\n",
       "      <td>2016-06-01</td>\n",
       "      <td>2016-08-23</td>\n",
       "    </tr>\n",
       "    <tr>\n",
       "      <th>1</th>\n",
       "      <td>100017</td>\n",
       "      <td>23.62</td>\n",
       "      <td>35.43</td>\n",
       "      <td>2016-09-08</td>\n",
       "      <td>2018-04-17</td>\n",
       "    </tr>\n",
       "    <tr>\n",
       "      <th>0</th>\n",
       "      <td>100040</td>\n",
       "      <td>5.23</td>\n",
       "      <td>34.97</td>\n",
       "      <td>2019-09-24</td>\n",
       "      <td>2019-09-24</td>\n",
       "    </tr>\n",
       "    <tr>\n",
       "      <th>1</th>\n",
       "      <td>100040</td>\n",
       "      <td>14.50</td>\n",
       "      <td>34.97</td>\n",
       "      <td>2019-09-25</td>\n",
       "      <td>2019-09-25</td>\n",
       "    </tr>\n",
       "    <tr>\n",
       "      <th>2</th>\n",
       "      <td>100040</td>\n",
       "      <td>15.46</td>\n",
       "      <td>34.97</td>\n",
       "      <td>2019-09-26</td>\n",
       "      <td>2019-09-26</td>\n",
       "    </tr>\n",
       "    <tr>\n",
       "      <th>...</th>\n",
       "      <td>...</td>\n",
       "      <td>...</td>\n",
       "      <td>...</td>\n",
       "      <td>...</td>\n",
       "      <td>...</td>\n",
       "    </tr>\n",
       "    <tr>\n",
       "      <th>1</th>\n",
       "      <td>433</td>\n",
       "      <td>9.97</td>\n",
       "      <td>14.96</td>\n",
       "      <td>2012-11-05</td>\n",
       "      <td>2012-12-31</td>\n",
       "    </tr>\n",
       "    <tr>\n",
       "      <th>0</th>\n",
       "      <td>43302</td>\n",
       "      <td>10.00</td>\n",
       "      <td>15.00</td>\n",
       "      <td>2016-08-01</td>\n",
       "      <td>2022-02-28</td>\n",
       "    </tr>\n",
       "    <tr>\n",
       "      <th>1</th>\n",
       "      <td>43302</td>\n",
       "      <td>11.00</td>\n",
       "      <td>16.50</td>\n",
       "      <td>2012-03-12</td>\n",
       "      <td>2016-07-29</td>\n",
       "    </tr>\n",
       "    <tr>\n",
       "      <th>0</th>\n",
       "      <td>43308</td>\n",
       "      <td>4.80</td>\n",
       "      <td>7.20</td>\n",
       "      <td>2015-11-03</td>\n",
       "      <td>2016-03-30</td>\n",
       "    </tr>\n",
       "    <tr>\n",
       "      <th>1</th>\n",
       "      <td>43308</td>\n",
       "      <td>4.97</td>\n",
       "      <td>7.46</td>\n",
       "      <td>2015-03-04</td>\n",
       "      <td>2015-10-29</td>\n",
       "    </tr>\n",
       "  </tbody>\n",
       "</table>\n",
       "<p>4970 rows × 5 columns</p>\n",
       "</div>"
      ],
      "text/plain": [
       "   ItemNumber StateBottleCost StateBottleRetail       Date           \n",
       "                                                       min        max\n",
       "0      100017           22.04             33.06 2016-06-01 2016-08-23\n",
       "1      100017           23.62             35.43 2016-09-08 2018-04-17\n",
       "0      100040            5.23             34.97 2019-09-24 2019-09-24\n",
       "1      100040           14.50             34.97 2019-09-25 2019-09-25\n",
       "2      100040           15.46             34.97 2019-09-26 2019-09-26\n",
       "..        ...             ...               ...        ...        ...\n",
       "1         433            9.97             14.96 2012-11-05 2012-12-31\n",
       "0       43302           10.00             15.00 2016-08-01 2022-02-28\n",
       "1       43302           11.00             16.50 2012-03-12 2016-07-29\n",
       "0       43308            4.80              7.20 2015-11-03 2016-03-30\n",
       "1       43308            4.97              7.46 2015-03-04 2015-10-29\n",
       "\n",
       "[4970 rows x 5 columns]"
      ]
     },
     "execution_count": 164,
     "metadata": {},
     "output_type": "execute_result"
    }
   ],
   "source": [
    "empty"
   ]
  },
  {
   "cell_type": "code",
   "execution_count": 172,
   "id": "71e67897-d337-468c-8e37-c87a0eec2dff",
   "metadata": {},
   "outputs": [],
   "source": [
    "if \"\":\n",
    "    print('yes')"
   ]
  },
  {
   "cell_type": "code",
   "execution_count": 168,
   "id": "12f70674-02e4-4abb-ad22-206264a9dd96",
   "metadata": {},
   "outputs": [],
   "source": [
    "empty.to_csv('./data/price_part_1.csv')"
   ]
  },
  {
   "cell_type": "code",
   "execution_count": 165,
   "id": "414bed34-7bbd-4fa1-8ba5-a97f1b976943",
   "metadata": {},
   "outputs": [],
   "source": [
    "trimmed = [x for x in unique_itemId if x not in empty.ItemNumber.unique()]"
   ]
  },
  {
   "cell_type": "code",
   "execution_count": 169,
   "id": "0b967fae-ff7b-4b46-9f43-f0dd6e756a34",
   "metadata": {},
   "outputs": [
    {
     "data": {
      "text/plain": [
       "1368"
      ]
     },
     "execution_count": 169,
     "metadata": {},
     "output_type": "execute_result"
    }
   ],
   "source": [
    "len(empty.ItemNumber.unique())"
   ]
  },
  {
   "cell_type": "code",
   "execution_count": 167,
   "id": "b49bbc7a-e356-429c-a7cb-53d67ec0c468",
   "metadata": {},
   "outputs": [
    {
     "data": {
      "text/plain": [
       "2563"
      ]
     },
     "execution_count": 167,
     "metadata": {},
     "output_type": "execute_result"
    }
   ],
   "source": [
    "len(trimmed)"
   ]
  },
  {
   "cell_type": "markdown",
   "id": "4d2b7b40-9615-4b76-aba0-3679f9baf6bd",
   "metadata": {},
   "source": [
    "Just going to run this one on the desktop and hope for the best. If I don't get back to this section I don't get back to this section."
   ]
  },
  {
   "cell_type": "code",
   "execution_count": 183,
   "id": "94758f6c-243f-4ecd-a6fe-0cea0412f645",
   "metadata": {},
   "outputs": [],
   "source": [
    "ddf = data_prep(store_info)"
   ]
  },
  {
   "cell_type": "code",
   "execution_count": 184,
   "id": "10464791-e0db-44e6-aec2-c17e65021981",
   "metadata": {},
   "outputs": [],
   "source": [
    "sub_ddf = ddf.drop('Date', axis = 1)"
   ]
  },
  {
   "cell_type": "code",
   "execution_count": 185,
   "id": "231fd2de-4034-4088-94c7-832c59d29b7c",
   "metadata": {},
   "outputs": [],
   "source": [
    "sub_ddf = sub_ddf.drop_duplicates().compute()"
   ]
  },
  {
   "cell_type": "code",
   "execution_count": 187,
   "id": "68f0c605-da26-4062-8f46-76355f32bb2c",
   "metadata": {},
   "outputs": [],
   "source": [
    "sub_ddf.columns = sub_ddf.columns.str.replace(\" \", \"\")"
   ]
  },
  {
   "cell_type": "code",
   "execution_count": 188,
   "id": "454e1d72-0c6d-42d8-8e81-f48eb8a3045a",
   "metadata": {},
   "outputs": [
    {
     "data": {
      "text/plain": [
       "False"
      ]
     },
     "execution_count": 188,
     "metadata": {},
     "output_type": "execute_result"
    }
   ],
   "source": [
    "len(sub_ddf.StoreNumber.unique()) == sub_ddf.shape[0]"
   ]
  },
  {
   "cell_type": "code",
   "execution_count": 190,
   "id": "4428bf8e-63dc-4049-85a2-7ea83a02aa2c",
   "metadata": {},
   "outputs": [
    {
     "name": "stdout",
     "output_type": "stream",
     "text": [
      "2705\n"
     ]
    }
   ],
   "source": [
    "print(len(sub_ddf.StoreNumber.unique()))"
   ]
  },
  {
   "cell_type": "code",
   "execution_count": 194,
   "id": "09c7d58b-79e0-40b3-b996-538203072844",
   "metadata": {},
   "outputs": [
    {
     "data": {
      "text/plain": [
       "4378    10\n",
       "3682     8\n",
       "3420     8\n",
       "4478     7\n",
       "2238     7\n",
       "        ..\n",
       "6104     1\n",
       "6225     1\n",
       "5874     1\n",
       "5906     1\n",
       "5629     1\n",
       "Name: StoreNumber, Length: 2705, dtype: int64"
      ]
     },
     "execution_count": 194,
     "metadata": {},
     "output_type": "execute_result"
    }
   ],
   "source": [
    "sub_ddf.StoreNumber.value_counts().sort_values(ascending = False)"
   ]
  },
  {
   "cell_type": "code",
   "execution_count": 196,
   "id": "625ff671-0586-40bb-89e1-04fe18153e1b",
   "metadata": {},
   "outputs": [
    {
     "data": {
      "text/plain": [
       "1860"
      ]
     },
     "execution_count": 196,
     "metadata": {},
     "output_type": "execute_result"
    }
   ],
   "source": [
    "sum(sub_ddf.StoreNumber.value_counts().sort_values(ascending = False) > 1)"
   ]
  },
  {
   "cell_type": "code",
   "execution_count": 206,
   "id": "6272bd7a-20e6-432f-8030-8b3d6d5c8c2e",
   "metadata": {},
   "outputs": [
    {
     "data": {
      "text/html": [
       "<div>\n",
       "<style scoped>\n",
       "    .dataframe tbody tr th:only-of-type {\n",
       "        vertical-align: middle;\n",
       "    }\n",
       "\n",
       "    .dataframe tbody tr th {\n",
       "        vertical-align: top;\n",
       "    }\n",
       "\n",
       "    .dataframe thead th {\n",
       "        text-align: right;\n",
       "    }\n",
       "</style>\n",
       "<table border=\"1\" class=\"dataframe\">\n",
       "  <thead>\n",
       "    <tr style=\"text-align: right;\">\n",
       "      <th></th>\n",
       "      <th>StoreNumber</th>\n",
       "      <th>StoreName</th>\n",
       "      <th>Address</th>\n",
       "      <th>City</th>\n",
       "      <th>ZipCode</th>\n",
       "      <th>StoreLocation</th>\n",
       "      <th>CountyNumber</th>\n",
       "    </tr>\n",
       "  </thead>\n",
       "  <tbody>\n",
       "    <tr>\n",
       "      <th>3307</th>\n",
       "      <td>4378</td>\n",
       "      <td>Kum &amp; Go #202 / 4th St Waukee</td>\n",
       "      <td>85  4TH ST</td>\n",
       "      <td>WAUKEE</td>\n",
       "      <td>50263</td>\n",
       "      <td>POINT (-93.882532 41.613918)</td>\n",
       "      <td>25.0</td>\n",
       "    </tr>\n",
       "    <tr>\n",
       "      <th>31582</th>\n",
       "      <td>4378</td>\n",
       "      <td>Kum &amp; Go #1202 / Waukee</td>\n",
       "      <td>650 W Hickman Rd</td>\n",
       "      <td>Waukee</td>\n",
       "      <td>50263</td>\n",
       "      <td>POINT (-93.887586 41.614927)</td>\n",
       "      <td>25.0</td>\n",
       "    </tr>\n",
       "    <tr>\n",
       "      <th>11597</th>\n",
       "      <td>4378</td>\n",
       "      <td>Kum &amp; Go #202 / 4th St Waukee</td>\n",
       "      <td>None</td>\n",
       "      <td>None</td>\n",
       "      <td>None</td>\n",
       "      <td>None</td>\n",
       "      <td>NaN</td>\n",
       "    </tr>\n",
       "    <tr>\n",
       "      <th>14442</th>\n",
       "      <td>4378</td>\n",
       "      <td>Kum &amp; Go #1202 / Waukee</td>\n",
       "      <td>650 W Hickman Rd</td>\n",
       "      <td>Waukee</td>\n",
       "      <td>50263</td>\n",
       "      <td>None</td>\n",
       "      <td>25.0</td>\n",
       "    </tr>\n",
       "    <tr>\n",
       "      <th>29506</th>\n",
       "      <td>4378</td>\n",
       "      <td>Kum &amp; Go #1202 / Waukee</td>\n",
       "      <td>650 W Hickman Rd</td>\n",
       "      <td>Waukee</td>\n",
       "      <td>50263</td>\n",
       "      <td>POINT (-93.886466 41.61492100000001)</td>\n",
       "      <td>25.0</td>\n",
       "    </tr>\n",
       "    <tr>\n",
       "      <th>5782</th>\n",
       "      <td>4378</td>\n",
       "      <td>Kum &amp; Go #1202 / Waukee</td>\n",
       "      <td>650 W Hickman Rd</td>\n",
       "      <td>Waukee</td>\n",
       "      <td>50263</td>\n",
       "      <td>POINT (-93.886466 41.614921)</td>\n",
       "      <td>25.0</td>\n",
       "    </tr>\n",
       "    <tr>\n",
       "      <th>11153</th>\n",
       "      <td>4378</td>\n",
       "      <td>KUM &amp; GO #95 / DE SOTO</td>\n",
       "      <td>650 W Hickman Rd</td>\n",
       "      <td>Waukee</td>\n",
       "      <td>50263</td>\n",
       "      <td>POINT (-93.887586 41.614927)</td>\n",
       "      <td>25.0</td>\n",
       "    </tr>\n",
       "    <tr>\n",
       "      <th>34758</th>\n",
       "      <td>4378</td>\n",
       "      <td>Kum &amp; Go #202 / 4th St Waukee</td>\n",
       "      <td>85  4th St</td>\n",
       "      <td>Waukee</td>\n",
       "      <td>50263</td>\n",
       "      <td>POINT (-93.882532 41.613918)</td>\n",
       "      <td>25.0</td>\n",
       "    </tr>\n",
       "    <tr>\n",
       "      <th>16548</th>\n",
       "      <td>4378</td>\n",
       "      <td>Kum &amp; Go #1202</td>\n",
       "      <td>650 W Hickman Rd</td>\n",
       "      <td>Waukee</td>\n",
       "      <td>50263</td>\n",
       "      <td>POINT (-93.887586 41.614927)</td>\n",
       "      <td>25.0</td>\n",
       "    </tr>\n",
       "    <tr>\n",
       "      <th>21960</th>\n",
       "      <td>4378</td>\n",
       "      <td>Kum &amp; Go #202 / 4th St Waukee</td>\n",
       "      <td>650 W Hickman Rd</td>\n",
       "      <td>Waukee</td>\n",
       "      <td>50263</td>\n",
       "      <td>POINT (-93.887586 41.614927)</td>\n",
       "      <td>25.0</td>\n",
       "    </tr>\n",
       "  </tbody>\n",
       "</table>\n",
       "</div>"
      ],
      "text/plain": [
       "       StoreNumber                      StoreName           Address    City  \\\n",
       "3307          4378  Kum & Go #202 / 4th St Waukee        85  4TH ST  WAUKEE   \n",
       "31582         4378        Kum & Go #1202 / Waukee  650 W Hickman Rd  Waukee   \n",
       "11597         4378  Kum & Go #202 / 4th St Waukee              None    None   \n",
       "14442         4378        Kum & Go #1202 / Waukee  650 W Hickman Rd  Waukee   \n",
       "29506         4378        Kum & Go #1202 / Waukee  650 W Hickman Rd  Waukee   \n",
       "5782          4378        Kum & Go #1202 / Waukee  650 W Hickman Rd  Waukee   \n",
       "11153         4378         KUM & GO #95 / DE SOTO  650 W Hickman Rd  Waukee   \n",
       "34758         4378  Kum & Go #202 / 4th St Waukee        85  4th St  Waukee   \n",
       "16548         4378                 Kum & Go #1202  650 W Hickman Rd  Waukee   \n",
       "21960         4378  Kum & Go #202 / 4th St Waukee  650 W Hickman Rd  Waukee   \n",
       "\n",
       "      ZipCode                         StoreLocation  CountyNumber  \n",
       "3307    50263          POINT (-93.882532 41.613918)          25.0  \n",
       "31582   50263          POINT (-93.887586 41.614927)          25.0  \n",
       "11597    None                                  None           NaN  \n",
       "14442   50263                                  None          25.0  \n",
       "29506   50263  POINT (-93.886466 41.61492100000001)          25.0  \n",
       "5782    50263          POINT (-93.886466 41.614921)          25.0  \n",
       "11153   50263          POINT (-93.887586 41.614927)          25.0  \n",
       "34758   50263          POINT (-93.882532 41.613918)          25.0  \n",
       "16548   50263          POINT (-93.887586 41.614927)          25.0  \n",
       "21960   50263          POINT (-93.887586 41.614927)          25.0  "
      ]
     },
     "execution_count": 206,
     "metadata": {},
     "output_type": "execute_result"
    }
   ],
   "source": [
    "# brief look at the data shows there are a couple of stores... but only the Kum & Go on 650W Hickman seems like the one that exists\n",
    "sub_ddf[sub_ddf.StoreNumber == 4378]"
   ]
  },
  {
   "cell_type": "code",
   "execution_count": 207,
   "id": "0868a8f1-c848-4c5d-9c9b-5dc6eee5b5c2",
   "metadata": {},
   "outputs": [
    {
     "ename": "TypeError",
     "evalue": "Can only merge Series or DataFrame objects, a <class 'dask.dataframe.core.DataFrame'> was passed",
     "output_type": "error",
     "traceback": [
      "\u001b[0;31m---------------------------------------------------------------------------\u001b[0m",
      "\u001b[0;31mTypeError\u001b[0m                                 Traceback (most recent call last)",
      "\u001b[0;32m/var/folders/cn/9ny0n35x1p18h680wlz6lmzm0000gn/T/ipykernel_24213/3595708516.py\u001b[0m in \u001b[0;36m<module>\u001b[0;34m\u001b[0m\n\u001b[0;32m----> 1\u001b[0;31m \u001b[0msub_ddf\u001b[0m\u001b[0;34m.\u001b[0m\u001b[0mmerge\u001b[0m\u001b[0;34m(\u001b[0m\u001b[0mddf\u001b[0m\u001b[0;34m,\u001b[0m \u001b[0mhow\u001b[0m \u001b[0;34m=\u001b[0m \u001b[0;34m\"left\"\u001b[0m\u001b[0;34m,\u001b[0m \u001b[0mleft_index\u001b[0m \u001b[0;34m=\u001b[0m \u001b[0;32mTrue\u001b[0m\u001b[0;34m,\u001b[0m \u001b[0mright_index\u001b[0m \u001b[0;34m=\u001b[0m \u001b[0;32mTrue\u001b[0m\u001b[0;34m)\u001b[0m\u001b[0;34m\u001b[0m\u001b[0;34m\u001b[0m\u001b[0m\n\u001b[0m",
      "\u001b[0;32m/Library/Frameworks/Python.framework/Versions/3.9/lib/python3.9/site-packages/pandas/core/frame.py\u001b[0m in \u001b[0;36mmerge\u001b[0;34m(self, right, how, on, left_on, right_on, left_index, right_index, sort, suffixes, copy, indicator, validate)\u001b[0m\n\u001b[1;32m   9188\u001b[0m         \u001b[0;32mfrom\u001b[0m \u001b[0mpandas\u001b[0m\u001b[0;34m.\u001b[0m\u001b[0mcore\u001b[0m\u001b[0;34m.\u001b[0m\u001b[0mreshape\u001b[0m\u001b[0;34m.\u001b[0m\u001b[0mmerge\u001b[0m \u001b[0;32mimport\u001b[0m \u001b[0mmerge\u001b[0m\u001b[0;34m\u001b[0m\u001b[0;34m\u001b[0m\u001b[0m\n\u001b[1;32m   9189\u001b[0m \u001b[0;34m\u001b[0m\u001b[0m\n\u001b[0;32m-> 9190\u001b[0;31m         return merge(\n\u001b[0m\u001b[1;32m   9191\u001b[0m             \u001b[0mself\u001b[0m\u001b[0;34m,\u001b[0m\u001b[0;34m\u001b[0m\u001b[0;34m\u001b[0m\u001b[0m\n\u001b[1;32m   9192\u001b[0m             \u001b[0mright\u001b[0m\u001b[0;34m,\u001b[0m\u001b[0;34m\u001b[0m\u001b[0;34m\u001b[0m\u001b[0m\n",
      "\u001b[0;32m/Library/Frameworks/Python.framework/Versions/3.9/lib/python3.9/site-packages/pandas/core/reshape/merge.py\u001b[0m in \u001b[0;36mmerge\u001b[0;34m(left, right, how, on, left_on, right_on, left_index, right_index, sort, suffixes, copy, indicator, validate)\u001b[0m\n\u001b[1;32m    104\u001b[0m     \u001b[0mvalidate\u001b[0m\u001b[0;34m:\u001b[0m \u001b[0mstr\u001b[0m \u001b[0;34m|\u001b[0m \u001b[0;32mNone\u001b[0m \u001b[0;34m=\u001b[0m \u001b[0;32mNone\u001b[0m\u001b[0;34m,\u001b[0m\u001b[0;34m\u001b[0m\u001b[0;34m\u001b[0m\u001b[0m\n\u001b[1;32m    105\u001b[0m ) -> DataFrame:\n\u001b[0;32m--> 106\u001b[0;31m     op = _MergeOperation(\n\u001b[0m\u001b[1;32m    107\u001b[0m         \u001b[0mleft\u001b[0m\u001b[0;34m,\u001b[0m\u001b[0;34m\u001b[0m\u001b[0;34m\u001b[0m\u001b[0m\n\u001b[1;32m    108\u001b[0m         \u001b[0mright\u001b[0m\u001b[0;34m,\u001b[0m\u001b[0;34m\u001b[0m\u001b[0;34m\u001b[0m\u001b[0m\n",
      "\u001b[0;32m/Library/Frameworks/Python.framework/Versions/3.9/lib/python3.9/site-packages/pandas/core/reshape/merge.py\u001b[0m in \u001b[0;36m__init__\u001b[0;34m(self, left, right, how, on, left_on, right_on, axis, left_index, right_index, sort, suffixes, copy, indicator, validate)\u001b[0m\n\u001b[1;32m    626\u001b[0m     ):\n\u001b[1;32m    627\u001b[0m         \u001b[0m_left\u001b[0m \u001b[0;34m=\u001b[0m \u001b[0m_validate_operand\u001b[0m\u001b[0;34m(\u001b[0m\u001b[0mleft\u001b[0m\u001b[0;34m)\u001b[0m\u001b[0;34m\u001b[0m\u001b[0;34m\u001b[0m\u001b[0m\n\u001b[0;32m--> 628\u001b[0;31m         \u001b[0m_right\u001b[0m \u001b[0;34m=\u001b[0m \u001b[0m_validate_operand\u001b[0m\u001b[0;34m(\u001b[0m\u001b[0mright\u001b[0m\u001b[0;34m)\u001b[0m\u001b[0;34m\u001b[0m\u001b[0;34m\u001b[0m\u001b[0m\n\u001b[0m\u001b[1;32m    629\u001b[0m         \u001b[0mself\u001b[0m\u001b[0;34m.\u001b[0m\u001b[0mleft\u001b[0m \u001b[0;34m=\u001b[0m \u001b[0mself\u001b[0m\u001b[0;34m.\u001b[0m\u001b[0morig_left\u001b[0m \u001b[0;34m=\u001b[0m \u001b[0m_left\u001b[0m\u001b[0;34m\u001b[0m\u001b[0;34m\u001b[0m\u001b[0m\n\u001b[1;32m    630\u001b[0m         \u001b[0mself\u001b[0m\u001b[0;34m.\u001b[0m\u001b[0mright\u001b[0m \u001b[0;34m=\u001b[0m \u001b[0mself\u001b[0m\u001b[0;34m.\u001b[0m\u001b[0morig_right\u001b[0m \u001b[0;34m=\u001b[0m \u001b[0m_right\u001b[0m\u001b[0;34m\u001b[0m\u001b[0;34m\u001b[0m\u001b[0m\n",
      "\u001b[0;32m/Library/Frameworks/Python.framework/Versions/3.9/lib/python3.9/site-packages/pandas/core/reshape/merge.py\u001b[0m in \u001b[0;36m_validate_operand\u001b[0;34m(obj)\u001b[0m\n\u001b[1;32m   2274\u001b[0m             \u001b[0;32mreturn\u001b[0m \u001b[0mobj\u001b[0m\u001b[0;34m.\u001b[0m\u001b[0mto_frame\u001b[0m\u001b[0;34m(\u001b[0m\u001b[0;34m)\u001b[0m\u001b[0;34m\u001b[0m\u001b[0;34m\u001b[0m\u001b[0m\n\u001b[1;32m   2275\u001b[0m     \u001b[0;32melse\u001b[0m\u001b[0;34m:\u001b[0m\u001b[0;34m\u001b[0m\u001b[0;34m\u001b[0m\u001b[0m\n\u001b[0;32m-> 2276\u001b[0;31m         raise TypeError(\n\u001b[0m\u001b[1;32m   2277\u001b[0m             \u001b[0;34mf\"Can only merge Series or DataFrame objects, a {type(obj)} was passed\"\u001b[0m\u001b[0;34m\u001b[0m\u001b[0;34m\u001b[0m\u001b[0m\n\u001b[1;32m   2278\u001b[0m         )\n",
      "\u001b[0;31mTypeError\u001b[0m: Can only merge Series or DataFrame objects, a <class 'dask.dataframe.core.DataFrame'> was passed"
     ]
    }
   ],
   "source": [
    "sub_ddf.merge(ddf, how = \"left\", left_index = True, right_index = True)"
   ]
  },
  {
   "cell_type": "code",
   "execution_count": 223,
   "id": "b2828d84-79c1-4f3c-82d0-7b20ec3fe69c",
   "metadata": {},
   "outputs": [],
   "source": [
    "date_ddf = ddf[['Date']].merge(sub_ddf, how = \"right\", left_index = True, right_index = True).compute()"
   ]
  },
  {
   "cell_type": "code",
   "execution_count": 224,
   "id": "ccd27166-f271-4242-baac-65a1a8f1005c",
   "metadata": {},
   "outputs": [],
   "source": [
    "date_ddf = date_ddf.reset_index()"
   ]
  },
  {
   "cell_type": "code",
   "execution_count": 225,
   "id": "803fbaa9-b3a0-46be-b0a1-fb5997375557",
   "metadata": {},
   "outputs": [],
   "source": [
    "date_ddf.Date = pd.to_datetime(date_ddf.Date)"
   ]
  },
  {
   "cell_type": "code",
   "execution_count": 226,
   "id": "15d4264b-defb-4352-97b4-00dc0a0ab01f",
   "metadata": {},
   "outputs": [
    {
     "data": {
      "text/html": [
       "<div>\n",
       "<style scoped>\n",
       "    .dataframe tbody tr th:only-of-type {\n",
       "        vertical-align: middle;\n",
       "    }\n",
       "\n",
       "    .dataframe tbody tr th {\n",
       "        vertical-align: top;\n",
       "    }\n",
       "\n",
       "    .dataframe thead th {\n",
       "        text-align: right;\n",
       "    }\n",
       "</style>\n",
       "<table border=\"1\" class=\"dataframe\">\n",
       "  <thead>\n",
       "    <tr style=\"text-align: right;\">\n",
       "      <th></th>\n",
       "      <th>index</th>\n",
       "      <th>Date</th>\n",
       "      <th>StoreNumber</th>\n",
       "      <th>StoreName</th>\n",
       "      <th>Address</th>\n",
       "      <th>City</th>\n",
       "      <th>ZipCode</th>\n",
       "      <th>StoreLocation</th>\n",
       "      <th>CountyNumber</th>\n",
       "    </tr>\n",
       "  </thead>\n",
       "  <tbody>\n",
       "    <tr>\n",
       "      <th>0</th>\n",
       "      <td>554</td>\n",
       "      <td>2015-11-10</td>\n",
       "      <td>5028</td>\n",
       "      <td>Midtown Liquor</td>\n",
       "      <td>1100, E 5th St</td>\n",
       "      <td>Storm Lake</td>\n",
       "      <td>50588</td>\n",
       "      <td>POINT (-95.186938 42.644563)</td>\n",
       "      <td>11.0</td>\n",
       "    </tr>\n",
       "    <tr>\n",
       "      <th>1</th>\n",
       "      <td>554</td>\n",
       "      <td>2013-09-25</td>\n",
       "      <td>5028</td>\n",
       "      <td>Midtown Liquor</td>\n",
       "      <td>1100, E 5th St</td>\n",
       "      <td>Storm Lake</td>\n",
       "      <td>50588</td>\n",
       "      <td>POINT (-95.186938 42.644563)</td>\n",
       "      <td>11.0</td>\n",
       "    </tr>\n",
       "    <tr>\n",
       "      <th>2</th>\n",
       "      <td>554</td>\n",
       "      <td>2012-08-14</td>\n",
       "      <td>5028</td>\n",
       "      <td>Midtown Liquor</td>\n",
       "      <td>1100, E 5th St</td>\n",
       "      <td>Storm Lake</td>\n",
       "      <td>50588</td>\n",
       "      <td>POINT (-95.186938 42.644563)</td>\n",
       "      <td>11.0</td>\n",
       "    </tr>\n",
       "    <tr>\n",
       "      <th>3</th>\n",
       "      <td>554</td>\n",
       "      <td>2012-03-05</td>\n",
       "      <td>5028</td>\n",
       "      <td>Midtown Liquor</td>\n",
       "      <td>1100, E 5th St</td>\n",
       "      <td>Storm Lake</td>\n",
       "      <td>50588</td>\n",
       "      <td>POINT (-95.186938 42.644563)</td>\n",
       "      <td>11.0</td>\n",
       "    </tr>\n",
       "    <tr>\n",
       "      <th>4</th>\n",
       "      <td>554</td>\n",
       "      <td>2013-03-28</td>\n",
       "      <td>5028</td>\n",
       "      <td>Midtown Liquor</td>\n",
       "      <td>1100, E 5th St</td>\n",
       "      <td>Storm Lake</td>\n",
       "      <td>50588</td>\n",
       "      <td>POINT (-95.186938 42.644563)</td>\n",
       "      <td>11.0</td>\n",
       "    </tr>\n",
       "    <tr>\n",
       "      <th>...</th>\n",
       "      <td>...</td>\n",
       "      <td>...</td>\n",
       "      <td>...</td>\n",
       "      <td>...</td>\n",
       "      <td>...</td>\n",
       "      <td>...</td>\n",
       "      <td>...</td>\n",
       "      <td>...</td>\n",
       "      <td>...</td>\n",
       "    </tr>\n",
       "    <tr>\n",
       "      <th>3471757</th>\n",
       "      <td>40501</td>\n",
       "      <td>2013-02-26</td>\n",
       "      <td>5417</td>\n",
       "      <td>Casey's General Store # 2792/Cedar Rapids</td>\n",
       "      <td>9001 6th Street SW</td>\n",
       "      <td>Cedar Rapids</td>\n",
       "      <td>52404</td>\n",
       "      <td>POINT (-91.675979 41.88924)</td>\n",
       "      <td>57.0</td>\n",
       "    </tr>\n",
       "    <tr>\n",
       "      <th>3471758</th>\n",
       "      <td>40501</td>\n",
       "      <td>2013-10-28</td>\n",
       "      <td>5417</td>\n",
       "      <td>Casey's General Store # 2792/Cedar Rapids</td>\n",
       "      <td>9001 6th Street SW</td>\n",
       "      <td>Cedar Rapids</td>\n",
       "      <td>52404</td>\n",
       "      <td>POINT (-91.675979 41.88924)</td>\n",
       "      <td>57.0</td>\n",
       "    </tr>\n",
       "    <tr>\n",
       "      <th>3471759</th>\n",
       "      <td>40501</td>\n",
       "      <td>2012-02-29</td>\n",
       "      <td>5417</td>\n",
       "      <td>Casey's General Store # 2792/Cedar Rapids</td>\n",
       "      <td>9001 6th Street SW</td>\n",
       "      <td>Cedar Rapids</td>\n",
       "      <td>52404</td>\n",
       "      <td>POINT (-91.675979 41.88924)</td>\n",
       "      <td>57.0</td>\n",
       "    </tr>\n",
       "    <tr>\n",
       "      <th>3471760</th>\n",
       "      <td>40501</td>\n",
       "      <td>2012-11-12</td>\n",
       "      <td>5417</td>\n",
       "      <td>Casey's General Store # 2792/Cedar Rapids</td>\n",
       "      <td>9001 6th Street SW</td>\n",
       "      <td>Cedar Rapids</td>\n",
       "      <td>52404</td>\n",
       "      <td>POINT (-91.675979 41.88924)</td>\n",
       "      <td>57.0</td>\n",
       "    </tr>\n",
       "    <tr>\n",
       "      <th>3471761</th>\n",
       "      <td>40501</td>\n",
       "      <td>2013-09-09</td>\n",
       "      <td>5417</td>\n",
       "      <td>Casey's General Store # 2792/Cedar Rapids</td>\n",
       "      <td>9001 6th Street SW</td>\n",
       "      <td>Cedar Rapids</td>\n",
       "      <td>52404</td>\n",
       "      <td>POINT (-91.675979 41.88924)</td>\n",
       "      <td>57.0</td>\n",
       "    </tr>\n",
       "  </tbody>\n",
       "</table>\n",
       "<p>3471762 rows × 9 columns</p>\n",
       "</div>"
      ],
      "text/plain": [
       "         index       Date  StoreNumber  \\\n",
       "0          554 2015-11-10         5028   \n",
       "1          554 2013-09-25         5028   \n",
       "2          554 2012-08-14         5028   \n",
       "3          554 2012-03-05         5028   \n",
       "4          554 2013-03-28         5028   \n",
       "...        ...        ...          ...   \n",
       "3471757  40501 2013-02-26         5417   \n",
       "3471758  40501 2013-10-28         5417   \n",
       "3471759  40501 2012-02-29         5417   \n",
       "3471760  40501 2012-11-12         5417   \n",
       "3471761  40501 2013-09-09         5417   \n",
       "\n",
       "                                         StoreName             Address  \\\n",
       "0                                   Midtown Liquor      1100, E 5th St   \n",
       "1                                   Midtown Liquor      1100, E 5th St   \n",
       "2                                   Midtown Liquor      1100, E 5th St   \n",
       "3                                   Midtown Liquor      1100, E 5th St   \n",
       "4                                   Midtown Liquor      1100, E 5th St   \n",
       "...                                            ...                 ...   \n",
       "3471757  Casey's General Store # 2792/Cedar Rapids  9001 6th Street SW   \n",
       "3471758  Casey's General Store # 2792/Cedar Rapids  9001 6th Street SW   \n",
       "3471759  Casey's General Store # 2792/Cedar Rapids  9001 6th Street SW   \n",
       "3471760  Casey's General Store # 2792/Cedar Rapids  9001 6th Street SW   \n",
       "3471761  Casey's General Store # 2792/Cedar Rapids  9001 6th Street SW   \n",
       "\n",
       "                 City ZipCode                 StoreLocation  CountyNumber  \n",
       "0          Storm Lake   50588  POINT (-95.186938 42.644563)          11.0  \n",
       "1          Storm Lake   50588  POINT (-95.186938 42.644563)          11.0  \n",
       "2          Storm Lake   50588  POINT (-95.186938 42.644563)          11.0  \n",
       "3          Storm Lake   50588  POINT (-95.186938 42.644563)          11.0  \n",
       "4          Storm Lake   50588  POINT (-95.186938 42.644563)          11.0  \n",
       "...               ...     ...                           ...           ...  \n",
       "3471757  Cedar Rapids   52404   POINT (-91.675979 41.88924)          57.0  \n",
       "3471758  Cedar Rapids   52404   POINT (-91.675979 41.88924)          57.0  \n",
       "3471759  Cedar Rapids   52404   POINT (-91.675979 41.88924)          57.0  \n",
       "3471760  Cedar Rapids   52404   POINT (-91.675979 41.88924)          57.0  \n",
       "3471761  Cedar Rapids   52404   POINT (-91.675979 41.88924)          57.0  \n",
       "\n",
       "[3471762 rows x 9 columns]"
      ]
     },
     "execution_count": 226,
     "metadata": {},
     "output_type": "execute_result"
    }
   ],
   "source": [
    "date_ddf"
   ]
  },
  {
   "cell_type": "code",
   "execution_count": 228,
   "id": "724ff000-5f6f-4b20-a960-f3abebeb6c2a",
   "metadata": {},
   "outputs": [
    {
     "data": {
      "text/html": [
       "<div>\n",
       "<style scoped>\n",
       "    .dataframe tbody tr th:only-of-type {\n",
       "        vertical-align: middle;\n",
       "    }\n",
       "\n",
       "    .dataframe tbody tr th {\n",
       "        vertical-align: top;\n",
       "    }\n",
       "\n",
       "    .dataframe thead th {\n",
       "        text-align: right;\n",
       "    }\n",
       "</style>\n",
       "<table border=\"1\" class=\"dataframe\">\n",
       "  <thead>\n",
       "    <tr style=\"text-align: right;\">\n",
       "      <th></th>\n",
       "      <th>index</th>\n",
       "      <th>StoreNumber</th>\n",
       "      <th>Date</th>\n",
       "      <th>StoreName</th>\n",
       "    </tr>\n",
       "  </thead>\n",
       "  <tbody>\n",
       "    <tr>\n",
       "      <th>0</th>\n",
       "      <td>554</td>\n",
       "      <td>5028</td>\n",
       "      <td>2015-11-10</td>\n",
       "      <td>Midtown Liquor</td>\n",
       "    </tr>\n",
       "    <tr>\n",
       "      <th>1</th>\n",
       "      <td>554</td>\n",
       "      <td>5028</td>\n",
       "      <td>2013-09-25</td>\n",
       "      <td>Midtown Liquor</td>\n",
       "    </tr>\n",
       "    <tr>\n",
       "      <th>2</th>\n",
       "      <td>554</td>\n",
       "      <td>5028</td>\n",
       "      <td>2012-08-14</td>\n",
       "      <td>Midtown Liquor</td>\n",
       "    </tr>\n",
       "    <tr>\n",
       "      <th>3</th>\n",
       "      <td>554</td>\n",
       "      <td>5028</td>\n",
       "      <td>2012-03-05</td>\n",
       "      <td>Midtown Liquor</td>\n",
       "    </tr>\n",
       "    <tr>\n",
       "      <th>4</th>\n",
       "      <td>554</td>\n",
       "      <td>5028</td>\n",
       "      <td>2013-03-28</td>\n",
       "      <td>Midtown Liquor</td>\n",
       "    </tr>\n",
       "    <tr>\n",
       "      <th>...</th>\n",
       "      <td>...</td>\n",
       "      <td>...</td>\n",
       "      <td>...</td>\n",
       "      <td>...</td>\n",
       "    </tr>\n",
       "    <tr>\n",
       "      <th>3471757</th>\n",
       "      <td>40501</td>\n",
       "      <td>5417</td>\n",
       "      <td>2013-02-26</td>\n",
       "      <td>Casey's General Store # 2792/Cedar Rapids</td>\n",
       "    </tr>\n",
       "    <tr>\n",
       "      <th>3471758</th>\n",
       "      <td>40501</td>\n",
       "      <td>5417</td>\n",
       "      <td>2013-10-28</td>\n",
       "      <td>Casey's General Store # 2792/Cedar Rapids</td>\n",
       "    </tr>\n",
       "    <tr>\n",
       "      <th>3471759</th>\n",
       "      <td>40501</td>\n",
       "      <td>5417</td>\n",
       "      <td>2012-02-29</td>\n",
       "      <td>Casey's General Store # 2792/Cedar Rapids</td>\n",
       "    </tr>\n",
       "    <tr>\n",
       "      <th>3471760</th>\n",
       "      <td>40501</td>\n",
       "      <td>5417</td>\n",
       "      <td>2012-11-12</td>\n",
       "      <td>Casey's General Store # 2792/Cedar Rapids</td>\n",
       "    </tr>\n",
       "    <tr>\n",
       "      <th>3471761</th>\n",
       "      <td>40501</td>\n",
       "      <td>5417</td>\n",
       "      <td>2013-09-09</td>\n",
       "      <td>Casey's General Store # 2792/Cedar Rapids</td>\n",
       "    </tr>\n",
       "  </tbody>\n",
       "</table>\n",
       "<p>3298180 rows × 4 columns</p>\n",
       "</div>"
      ],
      "text/plain": [
       "         index  StoreNumber       Date  \\\n",
       "0          554         5028 2015-11-10   \n",
       "1          554         5028 2013-09-25   \n",
       "2          554         5028 2012-08-14   \n",
       "3          554         5028 2012-03-05   \n",
       "4          554         5028 2013-03-28   \n",
       "...        ...          ...        ...   \n",
       "3471757  40501         5417 2013-02-26   \n",
       "3471758  40501         5417 2013-10-28   \n",
       "3471759  40501         5417 2012-02-29   \n",
       "3471760  40501         5417 2012-11-12   \n",
       "3471761  40501         5417 2013-09-09   \n",
       "\n",
       "                                         StoreName  \n",
       "0                                   Midtown Liquor  \n",
       "1                                   Midtown Liquor  \n",
       "2                                   Midtown Liquor  \n",
       "3                                   Midtown Liquor  \n",
       "4                                   Midtown Liquor  \n",
       "...                                            ...  \n",
       "3471757  Casey's General Store # 2792/Cedar Rapids  \n",
       "3471758  Casey's General Store # 2792/Cedar Rapids  \n",
       "3471759  Casey's General Store # 2792/Cedar Rapids  \n",
       "3471760  Casey's General Store # 2792/Cedar Rapids  \n",
       "3471761  Casey's General Store # 2792/Cedar Rapids  \n",
       "\n",
       "[3298180 rows x 4 columns]"
      ]
     },
     "execution_count": 228,
     "metadata": {},
     "output_type": "execute_result"
    }
   ],
   "source": [
    "date_ddf[['index', 'StoreNumber', 'Date', 'StoreName']]"
   ]
  },
  {
   "cell_type": "code",
   "execution_count": 234,
   "id": "65394137-435c-4d59-a611-b48ccda3ec92",
   "metadata": {},
   "outputs": [],
   "source": [
    "current_names = date_ddf.groupby(['StoreNumber', 'StoreName'])['Date'].agg(['max']).reset_index()"
   ]
  },
  {
   "cell_type": "code",
   "execution_count": 244,
   "id": "839fa75f-1c04-43d8-bd11-8678e72066c9",
   "metadata": {},
   "outputs": [
    {
     "data": {
      "text/html": [
       "<div>\n",
       "<style scoped>\n",
       "    .dataframe tbody tr th:only-of-type {\n",
       "        vertical-align: middle;\n",
       "    }\n",
       "\n",
       "    .dataframe tbody tr th {\n",
       "        vertical-align: top;\n",
       "    }\n",
       "\n",
       "    .dataframe thead th {\n",
       "        text-align: right;\n",
       "    }\n",
       "</style>\n",
       "<table border=\"1\" class=\"dataframe\">\n",
       "  <thead>\n",
       "    <tr style=\"text-align: right;\">\n",
       "      <th></th>\n",
       "      <th>StoreNumber</th>\n",
       "      <th>StoreName</th>\n",
       "      <th>max</th>\n",
       "    </tr>\n",
       "  </thead>\n",
       "  <tbody>\n",
       "    <tr>\n",
       "      <th>886</th>\n",
       "      <td>4378</td>\n",
       "      <td>KUM &amp; GO #95 / DE SOTO</td>\n",
       "      <td>2022-02-18</td>\n",
       "    </tr>\n",
       "    <tr>\n",
       "      <th>887</th>\n",
       "      <td>4378</td>\n",
       "      <td>Kum &amp; Go #1202</td>\n",
       "      <td>2022-02-23</td>\n",
       "    </tr>\n",
       "    <tr>\n",
       "      <th>888</th>\n",
       "      <td>4378</td>\n",
       "      <td>Kum &amp; Go #1202 / Waukee</td>\n",
       "      <td>2022-02-26</td>\n",
       "    </tr>\n",
       "    <tr>\n",
       "      <th>889</th>\n",
       "      <td>4378</td>\n",
       "      <td>Kum &amp; Go #202 / 4th St Waukee</td>\n",
       "      <td>2022-02-25</td>\n",
       "    </tr>\n",
       "  </tbody>\n",
       "</table>\n",
       "</div>"
      ],
      "text/plain": [
       "     StoreNumber                      StoreName        max\n",
       "886         4378         KUM & GO #95 / DE SOTO 2022-02-18\n",
       "887         4378                 Kum & Go #1202 2022-02-23\n",
       "888         4378        Kum & Go #1202 / Waukee 2022-02-26\n",
       "889         4378  Kum & Go #202 / 4th St Waukee 2022-02-25"
      ]
     },
     "execution_count": 244,
     "metadata": {},
     "output_type": "execute_result"
    }
   ],
   "source": [
    "current_names[current_names.StoreNumber == 4378]"
   ]
  },
  {
   "cell_type": "code",
   "execution_count": 251,
   "id": "19a5c899-edcb-4645-8e8a-6ddf9ccdf967",
   "metadata": {},
   "outputs": [],
   "source": [
    "sub_df = date_ddf[date_ddf.StoreNumber == 4378].dropna()"
   ]
  },
  {
   "cell_type": "code",
   "execution_count": 256,
   "id": "cfca5af6-47ad-4d2f-aae2-f83c2bc5d700",
   "metadata": {},
   "outputs": [
    {
     "data": {
      "text/plain": [
       "index                                    5782\n",
       "Date                      2022-02-26 00:00:00\n",
       "StoreNumber                              4378\n",
       "StoreName             Kum & Go #1202 / Waukee\n",
       "Address                      650 W Hickman Rd\n",
       "City                                   Waukee\n",
       "ZipCode                                 50263\n",
       "StoreLocation    POINT (-93.886466 41.614921)\n",
       "CountyNumber                             25.0\n",
       "Name: 990713, dtype: object"
      ]
     },
     "execution_count": 256,
     "metadata": {},
     "output_type": "execute_result"
    }
   ],
   "source": [
    "sub_df.sort_values('Date', ascending = False).iloc[0]"
   ]
  },
  {
   "cell_type": "code",
   "execution_count": 261,
   "id": "54487772-0b43-407e-a5cd-6ee1c4822f13",
   "metadata": {},
   "outputs": [
    {
     "data": {
      "text/html": [
       "<div>\n",
       "<style scoped>\n",
       "    .dataframe tbody tr th:only-of-type {\n",
       "        vertical-align: middle;\n",
       "    }\n",
       "\n",
       "    .dataframe tbody tr th {\n",
       "        vertical-align: top;\n",
       "    }\n",
       "\n",
       "    .dataframe thead th {\n",
       "        text-align: right;\n",
       "    }\n",
       "</style>\n",
       "<table border=\"1\" class=\"dataframe\">\n",
       "  <thead>\n",
       "    <tr style=\"text-align: right;\">\n",
       "      <th></th>\n",
       "      <th>index</th>\n",
       "      <th>Date</th>\n",
       "      <th>StoreNumber</th>\n",
       "      <th>StoreName</th>\n",
       "      <th>Address</th>\n",
       "      <th>City</th>\n",
       "      <th>ZipCode</th>\n",
       "      <th>StoreLocation</th>\n",
       "      <th>CountyNumber</th>\n",
       "    </tr>\n",
       "  </thead>\n",
       "  <tbody>\n",
       "    <tr>\n",
       "      <th>3396</th>\n",
       "      <td>8701</td>\n",
       "      <td>2013-07-15</td>\n",
       "      <td>4776</td>\n",
       "      <td>The Market on 30 / Carroll</td>\n",
       "      <td>420 WEST HWY 30</td>\n",
       "      <td>CARROLL</td>\n",
       "      <td>51401</td>\n",
       "      <td>None</td>\n",
       "      <td>14.0</td>\n",
       "    </tr>\n",
       "    <tr>\n",
       "      <th>3397</th>\n",
       "      <td>8701</td>\n",
       "      <td>2014-03-24</td>\n",
       "      <td>4776</td>\n",
       "      <td>The Market on 30 / Carroll</td>\n",
       "      <td>420 WEST HWY 30</td>\n",
       "      <td>CARROLL</td>\n",
       "      <td>51401</td>\n",
       "      <td>None</td>\n",
       "      <td>14.0</td>\n",
       "    </tr>\n",
       "    <tr>\n",
       "      <th>3398</th>\n",
       "      <td>8701</td>\n",
       "      <td>2013-07-25</td>\n",
       "      <td>4776</td>\n",
       "      <td>The Market on 30 / Carroll</td>\n",
       "      <td>420 WEST HWY 30</td>\n",
       "      <td>CARROLL</td>\n",
       "      <td>51401</td>\n",
       "      <td>None</td>\n",
       "      <td>14.0</td>\n",
       "    </tr>\n",
       "    <tr>\n",
       "      <th>3399</th>\n",
       "      <td>8701</td>\n",
       "      <td>2015-06-22</td>\n",
       "      <td>4776</td>\n",
       "      <td>The Market on 30 / Carroll</td>\n",
       "      <td>420 WEST HWY 30</td>\n",
       "      <td>CARROLL</td>\n",
       "      <td>51401</td>\n",
       "      <td>None</td>\n",
       "      <td>14.0</td>\n",
       "    </tr>\n",
       "    <tr>\n",
       "      <th>3400</th>\n",
       "      <td>8701</td>\n",
       "      <td>2013-07-10</td>\n",
       "      <td>4776</td>\n",
       "      <td>The Market on 30 / Carroll</td>\n",
       "      <td>420 WEST HWY 30</td>\n",
       "      <td>CARROLL</td>\n",
       "      <td>51401</td>\n",
       "      <td>None</td>\n",
       "      <td>14.0</td>\n",
       "    </tr>\n",
       "    <tr>\n",
       "      <th>...</th>\n",
       "      <td>...</td>\n",
       "      <td>...</td>\n",
       "      <td>...</td>\n",
       "      <td>...</td>\n",
       "      <td>...</td>\n",
       "      <td>...</td>\n",
       "      <td>...</td>\n",
       "      <td>...</td>\n",
       "      <td>...</td>\n",
       "    </tr>\n",
       "    <tr>\n",
       "      <th>3957</th>\n",
       "      <td>8701</td>\n",
       "      <td>2012-04-18</td>\n",
       "      <td>4776</td>\n",
       "      <td>The Market on 30 / Carroll</td>\n",
       "      <td>420 WEST HWY 30</td>\n",
       "      <td>CARROLL</td>\n",
       "      <td>51401</td>\n",
       "      <td>None</td>\n",
       "      <td>14.0</td>\n",
       "    </tr>\n",
       "    <tr>\n",
       "      <th>3958</th>\n",
       "      <td>8701</td>\n",
       "      <td>2015-10-28</td>\n",
       "      <td>4776</td>\n",
       "      <td>The Market on 30 / Carroll</td>\n",
       "      <td>420 WEST HWY 30</td>\n",
       "      <td>CARROLL</td>\n",
       "      <td>51401</td>\n",
       "      <td>None</td>\n",
       "      <td>14.0</td>\n",
       "    </tr>\n",
       "    <tr>\n",
       "      <th>3959</th>\n",
       "      <td>8701</td>\n",
       "      <td>2012-10-22</td>\n",
       "      <td>4776</td>\n",
       "      <td>The Market on 30 / Carroll</td>\n",
       "      <td>420 WEST HWY 30</td>\n",
       "      <td>CARROLL</td>\n",
       "      <td>51401</td>\n",
       "      <td>None</td>\n",
       "      <td>14.0</td>\n",
       "    </tr>\n",
       "    <tr>\n",
       "      <th>3960</th>\n",
       "      <td>8701</td>\n",
       "      <td>2013-03-19</td>\n",
       "      <td>4776</td>\n",
       "      <td>The Market on 30 / Carroll</td>\n",
       "      <td>420 WEST HWY 30</td>\n",
       "      <td>CARROLL</td>\n",
       "      <td>51401</td>\n",
       "      <td>None</td>\n",
       "      <td>14.0</td>\n",
       "    </tr>\n",
       "    <tr>\n",
       "      <th>3961</th>\n",
       "      <td>8701</td>\n",
       "      <td>2012-10-04</td>\n",
       "      <td>4776</td>\n",
       "      <td>The Market on 30 / Carroll</td>\n",
       "      <td>420 WEST HWY 30</td>\n",
       "      <td>CARROLL</td>\n",
       "      <td>51401</td>\n",
       "      <td>None</td>\n",
       "      <td>14.0</td>\n",
       "    </tr>\n",
       "  </tbody>\n",
       "</table>\n",
       "<p>566 rows × 9 columns</p>\n",
       "</div>"
      ],
      "text/plain": [
       "      index       Date  StoreNumber                   StoreName  \\\n",
       "3396   8701 2013-07-15         4776  The Market on 30 / Carroll   \n",
       "3397   8701 2014-03-24         4776  The Market on 30 / Carroll   \n",
       "3398   8701 2013-07-25         4776  The Market on 30 / Carroll   \n",
       "3399   8701 2015-06-22         4776  The Market on 30 / Carroll   \n",
       "3400   8701 2013-07-10         4776  The Market on 30 / Carroll   \n",
       "...     ...        ...          ...                         ...   \n",
       "3957   8701 2012-04-18         4776  The Market on 30 / Carroll   \n",
       "3958   8701 2015-10-28         4776  The Market on 30 / Carroll   \n",
       "3959   8701 2012-10-22         4776  The Market on 30 / Carroll   \n",
       "3960   8701 2013-03-19         4776  The Market on 30 / Carroll   \n",
       "3961   8701 2012-10-04         4776  The Market on 30 / Carroll   \n",
       "\n",
       "              Address     City ZipCode StoreLocation  CountyNumber  \n",
       "3396  420 WEST HWY 30  CARROLL   51401          None          14.0  \n",
       "3397  420 WEST HWY 30  CARROLL   51401          None          14.0  \n",
       "3398  420 WEST HWY 30  CARROLL   51401          None          14.0  \n",
       "3399  420 WEST HWY 30  CARROLL   51401          None          14.0  \n",
       "3400  420 WEST HWY 30  CARROLL   51401          None          14.0  \n",
       "...               ...      ...     ...           ...           ...  \n",
       "3957  420 WEST HWY 30  CARROLL   51401          None          14.0  \n",
       "3958  420 WEST HWY 30  CARROLL   51401          None          14.0  \n",
       "3959  420 WEST HWY 30  CARROLL   51401          None          14.0  \n",
       "3960  420 WEST HWY 30  CARROLL   51401          None          14.0  \n",
       "3961  420 WEST HWY 30  CARROLL   51401          None          14.0  \n",
       "\n",
       "[566 rows x 9 columns]"
      ]
     },
     "execution_count": 261,
     "metadata": {},
     "output_type": "execute_result"
    }
   ],
   "source": [
    "date_ddf[date_ddf.StoreNumber == 4776]"
   ]
  },
  {
   "cell_type": "code",
   "execution_count": 267,
   "id": "6357803b-5cce-4a97-8b0f-4257f1a6e03c",
   "metadata": {
    "tags": []
   },
   "outputs": [],
   "source": [
    "dump = pd.DataFrame()\n",
    "\n",
    "for storeIdx in date_ddf.StoreNumber.unique():\n",
    "    #print(storeIdx)\n",
    "    sub_df = date_ddf[date_ddf.StoreNumber == storeIdx].dropna()\n",
    "    \n",
    "    if sub_df.shape[0] == 0:\n",
    "        sub_df = date_ddf[date_ddf.StoreNumber == storeIdx].dropna(how='all')\n",
    "    \n",
    "    row = sub_df.sort_values('Date', ascending = False).iloc[0]\n",
    "    \n",
    "    dump = dump.append(row)"
   ]
  },
  {
   "cell_type": "code",
   "execution_count": 269,
   "id": "37bbdd2b-028e-4154-993e-2ed8d7831558",
   "metadata": {},
   "outputs": [],
   "source": [
    "dump.to_csv('store_data.csv')"
   ]
  },
  {
   "cell_type": "code",
   "execution_count": 277,
   "id": "f49b62e7-da3e-47d5-aa7c-26c307b7f633",
   "metadata": {},
   "outputs": [
    {
     "data": {
      "text/html": [
       "<div>\n",
       "<style scoped>\n",
       "    .dataframe tbody tr th:only-of-type {\n",
       "        vertical-align: middle;\n",
       "    }\n",
       "\n",
       "    .dataframe tbody tr th {\n",
       "        vertical-align: top;\n",
       "    }\n",
       "\n",
       "    .dataframe thead th {\n",
       "        text-align: right;\n",
       "    }\n",
       "</style>\n",
       "<table border=\"1\" class=\"dataframe\">\n",
       "  <thead>\n",
       "    <tr style=\"text-align: right;\">\n",
       "      <th></th>\n",
       "      <th>index</th>\n",
       "      <th>Date</th>\n",
       "      <th>StoreNumber</th>\n",
       "      <th>StoreName</th>\n",
       "      <th>Address</th>\n",
       "      <th>City</th>\n",
       "      <th>ZipCode</th>\n",
       "      <th>StoreLocation</th>\n",
       "      <th>CountyNumber</th>\n",
       "    </tr>\n",
       "  </thead>\n",
       "  <tbody>\n",
       "    <tr>\n",
       "      <th>2864239</th>\n",
       "      <td>31325.0</td>\n",
       "      <td>2022-02-27</td>\n",
       "      <td>5028.0</td>\n",
       "      <td>Midtown Liquor</td>\n",
       "      <td>1100, E 5TH ST</td>\n",
       "      <td>STORM LAKE</td>\n",
       "      <td>50588</td>\n",
       "      <td>POINT (-95.186938 42.644563)</td>\n",
       "      <td>11.0</td>\n",
       "    </tr>\n",
       "    <tr>\n",
       "      <th>2150651</th>\n",
       "      <td>9463.0</td>\n",
       "      <td>2022-02-28</td>\n",
       "      <td>4924.0</td>\n",
       "      <td>Abby Lea's</td>\n",
       "      <td>2757 Charles City Rd</td>\n",
       "      <td>Nashua</td>\n",
       "      <td>50658</td>\n",
       "      <td>POINT (-92.547524 42.959023)</td>\n",
       "      <td>19.0</td>\n",
       "    </tr>\n",
       "    <tr>\n",
       "      <th>2430005</th>\n",
       "      <td>31764.0</td>\n",
       "      <td>2022-02-28</td>\n",
       "      <td>2844.0</td>\n",
       "      <td>CVS Pharmacy #8547 / Iowa City</td>\n",
       "      <td>2425 Muscatine Ave</td>\n",
       "      <td>Iowa City</td>\n",
       "      <td>52240</td>\n",
       "      <td>POINT (-91.50008800000002 41.649547)</td>\n",
       "      <td>52.0</td>\n",
       "    </tr>\n",
       "    <tr>\n",
       "      <th>1857587</th>\n",
       "      <td>10068.0</td>\n",
       "      <td>2022-02-28</td>\n",
       "      <td>4320.0</td>\n",
       "      <td>Fareway Stores #470 / Perry</td>\n",
       "      <td>1315 Willis Ave</td>\n",
       "      <td>Perry</td>\n",
       "      <td>50220</td>\n",
       "      <td>POINT (-94.103123 41.838522)</td>\n",
       "      <td>8.0</td>\n",
       "    </tr>\n",
       "    <tr>\n",
       "      <th>2501889</th>\n",
       "      <td>1764.0</td>\n",
       "      <td>2022-02-28</td>\n",
       "      <td>4267.0</td>\n",
       "      <td>Main Street Market Of Anita</td>\n",
       "      <td>735 Main St</td>\n",
       "      <td>Anita</td>\n",
       "      <td>50020</td>\n",
       "      <td>POINT (-94.765439 41.444849)</td>\n",
       "      <td>15.0</td>\n",
       "    </tr>\n",
       "    <tr>\n",
       "      <th>...</th>\n",
       "      <td>...</td>\n",
       "      <td>...</td>\n",
       "      <td>...</td>\n",
       "      <td>...</td>\n",
       "      <td>...</td>\n",
       "      <td>...</td>\n",
       "      <td>...</td>\n",
       "      <td>...</td>\n",
       "      <td>...</td>\n",
       "    </tr>\n",
       "    <tr>\n",
       "      <th>3432484</th>\n",
       "      <td>6840.0</td>\n",
       "      <td>2022-02-28</td>\n",
       "      <td>9934.0</td>\n",
       "      <td>Cats Eye Distillery, LLC</td>\n",
       "      <td>4860 Heatherstone Rd.</td>\n",
       "      <td>Bettendorf</td>\n",
       "      <td>52722</td>\n",
       "      <td>POINT (-90.455001 41.571059)</td>\n",
       "      <td>82.0</td>\n",
       "    </tr>\n",
       "    <tr>\n",
       "      <th>3443802</th>\n",
       "      <td>29564.0</td>\n",
       "      <td>2022-02-22</td>\n",
       "      <td>5258.0</td>\n",
       "      <td>Oky Doky # 8 Foods</td>\n",
       "      <td>535, Hill Street</td>\n",
       "      <td>Dubuque</td>\n",
       "      <td>52001</td>\n",
       "      <td>POINT (-90.673985 42.496794)</td>\n",
       "      <td>31.0</td>\n",
       "    </tr>\n",
       "    <tr>\n",
       "      <th>3444936</th>\n",
       "      <td>175.0</td>\n",
       "      <td>2022-02-25</td>\n",
       "      <td>4038.0</td>\n",
       "      <td>No Frills Supermarkets / Denison</td>\n",
       "      <td>501 HIGHWAY 39 NORTH</td>\n",
       "      <td>DENISON</td>\n",
       "      <td>51442</td>\n",
       "      <td>POINT (-95.368652 42.02183)</td>\n",
       "      <td>24.0</td>\n",
       "    </tr>\n",
       "    <tr>\n",
       "      <th>3454533</th>\n",
       "      <td>34445.0</td>\n",
       "      <td>2022-02-25</td>\n",
       "      <td>6233.0</td>\n",
       "      <td>Quick Stop / Cedar Rapids</td>\n",
       "      <td>1430 1st Ave NE</td>\n",
       "      <td>Cedar Rapids</td>\n",
       "      <td>52402</td>\n",
       "      <td>POINT (-91.652696 41.987875)</td>\n",
       "      <td>57.0</td>\n",
       "    </tr>\n",
       "    <tr>\n",
       "      <th>3470932</th>\n",
       "      <td>38384.0</td>\n",
       "      <td>2022-02-25</td>\n",
       "      <td>5986.0</td>\n",
       "      <td>Casey's General Store #2366 / Oskaloosa</td>\n",
       "      <td>1809 9th Ave E</td>\n",
       "      <td>Oskaloosa</td>\n",
       "      <td>52577</td>\n",
       "      <td>POINT (-92.623028 41.287177)</td>\n",
       "      <td>62.0</td>\n",
       "    </tr>\n",
       "  </tbody>\n",
       "</table>\n",
       "<p>2700 rows × 9 columns</p>\n",
       "</div>"
      ],
      "text/plain": [
       "           index       Date  StoreNumber  \\\n",
       "2864239  31325.0 2022-02-27       5028.0   \n",
       "2150651   9463.0 2022-02-28       4924.0   \n",
       "2430005  31764.0 2022-02-28       2844.0   \n",
       "1857587  10068.0 2022-02-28       4320.0   \n",
       "2501889   1764.0 2022-02-28       4267.0   \n",
       "...          ...        ...          ...   \n",
       "3432484   6840.0 2022-02-28       9934.0   \n",
       "3443802  29564.0 2022-02-22       5258.0   \n",
       "3444936    175.0 2022-02-25       4038.0   \n",
       "3454533  34445.0 2022-02-25       6233.0   \n",
       "3470932  38384.0 2022-02-25       5986.0   \n",
       "\n",
       "                                       StoreName                Address  \\\n",
       "2864239                           Midtown Liquor         1100, E 5TH ST   \n",
       "2150651                               Abby Lea's   2757 Charles City Rd   \n",
       "2430005           CVS Pharmacy #8547 / Iowa City     2425 Muscatine Ave   \n",
       "1857587              Fareway Stores #470 / Perry        1315 Willis Ave   \n",
       "2501889              Main Street Market Of Anita            735 Main St   \n",
       "...                                          ...                    ...   \n",
       "3432484                 Cats Eye Distillery, LLC  4860 Heatherstone Rd.   \n",
       "3443802                       Oky Doky # 8 Foods       535, Hill Street   \n",
       "3444936         No Frills Supermarkets / Denison   501 HIGHWAY 39 NORTH   \n",
       "3454533                Quick Stop / Cedar Rapids        1430 1st Ave NE   \n",
       "3470932  Casey's General Store #2366 / Oskaloosa         1809 9th Ave E   \n",
       "\n",
       "                 City ZipCode                         StoreLocation  \\\n",
       "2864239    STORM LAKE   50588          POINT (-95.186938 42.644563)   \n",
       "2150651        Nashua   50658          POINT (-92.547524 42.959023)   \n",
       "2430005     Iowa City   52240  POINT (-91.50008800000002 41.649547)   \n",
       "1857587         Perry   50220          POINT (-94.103123 41.838522)   \n",
       "2501889         Anita   50020          POINT (-94.765439 41.444849)   \n",
       "...               ...     ...                                   ...   \n",
       "3432484    Bettendorf   52722          POINT (-90.455001 41.571059)   \n",
       "3443802       Dubuque   52001          POINT (-90.673985 42.496794)   \n",
       "3444936       DENISON   51442           POINT (-95.368652 42.02183)   \n",
       "3454533  Cedar Rapids   52402          POINT (-91.652696 41.987875)   \n",
       "3470932     Oskaloosa   52577          POINT (-92.623028 41.287177)   \n",
       "\n",
       "         CountyNumber  \n",
       "2864239          11.0  \n",
       "2150651          19.0  \n",
       "2430005          52.0  \n",
       "1857587           8.0  \n",
       "2501889          15.0  \n",
       "...               ...  \n",
       "3432484          82.0  \n",
       "3443802          31.0  \n",
       "3444936          24.0  \n",
       "3454533          57.0  \n",
       "3470932          62.0  \n",
       "\n",
       "[2700 rows x 9 columns]"
      ]
     },
     "execution_count": 277,
     "metadata": {},
     "output_type": "execute_result"
    }
   ],
   "source": [
    "dump[~(dump['StoreLocation'].isna() & dump['Address'].isna())]"
   ]
  },
  {
   "cell_type": "code",
   "execution_count": 275,
   "id": "0d2eafc0-2573-4b92-b3e7-fb254724db0e",
   "metadata": {},
   "outputs": [
    {
     "data": {
      "text/html": [
       "<div>\n",
       "<style scoped>\n",
       "    .dataframe tbody tr th:only-of-type {\n",
       "        vertical-align: middle;\n",
       "    }\n",
       "\n",
       "    .dataframe tbody tr th {\n",
       "        vertical-align: top;\n",
       "    }\n",
       "\n",
       "    .dataframe thead th {\n",
       "        text-align: right;\n",
       "    }\n",
       "</style>\n",
       "<table border=\"1\" class=\"dataframe\">\n",
       "  <thead>\n",
       "    <tr style=\"text-align: right;\">\n",
       "      <th></th>\n",
       "      <th>index</th>\n",
       "      <th>Date</th>\n",
       "      <th>StoreNumber</th>\n",
       "      <th>StoreName</th>\n",
       "      <th>Address</th>\n",
       "      <th>City</th>\n",
       "      <th>ZipCode</th>\n",
       "      <th>StoreLocation</th>\n",
       "      <th>CountyNumber</th>\n",
       "    </tr>\n",
       "  </thead>\n",
       "  <tbody>\n",
       "    <tr>\n",
       "      <th>31963</th>\n",
       "      <td>36118.0</td>\n",
       "      <td>2022-02-24</td>\n",
       "      <td>5320.0</td>\n",
       "      <td>Central Grocery</td>\n",
       "      <td>None</td>\n",
       "      <td>None</td>\n",
       "      <td>None</td>\n",
       "      <td>None</td>\n",
       "      <td>NaN</td>\n",
       "    </tr>\n",
       "  </tbody>\n",
       "</table>\n",
       "</div>"
      ],
      "text/plain": [
       "         index       Date  StoreNumber        StoreName Address  City ZipCode  \\\n",
       "31963  36118.0 2022-02-24       5320.0  Central Grocery    None  None    None   \n",
       "\n",
       "      StoreLocation  CountyNumber  \n",
       "31963          None           NaN  "
      ]
     },
     "execution_count": 275,
     "metadata": {},
     "output_type": "execute_result"
    }
   ],
   "source": [
    "dump[dump.StoreName == 'Central Grocery']"
   ]
  },
  {
   "cell_type": "code",
   "execution_count": 278,
   "id": "165ea515-e1e2-47ab-9945-2e18085c0319",
   "metadata": {},
   "outputs": [],
   "source": [
    "dump = dump[~(dump['StoreLocation'].isna() & dump['Address'].isna())]"
   ]
  },
  {
   "cell_type": "code",
   "execution_count": 372,
   "id": "b0e10965-28b0-4989-8c58-f6d33e81a071",
   "metadata": {},
   "outputs": [
    {
     "data": {
      "text/html": [
       "<div>\n",
       "<style scoped>\n",
       "    .dataframe tbody tr th:only-of-type {\n",
       "        vertical-align: middle;\n",
       "    }\n",
       "\n",
       "    .dataframe tbody tr th {\n",
       "        vertical-align: top;\n",
       "    }\n",
       "\n",
       "    .dataframe thead th {\n",
       "        text-align: right;\n",
       "    }\n",
       "</style>\n",
       "<table border=\"1\" class=\"dataframe\">\n",
       "  <thead>\n",
       "    <tr style=\"text-align: right;\">\n",
       "      <th></th>\n",
       "      <th>index</th>\n",
       "      <th>Date</th>\n",
       "      <th>StoreNumber</th>\n",
       "      <th>StoreName</th>\n",
       "      <th>Address</th>\n",
       "      <th>City</th>\n",
       "      <th>ZipCode</th>\n",
       "      <th>StoreLocation</th>\n",
       "      <th>CountyNumber</th>\n",
       "    </tr>\n",
       "  </thead>\n",
       "  <tbody>\n",
       "  </tbody>\n",
       "</table>\n",
       "</div>"
      ],
      "text/plain": [
       "Empty DataFrame\n",
       "Columns: [index, Date, StoreNumber, StoreName, Address, City, ZipCode, StoreLocation, CountyNumber]\n",
       "Index: []"
      ]
     },
     "execution_count": 372,
     "metadata": {},
     "output_type": "execute_result"
    }
   ],
   "source": [
    "dump[dump.CountyNumber.isna()]"
   ]
  },
  {
   "cell_type": "code",
   "execution_count": 377,
   "id": "5a24e5bc-0685-4366-a9c6-9e12adc0ee80",
   "metadata": {},
   "outputs": [],
   "source": [
    "dump.loc[:, 'StoreLocation'] = dump.StoreLocation.fillna(\"TBD\")"
   ]
  },
  {
   "cell_type": "markdown",
   "id": "8e2d954a-2d9b-411d-9f6c-172dd4f0870c",
   "metadata": {},
   "source": [
    "## manual cleaning stuff"
   ]
  },
  {
   "cell_type": "markdown",
   "id": "7a541db3-6676-4c29-aaf0-7b6e65cf0a29",
   "metadata": {},
   "source": [
    "This section takes a while, you are just shuffling data around and checking via the internet if places exist or not."
   ]
  },
  {
   "cell_type": "code",
   "execution_count": 371,
   "id": "51739d90-73a0-4dd1-a939-d5e004cec45b",
   "metadata": {},
   "outputs": [
    {
     "data": {
      "text/html": [
       "<div>\n",
       "<style scoped>\n",
       "    .dataframe tbody tr th:only-of-type {\n",
       "        vertical-align: middle;\n",
       "    }\n",
       "\n",
       "    .dataframe tbody tr th {\n",
       "        vertical-align: top;\n",
       "    }\n",
       "\n",
       "    .dataframe thead th {\n",
       "        text-align: right;\n",
       "    }\n",
       "</style>\n",
       "<table border=\"1\" class=\"dataframe\">\n",
       "  <thead>\n",
       "    <tr style=\"text-align: right;\">\n",
       "      <th></th>\n",
       "      <th>index</th>\n",
       "      <th>Date</th>\n",
       "      <th>StoreNumber</th>\n",
       "      <th>StoreName</th>\n",
       "      <th>Address</th>\n",
       "      <th>City</th>\n",
       "      <th>ZipCode</th>\n",
       "      <th>StoreLocation</th>\n",
       "      <th>CountyNumber</th>\n",
       "    </tr>\n",
       "  </thead>\n",
       "  <tbody>\n",
       "  </tbody>\n",
       "</table>\n",
       "</div>"
      ],
      "text/plain": [
       "Empty DataFrame\n",
       "Columns: [index, Date, StoreNumber, StoreName, Address, City, ZipCode, StoreLocation, CountyNumber]\n",
       "Index: []"
      ]
     },
     "execution_count": 371,
     "metadata": {},
     "output_type": "execute_result"
    }
   ],
   "source": [
    "dump[dump.StoreNumber == 9936]"
   ]
  },
  {
   "cell_type": "code",
   "execution_count": 370,
   "id": "64697845-4463-4a0f-aaad-80aa694a183a",
   "metadata": {},
   "outputs": [],
   "source": [
    "# Dash Events LLC is in Colorado Springs, not Iowa\n",
    "dump = dump.drop(2704521)"
   ]
  },
  {
   "cell_type": "code",
   "execution_count": 364,
   "id": "4f977e0f-3acd-4c70-ab81-91cd9e3c2a30",
   "metadata": {},
   "outputs": [
    {
     "name": "stderr",
     "output_type": "stream",
     "text": [
      "/Library/Frameworks/Python.framework/Versions/3.9/lib/python3.9/site-packages/pandas/core/indexing.py:1817: SettingWithCopyWarning: \n",
      "A value is trying to be set on a copy of a slice from a DataFrame.\n",
      "Try using .loc[row_indexer,col_indexer] = value instead\n",
      "\n",
      "See the caveats in the documentation: https://pandas.pydata.org/pandas-docs/stable/user_guide/indexing.html#returning-a-view-versus-a-copy\n",
      "  self._setitem_single_column(loc, value, pi)\n"
     ]
    }
   ],
   "source": [
    "# Liquor Tobacco & Grocery / Mason Cit\n",
    "dump.loc[2673960,'CountyNumber'] = 17"
   ]
  },
  {
   "cell_type": "code",
   "execution_count": 367,
   "id": "7b3c4b24-30d7-4ca6-b9a7-f010aab82816",
   "metadata": {},
   "outputs": [
    {
     "data": {
      "text/html": [
       "<div>\n",
       "<style scoped>\n",
       "    .dataframe tbody tr th:only-of-type {\n",
       "        vertical-align: middle;\n",
       "    }\n",
       "\n",
       "    .dataframe tbody tr th {\n",
       "        vertical-align: top;\n",
       "    }\n",
       "\n",
       "    .dataframe thead th {\n",
       "        text-align: right;\n",
       "    }\n",
       "</style>\n",
       "<table border=\"1\" class=\"dataframe\">\n",
       "  <thead>\n",
       "    <tr style=\"text-align: right;\">\n",
       "      <th></th>\n",
       "      <th>index</th>\n",
       "      <th>Date</th>\n",
       "      <th>StoreNumber</th>\n",
       "      <th>StoreName</th>\n",
       "      <th>Address</th>\n",
       "      <th>City</th>\n",
       "      <th>ZipCode</th>\n",
       "      <th>StoreLocation</th>\n",
       "      <th>CountyNumber</th>\n",
       "    </tr>\n",
       "  </thead>\n",
       "  <tbody>\n",
       "    <tr>\n",
       "      <th>2704521</th>\n",
       "      <td>15387.0</td>\n",
       "      <td>2022-02-22</td>\n",
       "      <td>9936</td>\n",
       "      <td>Dash Events LLC</td>\n",
       "      <td>1685 W Uintah St. #101</td>\n",
       "      <td>Colorado Springs</td>\n",
       "      <td>80904</td>\n",
       "      <td>POINT (-104.845334 38.848017)</td>\n",
       "      <td>NaN</td>\n",
       "    </tr>\n",
       "  </tbody>\n",
       "</table>\n",
       "</div>"
      ],
      "text/plain": [
       "           index       Date  StoreNumber        StoreName  \\\n",
       "2704521  15387.0 2022-02-22         9936  Dash Events LLC   \n",
       "\n",
       "                        Address              City ZipCode  \\\n",
       "2704521  1685 W Uintah St. #101  Colorado Springs   80904   \n",
       "\n",
       "                         StoreLocation  CountyNumber  \n",
       "2704521  POINT (-104.845334 38.848017)           NaN  "
      ]
     },
     "execution_count": 367,
     "metadata": {},
     "output_type": "execute_result"
    }
   ],
   "source": [
    "dump[dump.City == 'Colorado Springs']"
   ]
  },
  {
   "cell_type": "code",
   "execution_count": 366,
   "id": "ecb62b5d-d06f-4d45-a7bb-885a2424a8c1",
   "metadata": {},
   "outputs": [
    {
     "data": {
      "text/html": [
       "<div>\n",
       "<style scoped>\n",
       "    .dataframe tbody tr th:only-of-type {\n",
       "        vertical-align: middle;\n",
       "    }\n",
       "\n",
       "    .dataframe tbody tr th {\n",
       "        vertical-align: top;\n",
       "    }\n",
       "\n",
       "    .dataframe thead th {\n",
       "        text-align: right;\n",
       "    }\n",
       "</style>\n",
       "<table border=\"1\" class=\"dataframe\">\n",
       "  <thead>\n",
       "    <tr style=\"text-align: right;\">\n",
       "      <th></th>\n",
       "      <th>index</th>\n",
       "      <th>Date</th>\n",
       "      <th>StoreNumber</th>\n",
       "      <th>StoreName</th>\n",
       "      <th>Address</th>\n",
       "      <th>City</th>\n",
       "      <th>ZipCode</th>\n",
       "      <th>StoreLocation</th>\n",
       "      <th>CountyNumber</th>\n",
       "    </tr>\n",
       "  </thead>\n",
       "  <tbody>\n",
       "    <tr>\n",
       "      <th>2704521</th>\n",
       "      <td>15387.0</td>\n",
       "      <td>2022-02-22</td>\n",
       "      <td>9936</td>\n",
       "      <td>Dash Events LLC</td>\n",
       "      <td>1685 W Uintah St. #101</td>\n",
       "      <td>Colorado Springs</td>\n",
       "      <td>80904</td>\n",
       "      <td>POINT (-104.845334 38.848017)</td>\n",
       "      <td>NaN</td>\n",
       "    </tr>\n",
       "  </tbody>\n",
       "</table>\n",
       "</div>"
      ],
      "text/plain": [
       "           index       Date  StoreNumber        StoreName  \\\n",
       "2704521  15387.0 2022-02-22         9936  Dash Events LLC   \n",
       "\n",
       "                        Address              City ZipCode  \\\n",
       "2704521  1685 W Uintah St. #101  Colorado Springs   80904   \n",
       "\n",
       "                         StoreLocation  CountyNumber  \n",
       "2704521  POINT (-104.845334 38.848017)           NaN  "
      ]
     },
     "execution_count": 366,
     "metadata": {},
     "output_type": "execute_result"
    }
   ],
   "source": [
    "dump[dump.ZipCode == '80904']"
   ]
  },
  {
   "cell_type": "code",
   "execution_count": 355,
   "id": "16871584-a66a-4e58-b790-1f112d1c7ef6",
   "metadata": {},
   "outputs": [
    {
     "name": "stderr",
     "output_type": "stream",
     "text": [
      "/Library/Frameworks/Python.framework/Versions/3.9/lib/python3.9/site-packages/pandas/core/indexing.py:1817: SettingWithCopyWarning: \n",
      "A value is trying to be set on a copy of a slice from a DataFrame.\n",
      "Try using .loc[row_indexer,col_indexer] = value instead\n",
      "\n",
      "See the caveats in the documentation: https://pandas.pydata.org/pandas-docs/stable/user_guide/indexing.html#returning-a-view-versus-a-copy\n",
      "  self._setitem_single_column(loc, value, pi)\n"
     ]
    }
   ],
   "source": [
    "# Station Mart Liquor & Tobacco\n",
    "dump.loc[2725465, 'CountyNumber'] = 7\n",
    "dump.loc[2725465, 'Address'] = '3594 Lafayette Road'\n",
    "dump.loc[2725465, 'StoreLocation'] = 'POINT (-92.287994 42.47724500000001)'"
   ]
  },
  {
   "cell_type": "code",
   "execution_count": 359,
   "id": "458f91ea-ec33-4a14-8a3a-4d1c9032022d",
   "metadata": {},
   "outputs": [
    {
     "name": "stderr",
     "output_type": "stream",
     "text": [
      "/Library/Frameworks/Python.framework/Versions/3.9/lib/python3.9/site-packages/pandas/core/indexing.py:1817: SettingWithCopyWarning: \n",
      "A value is trying to be set on a copy of a slice from a DataFrame.\n",
      "Try using .loc[row_indexer,col_indexer] = value instead\n",
      "\n",
      "See the caveats in the documentation: https://pandas.pydata.org/pandas-docs/stable/user_guide/indexing.html#returning-a-view-versus-a-copy\n",
      "  self._setitem_single_column(loc, value, pi)\n"
     ]
    }
   ],
   "source": [
    "# MAD Ave Quik Shop\n",
    "dump.loc[1845701, 'CountyNumber'] = 90\n",
    "dump.loc[1845701, 'StoreLocation'] = 'POINT (-92.41041400000002 40.999034)'"
   ]
  },
  {
   "cell_type": "code",
   "execution_count": 343,
   "id": "47304a66-87a6-45bb-b7d8-2554e96f872c",
   "metadata": {},
   "outputs": [
    {
     "name": "stderr",
     "output_type": "stream",
     "text": [
      "/Library/Frameworks/Python.framework/Versions/3.9/lib/python3.9/site-packages/pandas/core/indexing.py:1817: SettingWithCopyWarning: \n",
      "A value is trying to be set on a copy of a slice from a DataFrame.\n",
      "Try using .loc[row_indexer,col_indexer] = value instead\n",
      "\n",
      "See the caveats in the documentation: https://pandas.pydata.org/pandas-docs/stable/user_guide/indexing.html#returning-a-view-versus-a-copy\n",
      "  self._setitem_single_column(loc, value, pi)\n"
     ]
    }
   ],
   "source": [
    "# Sauce\n",
    "dump.loc[74979, 'CountyNumber'] = 52\n",
    "dump.loc[74979, 'Address'] = '108 East College Street'"
   ]
  },
  {
   "cell_type": "code",
   "execution_count": 314,
   "id": "6d42b282-8a3c-498f-973f-179552b449a7",
   "metadata": {},
   "outputs": [
    {
     "name": "stderr",
     "output_type": "stream",
     "text": [
      "/Library/Frameworks/Python.framework/Versions/3.9/lib/python3.9/site-packages/pandas/core/indexing.py:1817: SettingWithCopyWarning: \n",
      "A value is trying to be set on a copy of a slice from a DataFrame.\n",
      "Try using .loc[row_indexer,col_indexer] = value instead\n",
      "\n",
      "See the caveats in the documentation: https://pandas.pydata.org/pandas-docs/stable/user_guide/indexing.html#returning-a-view-versus-a-copy\n",
      "  self._setitem_single_column(loc, value, pi)\n"
     ]
    }
   ],
   "source": [
    "# one that I forget\n",
    "dump.loc[2928763, 'CountyNumber'] = 94"
   ]
  },
  {
   "cell_type": "code",
   "execution_count": 337,
   "id": "2afb4a15-71e6-4599-bc5e-34d90ead89c3",
   "metadata": {},
   "outputs": [
    {
     "data": {
      "text/html": [
       "<div>\n",
       "<style scoped>\n",
       "    .dataframe tbody tr th:only-of-type {\n",
       "        vertical-align: middle;\n",
       "    }\n",
       "\n",
       "    .dataframe tbody tr th {\n",
       "        vertical-align: top;\n",
       "    }\n",
       "\n",
       "    .dataframe thead th {\n",
       "        text-align: right;\n",
       "    }\n",
       "</style>\n",
       "<table border=\"1\" class=\"dataframe\">\n",
       "  <thead>\n",
       "    <tr style=\"text-align: right;\">\n",
       "      <th></th>\n",
       "      <th>index</th>\n",
       "      <th>Date</th>\n",
       "      <th>StoreNumber</th>\n",
       "      <th>StoreName</th>\n",
       "      <th>Address</th>\n",
       "      <th>City</th>\n",
       "      <th>ZipCode</th>\n",
       "      <th>StoreLocation</th>\n",
       "      <th>CountyNumber</th>\n",
       "    </tr>\n",
       "  </thead>\n",
       "  <tbody>\n",
       "    <tr>\n",
       "      <th>229895</th>\n",
       "      <td>8308.0</td>\n",
       "      <td>2022-02-28</td>\n",
       "      <td>5713</td>\n",
       "      <td>Brooklyn Grocery Liquor LLC</td>\n",
       "      <td>122 East Front Street</td>\n",
       "      <td>Brooklyn</td>\n",
       "      <td>52211</td>\n",
       "      <td>POINT (-92.444377 41.728699)</td>\n",
       "      <td>79.0</td>\n",
       "    </tr>\n",
       "    <tr>\n",
       "      <th>853729</th>\n",
       "      <td>10389.0</td>\n",
       "      <td>2022-02-28</td>\n",
       "      <td>5284</td>\n",
       "      <td>Brooklyn Grocery</td>\n",
       "      <td>122, Front St.</td>\n",
       "      <td>Brooklyn</td>\n",
       "      <td>52211</td>\n",
       "      <td>POINT (-92.444377 41.728699)</td>\n",
       "      <td>79.0</td>\n",
       "    </tr>\n",
       "    <tr>\n",
       "      <th>1481356</th>\n",
       "      <td>24122.0</td>\n",
       "      <td>2022-02-24</td>\n",
       "      <td>6061</td>\n",
       "      <td>Brooklyn Grocery</td>\n",
       "      <td>122 E Front St</td>\n",
       "      <td>Brooklyn</td>\n",
       "      <td>52211</td>\n",
       "      <td>POINT (-92.444377 41.728699)</td>\n",
       "      <td>79.0</td>\n",
       "    </tr>\n",
       "  </tbody>\n",
       "</table>\n",
       "</div>"
      ],
      "text/plain": [
       "           index       Date  StoreNumber                    StoreName  \\\n",
       "229895    8308.0 2022-02-28         5713  Brooklyn Grocery Liquor LLC   \n",
       "853729   10389.0 2022-02-28         5284             Brooklyn Grocery   \n",
       "1481356  24122.0 2022-02-24         6061             Brooklyn Grocery   \n",
       "\n",
       "                       Address      City ZipCode  \\\n",
       "229895   122 East Front Street  Brooklyn   52211   \n",
       "853729          122, Front St.  Brooklyn   52211   \n",
       "1481356         122 E Front St  Brooklyn   52211   \n",
       "\n",
       "                        StoreLocation  CountyNumber  \n",
       "229895   POINT (-92.444377 41.728699)          79.0  \n",
       "853729   POINT (-92.444377 41.728699)          79.0  \n",
       "1481356  POINT (-92.444377 41.728699)          79.0  "
      ]
     },
     "execution_count": 337,
     "metadata": {},
     "output_type": "execute_result"
    }
   ],
   "source": [
    "dump[dump.City == 'Brooklyn']"
   ]
  },
  {
   "cell_type": "code",
   "execution_count": 335,
   "id": "63f6d004-6f97-407b-96bf-f937c886d6d8",
   "metadata": {},
   "outputs": [
    {
     "name": "stderr",
     "output_type": "stream",
     "text": [
      "/Library/Frameworks/Python.framework/Versions/3.9/lib/python3.9/site-packages/pandas/core/indexing.py:1817: SettingWithCopyWarning: \n",
      "A value is trying to be set on a copy of a slice from a DataFrame.\n",
      "Try using .loc[row_indexer,col_indexer] = value instead\n",
      "\n",
      "See the caveats in the documentation: https://pandas.pydata.org/pandas-docs/stable/user_guide/indexing.html#returning-a-view-versus-a-copy\n",
      "  self._setitem_single_column(loc, value, pi)\n"
     ]
    }
   ],
   "source": [
    "dump.loc[853729,'CountyNumber']= 79"
   ]
  },
  {
   "cell_type": "code",
   "execution_count": 336,
   "id": "13424d78-1264-4deb-8860-93dcf0406d4d",
   "metadata": {},
   "outputs": [],
   "source": [
    "# Brooklyn Grocery\n",
    "dump.loc[853729,'StoreLocation'] = dump.loc[229895,:].StoreLocation\n",
    "dump.loc[853729,'CountyNumber']= 79"
   ]
  },
  {
   "cell_type": "code",
   "execution_count": 378,
   "id": "f4d6e0ac-267b-4123-ab5e-a299ebff3794",
   "metadata": {
    "tags": []
   },
   "outputs": [],
   "source": [
    "dump.StoreNumber = dump.StoreNumber.astype(int)\n",
    "dump.CountyNumber = dump.CountyNumber.astype(int)"
   ]
  },
  {
   "cell_type": "code",
   "execution_count": 379,
   "id": "a185f14e-5e62-49bf-b43a-152cb133b633",
   "metadata": {},
   "outputs": [],
   "source": [
    "dump.to_csv(\"./data/store_data.csv\")"
   ]
  },
  {
   "cell_type": "markdown",
   "id": "54ebca8b-be74-4298-9db1-067a0fa21985",
   "metadata": {
    "tags": []
   },
   "source": [
    "## Store Data Done! All data cleaning Complete!"
   ]
  },
  {
   "cell_type": "markdown",
   "id": "04988710-a9e5-4181-9c99-108605deb295",
   "metadata": {},
   "source": [
    "Things we can still do to the data:\n",
    "    \n",
    "- add point locations for missing StoreLocations\n",
    "- verify missingness"
   ]
  }
 ],
 "metadata": {
  "kernelspec": {
   "display_name": "Python 3 (ipykernel)",
   "language": "python",
   "name": "python3"
  },
  "language_info": {
   "codemirror_mode": {
    "name": "ipython",
    "version": 3
   },
   "file_extension": ".py",
   "mimetype": "text/x-python",
   "name": "python",
   "nbconvert_exporter": "python",
   "pygments_lexer": "ipython3",
   "version": "3.9.9"
  }
 },
 "nbformat": 4,
 "nbformat_minor": 5
}
